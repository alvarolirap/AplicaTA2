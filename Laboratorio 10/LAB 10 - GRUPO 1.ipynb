{
 "cells": [
  {
   "cell_type": "markdown",
   "metadata": {},
   "source": [
    "# Introducción"
   ]
  },
  {
   "cell_type": "markdown",
   "metadata": {},
   "source": [
    "En el presente laboratorio se solicitó entrenar un *Character-level Languaje Model* basado en *Recurrent Neural Network* (RNN) sobre un conjunto de textos, que en este caso es el libro *War and Peace* del escritor ruso Leo Tolstoy, publicada en 1869.\n",
    "\n",
    "El objetivo del laboratorio es usar el modelo generado para predecir y generar texto completamente nuevo en base del original, para su posterior análisis.\n",
    "\n",
    "Dicho libro se encontrará en formato **.txt** con un peso de 3.3 MB, siguiendo la sugerencia de tener como mínimo un tamaño de 2 MB, para poder generar un modelo aceptable."
   ]
  },
  {
   "cell_type": "markdown",
   "metadata": {},
   "source": [
    "* Recurrent Neural Network (RNN): https://chunml.github.io/ChunML.github.io/project/Creating-Text-Generator-Using-Recurrent-Neural-Network/\n",
    "* DataSet: https://cs.stanford.edu/people/karpathy/char-rnn/"
   ]
  },
  {
   "cell_type": "markdown",
   "metadata": {},
   "source": [
    "## Índice\n",
    "1. Instalación de Librerías\n",
    "2. Procesamiento\n",
    "3. Entrenamiento y Prueba\n",
    "4. Generación de texto"
   ]
  },
  {
   "cell_type": "markdown",
   "metadata": {},
   "source": [
    "## Ejecución\n",
    "\n",
    "* Desde 0: Puntos 1-4\n",
    "* Entrenar: Puntos 1, 2, **Entrenamiento** de 3, 4\n",
    "* Generar texto: Puntos 1, 2 y 4"
   ]
  },
  {
   "cell_type": "markdown",
   "metadata": {},
   "source": [
    "# 1. Instalación de Librerías"
   ]
  },
  {
   "cell_type": "markdown",
   "metadata": {},
   "source": [
    "## Windows"
   ]
  },
  {
   "cell_type": "markdown",
   "metadata": {},
   "source": [
    "Usando Anaconda Prompt se debe usar los siguientes comandos para importar la librería de Keras. Entrar en modo administrador a Anaconda Prompt e introducir los siguientes comandos.\n",
    "\n",
    "```conda update conda ```\n",
    "<br>```conda install keras ```"
   ]
  },
  {
   "cell_type": "markdown",
   "metadata": {},
   "source": [
    "## Linux"
   ]
  },
  {
   "cell_type": "markdown",
   "metadata": {},
   "source": [
    "Usar los siguientes comandos."
   ]
  },
  {
   "cell_type": "code",
   "execution_count": null,
   "metadata": {},
   "outputs": [],
   "source": [
    "#!pip install cython --user\n",
    "#!pip install --force-reinstall regex==2017.04.5\n",
    "#!pip install pathlib --user\n",
    "#!pip install msgpack --user\n",
    "!pip install tensorflow-gpu --user\n",
    "!pip install keras --user"
   ]
  },
  {
   "cell_type": "markdown",
   "metadata": {},
   "source": [
    "## Verificación"
   ]
  },
  {
   "cell_type": "markdown",
   "metadata": {},
   "source": [
    "Pruebo la correcta importación de librerías."
   ]
  },
  {
   "cell_type": "code",
   "execution_count": 2,
   "metadata": {},
   "outputs": [
    {
     "name": "stderr",
     "output_type": "stream",
     "text": [
      "C:\\Users\\USER\\Anaconda3\\lib\\site-packages\\h5py\\__init__.py:36: FutureWarning: Conversion of the second argument of issubdtype from `float` to `np.floating` is deprecated. In future, it will be treated as `np.float64 == np.dtype(float).type`.\n",
      "  from ._conv import register_converters as _register_converters\n"
     ]
    },
    {
     "name": "stdout",
     "output_type": "stream",
     "text": [
      "b'Hello, TF!'\n"
     ]
    }
   ],
   "source": [
    "import tensorflow as tf\n",
    "hello = tf.constant(\"Hello, TF!\")\n",
    "sess = tf.Session()\n",
    "print(sess.run(hello))"
   ]
  },
  {
   "cell_type": "code",
   "execution_count": 3,
   "metadata": {},
   "outputs": [
    {
     "name": "stdout",
     "output_type": "stream",
     "text": [
      "42\n"
     ]
    }
   ],
   "source": [
    "a = tf.constant(10)\n",
    "b = tf.constant(32)\n",
    "print(sess.run(a + b))"
   ]
  },
  {
   "cell_type": "code",
   "execution_count": 4,
   "metadata": {},
   "outputs": [
    {
     "name": "stderr",
     "output_type": "stream",
     "text": [
      "Using TensorFlow backend.\n"
     ]
    }
   ],
   "source": [
    "import keras"
   ]
  },
  {
   "cell_type": "markdown",
   "metadata": {},
   "source": [
    "# 2. Procesamiento"
   ]
  },
  {
   "cell_type": "markdown",
   "metadata": {},
   "source": [
    "## Definición de Variables"
   ]
  },
  {
   "cell_type": "code",
   "execution_count": 5,
   "metadata": {},
   "outputs": [],
   "source": [
    "from __future__ import print_function\n",
    "import matplotlib.pyplot as plt\n",
    "import numpy as np\n",
    "import time\n",
    "import csv\n",
    "from keras.models import Sequential\n",
    "from keras.layers.core import Dense, Activation, Dropout\n",
    "from keras.layers.recurrent import LSTM, SimpleRNN\n",
    "from keras.layers.wrappers import TimeDistributed\n",
    "import pickle"
   ]
  },
  {
   "cell_type": "code",
   "execution_count": 6,
   "metadata": {},
   "outputs": [],
   "source": [
    "#Archivo de texto \n",
    "DATA_DIR = \"./warpeace_input.txt\" \n",
    "#Modificar BATCH_SIZE o HIDDEN_DIM en caso tengan problemas de memoria\n",
    "BATCH_SIZE = 50 \n",
    "HIDDEN_DIM = 250 #500\n",
    "#Parametro para longitud de secuencia a analizar\n",
    "SEQ_LENGTH = 50 \n",
    "#Parametro para cargar un pesos previamente entrenados (checkpoint)\n",
    "WEIGHTS = '' \n",
    "\n",
    "#Parametro para indicar cuantos caracteres generar en cada prueba\n",
    "GENERATE_LENGTH = 500 \n",
    "#Parametros para la red neuronal\n",
    "LAYER_NUM = 2 \n",
    "NB_EPOCH = 20"
   ]
  },
  {
   "cell_type": "markdown",
   "metadata": {},
   "source": [
    "## Definición de Funciones"
   ]
  },
  {
   "cell_type": "markdown",
   "metadata": {},
   "source": [
    "### Función A\n",
    "(1) Carga de un archivo de texto, (2) Construcción de estructuras de entrada y salida de la red."
   ]
  },
  {
   "cell_type": "code",
   "execution_count": 9,
   "metadata": {},
   "outputs": [],
   "source": [
    "# method for preparing the training data\n",
    "def load_data(data_dir, seq_length):\n",
    "    #Carga del archivo\n",
    "    data = open(data_dir, 'r').read()\n",
    "    #Caracteres unicos\n",
    "    chars = list(set(data))\n",
    "    VOCAB_SIZE = len(chars)\n",
    "\n",
    "    print('Data length: {} characters'.format(len(data)))\n",
    "    print('Vocabulary size: {} characters'.format(VOCAB_SIZE))\n",
    "    print(chars)\n",
    "    \n",
    "    #Indexacion de los caracteres\n",
    "    ix_to_char = {ix:char for ix, char in enumerate(chars)}\n",
    "    char_to_ix = {char:ix for ix, char in enumerate(chars)}\n",
    "    \n",
    "    #Estructuras de entrada y salida\n",
    "    NUMBER_OF_SEQ = int(len(data)/seq_length)\n",
    "    print('Number of sequences: {}'.format(NUMBER_OF_SEQ))\n",
    "    X = np.zeros((NUMBER_OF_SEQ, seq_length, VOCAB_SIZE))\n",
    "    y = np.zeros((NUMBER_OF_SEQ, seq_length, VOCAB_SIZE))\n",
    "    \n",
    "    for i in range(0, NUMBER_OF_SEQ):\n",
    "        #LLenado de la estructura de entrada X\n",
    "        X_sequence = data[i*seq_length:(i+1)*seq_length]\n",
    "        X_sequence_ix = [char_to_ix[value] for value in X_sequence]\n",
    "        #one-hot-vector (input)\n",
    "        input_sequence = np.zeros((seq_length, VOCAB_SIZE))  \n",
    "        #uso del diccionario para completar el one-hot-vector\n",
    "        for j in range(seq_length):\n",
    "            input_sequence[j][X_sequence_ix[j]] = 1.\n",
    "            X[i] = input_sequence\n",
    "            \n",
    "        #Llenado de la estructura de salida y\n",
    "        y_sequence = data[i*seq_length+1:(i+1)*seq_length+1]\n",
    "        y_sequence_ix = [char_to_ix[value] for value in y_sequence]\n",
    "        #one-hot-vector (output)\n",
    "        target_sequence = np.zeros((seq_length, VOCAB_SIZE))\n",
    "        #uso del diccionario para completar el one-hot-vector\n",
    "        for j in range(seq_length):\n",
    "            target_sequence[j][y_sequence_ix[j]] = 1.\n",
    "            y[i] = target_sequence\n",
    "            \n",
    "    return X, y, VOCAB_SIZE, ix_to_char"
   ]
  },
  {
   "cell_type": "markdown",
   "metadata": {},
   "source": [
    "### Función B\n",
    "Generación de textos."
   ]
  },
  {
   "cell_type": "code",
   "execution_count": 10,
   "metadata": {},
   "outputs": [],
   "source": [
    "# method for generating text\n",
    "def generate_text(model, length, vocab_size, ix_to_char):\n",
    "    # starting with random character\n",
    "    ix = [np.random.randint(vocab_size)]\n",
    "    y_char = [ix_to_char[ix[-1]]]\n",
    "    X = np.zeros((1, length, vocab_size))\n",
    "    for i in range(length):\n",
    "        # appending the last predicted character to sequence\n",
    "        X[0, i, :][ix[-1]] = 1\n",
    "        print(ix_to_char[ix[-1]], end=\"\")\n",
    "        ix = np.argmax(model.predict(X[:, :i+1, :])[0], 1)\n",
    "        y_char.append(ix_to_char[ix[-1]])\n",
    "    return ('').join(y_char)"
   ]
  },
  {
   "cell_type": "markdown",
   "metadata": {},
   "source": [
    "### Función C\n",
    "Obtener el tamaño del vocabulario."
   ]
  },
  {
   "cell_type": "code",
   "execution_count": 21,
   "metadata": {},
   "outputs": [],
   "source": [
    "def vocab_size(data_dir):\n",
    "    #Carga del archivo\n",
    "    data = open(data_dir, 'r').read()\n",
    "    #Caracteres unicos\n",
    "    chars = list(set(data))\n",
    "    return len(chars)"
   ]
  },
  {
   "cell_type": "markdown",
   "metadata": {},
   "source": [
    "# 3. Entrenamiento y Prueba"
   ]
  },
  {
   "cell_type": "markdown",
   "metadata": {},
   "source": [
    "## Creación de Diccionario\n",
    "\n",
    "*** ADVERTENCIA: NO EJECUTAR ESTA SECCIÓN SI ES QUE YA EXISTEN CHECKPOINTS Y IX_TO_CHAR ***"
   ]
  },
  {
   "cell_type": "markdown",
   "metadata": {},
   "source": [
    "Uso de la Función A: carga de los datos."
   ]
  },
  {
   "cell_type": "code",
   "execution_count": 11,
   "metadata": {},
   "outputs": [
    {
     "name": "stdout",
     "output_type": "stream",
     "text": [
      "Data length: 3196232 characters\n",
      "Vocabulary size: 86 characters\n",
      "['C', 'o', 'p', 'h', 'e', 'c', 'x', 'q', '(', '6', '0', '4', '.', 'O', 'K', 'Z', '¿', 'L', '!', 'Y', 'N', 'j', '*', '©', 'z', 'A', 's', 'D', '\"', '5', 'a', '2', 'B', 'G', '9', 'k', 'S', 'I', 'l', 'Q', 'ï', '3', 'H', 'F', ')', 'P', 'U', '¤', '»', '1', 'R', 'T', '-', 'Ã', \"'\", '=', 'X', 'i', 'v', 'J', 'ª', '8', ' ', 'w', '7', 'r', '?', 'E', ',', '\\xa0', ';', 'y', 'W', 'g', 'b', ':', 'f', 'V', '\\n', 'n', 'd', 'u', 't', '/', 'M', 'm']\n",
      "Number of sequences: 63924\n"
     ]
    }
   ],
   "source": [
    "# Creating training data\n",
    "X, y, VOCAB_SIZE, ix_to_char = load_data(DATA_DIR, SEQ_LENGTH)"
   ]
  },
  {
   "cell_type": "markdown",
   "metadata": {},
   "source": [
    "Es importante guardar el diccionario `ix_to_char` en un archivo binario. Este debe ser cargado cada vez que se quiera retomar el entrenamiento o generar texto a partir de un *checkpoint*, debido a que el orden de los caracteres en el diccionario podría modificarse (no es un orden fijo).\n",
    "\n",
    "***NO MODIFICAR ESTE PICKLE AL REINICIAR EL NOTEBOOK PARA PROBAR CHECKPOINTS***"
   ]
  },
  {
   "cell_type": "code",
   "execution_count": 11,
   "metadata": {},
   "outputs": [],
   "source": [
    "#No modificar el pickle al reiniciar el cuaderno de trabajo para probar checkpoints previos\n",
    "with open('ix_to_char.pickle', 'wb') as handle:\n",
    "    pickle.dump(ix_to_char, handle, protocol=pickle.HIGHEST_PROTOCOL)"
   ]
  },
  {
   "cell_type": "code",
   "execution_count": 12,
   "metadata": {},
   "outputs": [
    {
     "name": "stdout",
     "output_type": "stream",
     "text": [
      "{0: '.', 1: '2', 2: 'v', 3: 'a', 4: 'B', 5: '!', 6: '(', 7: 'W', 8: 'u', 9: 'q', 10: 'o', 11: 'U', 12: 'b', 13: 'D', 14: 'z', 15: 'f', 16: 'n', 17: '¤', 18: ' ', 19: 'r', 20: '?', 21: 'C', 22: 't', 23: '9', 24: '/', 25: 'k', 26: 'Q', 27: 'S', 28: '\\xa0', 29: 'x', 30: 'Z', 31: 'L', 32: '»', 33: '©', 34: 'N', 35: 'K', 36: '*', 37: 'ï', 38: \"'\", 39: 'y', 40: 'I', 41: '¿', 42: 'l', 43: ';', 44: ':', 45: 's', 46: 'V', 47: 'A', 48: 'g', 49: 'G', 50: '0', 51: 'i', 52: 'Ã', 53: '4', 54: 'Y', 55: 'M', 56: '=', 57: 'H', 58: '1', 59: 'w', 60: 'j', 61: '6', 62: '\"', 63: 'P', 64: '3', 65: '-', 66: '5', 67: 'd', 68: 'm', 69: 'J', 70: ',', 71: '8', 72: 'h', 73: 'T', 74: 'F', 75: '\\n', 76: 'c', 77: 'p', 78: ')', 79: 'X', 80: 'ª', 81: 'O', 82: 'R', 83: 'e', 84: '7', 85: 'E'}\n"
     ]
    }
   ],
   "source": [
    "print(ix_to_char)"
   ]
  },
  {
   "cell_type": "code",
   "execution_count": 12,
   "metadata": {},
   "outputs": [
    {
     "name": "stdout",
     "output_type": "stream",
     "text": [
      "(63924, 50, 86) (63924, 50, 86) 86\n"
     ]
    }
   ],
   "source": [
    "print(X.shape, y.shape, VOCAB_SIZE)"
   ]
  },
  {
   "cell_type": "markdown",
   "metadata": {},
   "source": [
    "## Entrenamiento\n",
    "\n",
    "*** ADVERTENCIA: EJECUTAR DESDE ACÁ PARA ENTRENAR AL MODELO ***"
   ]
  },
  {
   "cell_type": "markdown",
   "metadata": {},
   "source": [
    "### Creación de la RNN (LSTM)"
   ]
  },
  {
   "cell_type": "code",
   "execution_count": 26,
   "metadata": {},
   "outputs": [],
   "source": [
    "VOCAB_SIZE = vocab_size(DATA_DIR)"
   ]
  },
  {
   "cell_type": "code",
   "execution_count": 28,
   "metadata": {},
   "outputs": [],
   "source": [
    "# Creating and compiling the Network\n",
    "model = Sequential()\n",
    "\n",
    "#Añadiendo las capas LSTM\n",
    "model.add(LSTM(HIDDEN_DIM, input_shape=(None, VOCAB_SIZE), return_sequences=True))\n",
    "for i in range(LAYER_NUM - 1):\n",
    "    model.add(LSTM(HIDDEN_DIM, return_sequences=True))\n",
    "#Añadiendo la operacion de salida\n",
    "model.add(TimeDistributed(Dense(VOCAB_SIZE)))\n",
    "model.add(Activation('softmax'))\n",
    "\n",
    "#\"Compilando\" = instanciando la RNN con su función de pérdida y optimización\n",
    "model.compile(loss=\"categorical_crossentropy\", optimizer=\"rmsprop\")"
   ]
  },
  {
   "cell_type": "code",
   "execution_count": 29,
   "metadata": {},
   "outputs": [
    {
     "name": "stdout",
     "output_type": "stream",
     "text": [
      "c\"00JJ6666//(88888888888Zk//8888888k///88888:::::777LLLLLMMMJJJJOO(h6666//((8888888888Zk//8888888k///88888:::::777LLLLLMMMJJJJOO(h6666//((8888888888Zk//8888888k///88888:::::777LLLLLMMMJJJJOO(h6666//((8888888888Zk//8888888k///88888:::::777LLLLLMMMJJJJOO(h6666//((8888888888Zk//8888888k///88888:::::777LLLLLMMMJJJJOO(h6666//((8888888888Zk//8888888k///88888:::::777LLLLLMMMJJJJOO(h6666//((8888888888Zk//8888888k///88888:::::777LLLLLMMMJJJJOO(h6666//((8888888888Zk//8888888k///88888:::::777LLLLLMMMJJJJOO"
     ]
    },
    {
     "data": {
      "text/plain": [
       "'c\"00JJ6666//(88888888888Zk//8888888k///88888:::::777LLLLLMMMJJJJOO(h6666//((8888888888Zk//8888888k///88888:::::777LLLLLMMMJJJJOO(h6666//((8888888888Zk//8888888k///88888:::::777LLLLLMMMJJJJOO(h6666//((8888888888Zk//8888888k///88888:::::777LLLLLMMMJJJJOO(h6666//((8888888888Zk//8888888k///88888:::::777LLLLLMMMJJJJOO(h6666//((8888888888Zk//8888888k///88888:::::777LLLLLMMMJJJJOO(h6666//((8888888888Zk//8888888k///88888:::::777LLLLLMMMJJJJOO(h6666//((8888888888Zk//8888888k///88888:::::777LLLLLMMMJJJJOO('"
      ]
     },
     "execution_count": 29,
     "metadata": {},
     "output_type": "execute_result"
    }
   ],
   "source": [
    "# Generate some sample before training to know how bad it is!\n",
    "generate_text(model, GENERATE_LENGTH, VOCAB_SIZE, ix_to_char)"
   ]
  },
  {
   "cell_type": "markdown",
   "metadata": {},
   "source": [
    "### Generación de Modelo"
   ]
  },
  {
   "cell_type": "markdown",
   "metadata": {},
   "source": [
    "Se cargan los pesos (y el diccionario de los one-hot-vectors) en caso haya habido un entrenamiento previo. WEIGHTS debe tener el valor del nombre del archivo de \"checkpoint\" guardado.\n",
    "\n",
    "Por ejemplo: ```WEIGHTS = \"checkpoint_layer_2_hidden_250_epoch_60.hdf5\"```"
   ]
  },
  {
   "cell_type": "code",
   "execution_count": null,
   "metadata": {},
   "outputs": [],
   "source": [
    "#Se cargan los pesos de un entrenamiento previo (si se desea restaurar una ejecucion)\n",
    "#Se calcula el numero de epocas en base al nombre del archivo\n",
    "#Se carga el diccionario de caracteres (one-hot-vectors) para la generacion\n",
    "\n",
    "### WEIGHTS = \"checkpoint_layer_2_hidden_250_epoch_60.hdf5\" \n",
    "\n",
    "if not WEIGHTS == '':\n",
    "    model.load_weights(WEIGHTS)\n",
    "    nb_epoch = int(WEIGHTS[WEIGHTS.rfind('_') + 1:WEIGHTS.find('.')])\n",
    "    with open('ix_to_char.pickle', 'rb') as handle:\n",
    "        ix_to_char = pickle.load(handle)\n",
    "else:\n",
    "    #Si se va a empezar de 0:\n",
    "    nb_epoch = 0"
   ]
  },
  {
   "cell_type": "code",
   "execution_count": 20,
   "metadata": {},
   "outputs": [
    {
     "name": "stdout",
     "output_type": "stream",
     "text": [
      "\n",
      "\n",
      "Epoch: 0\n",
      "\n",
      "Epoch 1/1\n",
      "63924/63924 [==============================] - 479s 7ms/step - loss: 1.2856\n",
      "and the street was the same time the street was the same time the street was the same time the street was the same time the street was the same time the street was the same time the street was the same time the street was the same time the street was the same time the street was the same time the street was the same time the street was the same time the street was the same time the street was the same time the street was the same time the street was the same time the street was the same time the\n",
      "\n",
      "Epoch: 1\n",
      "\n",
      "Epoch 1/1\n",
      "63924/63924 [==============================] - 474s 7ms/step - loss: 1.2583\n",
      "7 the servants were standing at her son. He saw that he was standing and seemed to her son and she had seemed to her son and she had seemed to her son and she had seemed to her son and she had seemed to her son and she had seemed to her son and she had seemed to her son and she had seemed to her son and she had seemed to her son and she had seemed to her son and she had seemed to her son and she had seemed to her son and she had seemed to her son and she had seemed to her son and she had seemed \n",
      "\n",
      "Epoch: 2\n",
      "\n",
      "Epoch 1/1\n",
      "63924/63924 [==============================] - 474s 7ms/step - loss: 1.2373\n",
      "; the countess was standing and sat down beside him and the same time he had been decided to say that the man who had been decided to say that the man who had been decided to say that the man who had been decided to say that the man who had been decided to say that the man who had been decided to say that the man who had been decided to say that the man who had been decided to say that the man who had been decided to say that the man who had been decided to say that the man who had been decided \n",
      "\n",
      "Epoch: 3\n",
      "\n",
      "Epoch 1/1\n",
      "63924/63924 [==============================] - 484s 8ms/step - loss: 1.2200\n",
      "Just as the countess was the same time that had been taken to his face and the same time the countess was the same time that had been taken to his face and the same time the countess was the same time that had been taken to his face and the same time the countess was the same time that had been taken to his face and the same time the countess was the same time that had been taken to his face and the same time the countess was the same time that had been taken to his face and the same time the co\n",
      "\n",
      "Epoch: 4\n",
      "\n",
      "Epoch 1/1\n",
      "63924/63924 [==============================] - 460s 7ms/step - loss: 1.2056\n",
      "0* \"I am so for the more than a man who has been as a soldier and the matter with you and the matter with you and the matter with you and the matter with you and the matter with you and the matter with you and the matter with you and the matter with you and the matter with you and the matter with you and the matter with you and the matter with you and the matter with you and the matter with you and the matter with you and the matter with you and the matter with you and the matter with you and th\n",
      "\n",
      "Epoch: 5\n",
      "\n",
      "Epoch 1/1\n",
      "63924/63924 [==============================] - 477s 7ms/step - loss: 1.1932\n",
      "be the same time that he was always the same time the same time the same time the same time he was always the same time the same time the same time the same time he was always the same time the same time the same time the same time he was always the same time the same time the same time the same time he was always the same time the same time the same time the same time he was always the same time the same time the same time the same time he was always the same time the same time the same time th\n",
      "\n",
      "Epoch: 6\n",
      "\n",
      "Epoch 1/1\n",
      "63924/63924 [==============================] - 479s 7ms/step - loss: 1.1820\n",
      "1 the count and the count and the count and the count and the count and the count and the count and the count and the count and the count and the count and the count and the count and the count and the count and the count and the count and the count and the count and the count and the count and the count and the count and the count and the count and the count and the count and the count and the count and the count and the count and the count and the count and the count and the count and the coun\n",
      "\n",
      "Epoch: 7\n",
      "\n",
      "Epoch 1/1\n",
      "63924/63924 [==============================] - 476s 7ms/step - loss: 1.1722\n",
      ", and the countess was so strong the same thing and the same thing was a state of any of the people who had been a serious and strength of the commander-in-chief was a state of any of the people who had been a serious and strength of the commander-in-chief was a state of any of the people who had been a serious and strength of the commander-in-chief was a state of any of the people who had been a serious and strength of the commander-in-chief was a state of any of the people who had been a serio\n",
      "\n",
      "Epoch: 8\n",
      "\n",
      "Epoch 1/1\n",
      "63924/63924 [==============================] - 456s 7ms/step - loss: 1.1630\n",
      "ªted and the same smile with a smile of the staff officer of the staff officer of the staff officer of the staff officer of the staff officer of the staff officer of the staff officer of the staff officer of the staff officer of the staff officer of the staff officer of the staff officer of the staff officer of the staff officer of the staff officer of the staff officer of the staff officer of the staff officer of the staff officer of the staff officer of the staff officer of the staff officer o\n",
      "\n",
      "Epoch: 9\n",
      "\n",
      "Epoch 1/1\n",
      "63924/63924 [==============================] - 454s 7ms/step - loss: 1.1548\n",
      "He was saying to himself to the service of the service of the service of the service of the service of the consent to the consequences of the service who had been told to him and the same time he had noticed that the soldiers were being decided to be delighted to the countess and the same time he had noticed that the soldiers were being decided to be delighted to the countess and the same time he had noticed that the soldiers were being decided to be delighted to the countess and the same time h\n",
      "\n",
      "Epoch: 10\n",
      "\n",
      "Epoch 1/1\n",
      "63924/63924 [==============================] - 450s 7ms/step - loss: 1.1470\n",
      "re the countess and the countess and his son had been able to say something and said that he was a significance of the commander-in-chief. The countess was a strong and smiled and said that he was a significance of the commander-in-chief. The countess was a strong and smiled and said that he was a significance of the commander-in-chief. The countess was a strong and smiled and said that he was a significance of the commander-in-chief. The countess was a strong and smiled and said that he was a s\n",
      "\n",
      "Epoch: 11\n",
      "\n",
      "Epoch 1/1\n",
      "63924/63924 [==============================] - 448s 7ms/step - loss: 1.1400\n",
      "nd the count had been able to say that he was about to see the princess, and the count had been able to say that he was about to see the princess, and the count had been able to say that he was about to see the princess, and the count had been able to say that he was about to see the princess, and the count had been able to say that he was about to see the princess, and the count had been able to say that he was about to see the princess, and the count had been able to say that he was about to s\n",
      "\n",
      "Epoch: 12\n",
      "\n",
      "Epoch 1/1\n",
      "63924/63924 [==============================] - 448s 7ms/step - loss: 1.1331\n",
      "Emperor and the staff officer was all the same thing to see her father's face and the same state of an army who had been sent to the staff officer of the staff of the staff of the staff of the staff of the staff of the staff of the staff of the staff of the staff of the staff of the staff of the staff of the staff of the staff of the staff of the staff of the staff of the staff of the staff of the staff of the staff of the staff of the staff of the staff of the staff of the staff of the staff of\n",
      "\n",
      "Epoch: 13\n",
      "\n",
      "Epoch 1/1\n",
      "63924/63924 [==============================] - 449s 7ms/step - loss: 1.1269\n"
     ]
    },
    {
     "name": "stdout",
     "output_type": "stream",
     "text": [
      "I am sorry for your heart and the same thing is the same thing is the same thing is the same time and the same thing is the same time the same thing is the same time the same thing is the same time the same thing is the same time the same thing is the same time the same thing is the same time the same thing is the same time the same thing is the same time the same thing is the same time the same thing is the same time the same thing is the same time the same thing is the same time the same thing\n",
      "\n",
      "Epoch: 14\n",
      "\n",
      "Epoch 1/1\n",
      "63924/63924 [==============================] - 448s 7ms/step - loss: 1.1209\n",
      "0 the count was already and again and still looking at him with a smile.\n",
      "\n",
      "\"What does it matter to your honor?\" he asked his son and saw the state of the commander-in-chief.\n",
      "\n",
      "\"What does it matter to your honor?\" he asked his son and saw the state of the commander-in-chief.\n",
      "\n",
      "\"What does it matter to your honor?\" he asked his son and saw the state of the commander-in-chief.\n",
      "\n",
      "\"What does it matter to your honor?\" he asked his son and saw the state of the commander-in-chief.\n",
      "\n",
      "\"What does it matter to yo\n",
      "\n",
      "Epoch: 15\n",
      "\n",
      "Epoch 1/1\n",
      "63924/63924 [==============================] - 448s 7ms/step - loss: 1.1153\n",
      "ve and the same step the sounds of the staff of the staff of the staff of the staff of the staff of the staff of the staff of the staff of the staff of the staff of the staff of the staff of the staff of the staff of the staff of the staff of the staff of the staff of the staff of the staff of the staff of the staff of the staff of the staff of the staff of the staff of the staff of the staff of the staff of the staff of the staff of the staff of the staff of the staff of the staff of the staff \n",
      "\n",
      "Epoch: 16\n",
      "\n",
      "Epoch 1/1\n",
      "63924/63924 [==============================] - 450s 7ms/step - loss: 1.1099\n",
      "1 the countess was still the same thing that he was so much to do with the same thing that was the same thing that he was so much to do with the same thing that we are all still more than any of them. They are still an inviting the same thing that was the same thing that was the same thing that had been at the same time that had been at the same time he was sitting at the sight of the staff of the country and the staff officer was still the same thing that he was already at the same time that ha\n",
      "\n",
      "Epoch: 17\n",
      "\n",
      "Epoch 1/1\n",
      "63924/63924 [==============================] - 449s 7ms/step - loss: 1.1048\n",
      "d the countess was to stand and was about to see him and to the countess' handsome face and though he went out of the room and the countess was to stand and went out of the room.\n",
      "\n",
      "\"What a second men would be a single man and the countess with a mistake!\" he said, and with a smile.\n",
      "\n",
      "\"I will tell you that I want to see him and that I want to see him and that I want to see him and that I want to see him and that the count has been sent to the countess and the countess was to be seen in the distance\n",
      "\n",
      "Epoch: 18\n",
      "\n",
      "Epoch 1/1\n",
      "63924/63924 [==============================] - 449s 7ms/step - loss: 1.1000\n",
      "9 the count the countess said to himself and the staff officer was standing the staff officer of the commander of the commander-in-chief she was already started and the staff officer was standing that the countess had seen at the same time in the same way that the count turned the countess to the countess in the same way that the count turned the countess to the countess in the same way that the count turned the countess to the countess in the same way that the count turned the countess to the c\n",
      "\n",
      "Epoch: 19\n",
      "\n",
      "Epoch 1/1\n",
      "63924/63924 [==============================] - 450s 7ms/step - loss: 1.0954\n",
      "© the same thing and the same thing and the same thing and the same thing and the same thing and the same thing and the same thing and the same thing and the same thing and the same thing and the same thing and the same thing and the same thing and the same thing and the same thing and the same thing and the same thing and the same thing and the same thing and the same thing and the same thing and the same thing and the same thing and the same thing and the same thing and the same thing and the \n",
      "\n",
      "Epoch: 20\n",
      "\n",
      "Epoch 1/1\n",
      "63924/63924 [==============================] - 453s 7ms/step - loss: 1.0908\n",
      "7 the countess was the same as a single smile that had been at the same time and the countess was the same as a single armed steps to the countess and the countess was the same as a single smile that had been at the same time he had not at all supported that he was the same thing that he was always the same as the same thing that he was always the same as the same thing that he was always the same as the same thing that he was always the same as the same thing that he was always the same as the \n",
      "\n",
      "Epoch: 21\n",
      "\n",
      "Epoch 1/1\n",
      "63924/63924 [==============================] - 455s 7ms/step - loss: 1.0867\n",
      "French army was a stranger and the same thing that had been at the same time he had not seen the countess and the same time the same thing that had been at the same time he saw the countess and the same time he had not seen the countess and the same time the same thing that had been at the same time he saw the countess and the same time he had not seen the countess and the same time the same thing that had been at the same time he saw the countess and the same time he had not seen the countess a\n",
      "\n",
      "Epoch: 22\n",
      "\n",
      "Epoch 1/1\n",
      "63924/63924 [==============================] - 456s 7ms/step - loss: 1.0827\n",
      "Just as soon as the count was as if in a complete condition of the commanders of the service which had been at the same time he had already been able to say something in the same step the soldiers who had been sent to the count and the strength of the commanders of the staff of the room and a strange and agitation and agitation and agitation and agitation, and again and the sound of the count's house and the sound of the count's house and the sound of the count's house and the sound of the count\n",
      "\n",
      "Epoch: 23\n",
      "\n",
      "Epoch 1/1\n",
      "63924/63924 [==============================] - 456s 7ms/step - loss: 1.0787\n",
      "I am so sure to be a man who has been an account... I will tell you the same things and the same thing that was good and the same thing that was good and the same thing that was good and the same thing that was good and the same thing that was good and the same thing that was not a good thing to do the same thing and the same thing that was not a good thing to do the same thing and the same thing that was not a good thing to do the same thing and the same thing that was not a good thing to do th\n",
      "\n",
      "Epoch: 24\n",
      "\n",
      "Epoch 1/1\n",
      "63924/63924 [==============================] - 457s 7ms/step - loss: 1.0753\n",
      "; and the countess was to be a man of the commissariat officer and the sound of the commanders of the commissariat officer and the sound of the staff officer of the commissariat officer and the sound of the staff officer of the commissariat officer and the sound of the staff officer of the commissariat officer and the sound of the staff officer of the commissariat officer and the sound of the staff officer of the commissariat officer and the sound of the staff officer of the commissariat officer\n",
      "\n",
      "Epoch: 25\n",
      "\n",
      "Epoch 1/1\n",
      "63924/63924 [==============================] - 457s 7ms/step - loss: 1.0714\n",
      "ce Andrew was about to start a long time and the count had already been taken prisoner and the count had been taken prisoner and that the count was not a single armed steps on the staff of the company of the country and the same thing and the same thing is the count to have a look at the countess to the count and the count had been taken prisoner and that the count was not a single armed steps on the staff of the company of the country and the same thing and the same thing is the count to have a\n",
      "\n",
      "Epoch: 26\n",
      "\n",
      "Epoch 1/1\n",
      "63924/63924 [==============================] - 457s 7ms/step - loss: 1.0683\n"
     ]
    },
    {
     "name": "stdout",
     "output_type": "stream",
     "text": [
      "re the whole army, and the same thing that had been at the same time he was always the same thing that he was always the same to her. The countess was standing and shouting and shouting at his stay in the same way and went out of the room and stopped him and shouted at him and said that he was always distinguished at the same time he was always the same thing that he was always the same to her. The countess was standing and shouting and shouting at his stay in the same way and went out of the ro\n",
      "\n",
      "Epoch: 27\n",
      "\n",
      "Epoch 1/1\n",
      "63924/63924 [==============================] - 457s 7ms/step - loss: 1.0649\n",
      "» the count and the countess was struck by the countess and the countess was struck by the countess and the countess was struck by the countess and the countess was struck by the countess and the countess was struck by the countess and the countess was struck by the countess and the countess was struck by the countess and the countess was struck by the countess and the countess was struck by the countess and the countess was struck by the countess and the countess was struck by the countess and \n",
      "\n",
      "Epoch: 28\n",
      "\n",
      "Epoch 1/1\n",
      "63924/63924 [==============================] - 458s 7ms/step - loss: 1.0616\n",
      "n the same thing that the countess was so strongly and the same thing that he was all the same thing that he was all the same thing that he was all the same thing that he was all the same thing that he was all the same thing that he was all the same thing that he was all the same thing that he was all the same thing that he was all the same thing that he was all the same thing that he was all the same thing that he was all the same thing that he was all the same thing that he was all the same th\n",
      "\n",
      "Epoch: 29\n",
      "\n",
      "Epoch 1/1\n",
      "63924/63924 [==============================] - 457s 7ms/step - loss: 1.0585\n",
      "me to see him and the stranger that he was always so anxious to see him and the stranger that he was always so anxious to see him and the stranger that he was always so anxious to see him and the stranger that he was always so anxious to see him and the stranger that he was always so anxious to see him and the stranger that he was always so anxious to see him and the stranger that he was always so anxious to see him and the stranger that he was always so anxious to see him and the stranger that \n",
      "\n",
      "Epoch: 30\n",
      "\n",
      "Epoch 1/1\n",
      "63924/63924 [==============================] - 458s 7ms/step - loss: 1.0557\n",
      "Emperor did not seem to him and the count was about to sit down to the staff of his comrades who had been an advance and had seemed to him that the countess had been sent to the countess and was about to see her father and had started and the countess could not see him. He was always away to see him and the count was about to sit down to the staff of his comrades who had been an advance and had seemed to him that the countess had been sent to the countess and was about to see her father and had \n",
      "\n",
      "Epoch: 31\n",
      "\n",
      "Epoch 1/1\n",
      "63924/63924 [==============================] - 458s 7ms/step - loss: 1.0527\n",
      "She was standing in the direction of the countess and the soldiers were to be seen in the same way through the streets and the soldiers were to be seen in the same way through the streets and the soldiers were to be seen in the same way through the streets and the soldiers were to be seen in the same way through the streets and the soldiers were to be seen in the same way through the streets and the soldiers were to be seen in the same way through the streets and the soldiers were to be seen in \n",
      "\n",
      "Epoch: 32\n",
      "\n",
      "Epoch 1/1\n",
      "63924/63924 [==============================] - 462s 7ms/step - loss: 1.0502\n",
      "Quite lost a state of affairs, and the sound of the staff of the sun and strengthened in the same way to his suite which seemed to him that he was always the same thing to see him and the sound of the staff of the sun and strengthened in the same way to his suite which seemed to him that he was always the same thing to see him and the sound of the staff of the sun and strengthened in the same way to his suite which seemed to him that he was always the same thing to see him and the sound of the s\n",
      "\n",
      "Epoch: 33\n",
      "\n",
      "Epoch 1/1\n",
      "63924/63924 [==============================] - 461s 7ms/step - loss: 1.0475\n",
      "Uncle\" as he had seen him in the courtyard of the commander-in-chief.\n",
      "\n",
      "\"Who is it you are all gone to the countess and the count is in danger.... What a second of the people were stationed by the same as a single moment of the country, and that it was all the same to him that the countess was still the same thing that the prince was already speaking to him and the soldiers were standing in the same way to the other side of the staff officer of the soldiers and the soldiers were continually arriv\n",
      "\n",
      "Epoch: 34\n",
      "\n",
      "Epoch 1/1\n",
      "63924/63924 [==============================] - 461s 7ms/step - loss: 1.0449\n",
      "God who had been sent to Moscow to the Emperor and the countess was to be able to save himself to the countess and showed him to the countess and shoulders and smile of the strength of the commander-in-chief was still the same time and the strength of the commander-in-chief was still the same time and the strength of the commander-in-chief was still the same time and the strength of the commander-in-chief was still the same time and the strength of the commander-in-chief was still the same time \n",
      "\n",
      "Epoch: 35\n",
      "\n",
      "Epoch 1/1\n",
      "63924/63924 [==============================] - 462s 7ms/step - loss: 1.0424\n",
      "commander-in-chief and the same words and the same way to his wife's desire to see him and the sound of the staff of the commander-in-chief.\n",
      "\n",
      "\"Who do you think? I don't know what I have not the same thing as a scene of the man who have a soldier who was to speak of him. I am so sure that all the same thing as a subordinate destruction. It was a single sense of a man who had been a second and state and the same thing that he was always the same as a sign of a man who had always seen him and the s\n",
      "\n",
      "Epoch: 36\n",
      "\n",
      "Epoch 1/1\n",
      "63924/63924 [==============================] - 462s 7ms/step - loss: 1.0400\n",
      "Kutuzov and the countess also rose and the sound of the country not the same step toward the officer of the soldiers and the sound of the country not the same step toward the officer of the soldiers and the sound of the country not the same step toward the officer of the soldiers and the sound of the country not the same step toward the officer of the soldiers and the sound of the country not the same step toward the officer of the soldiers and the sound of the country not the same step toward t\n",
      "\n",
      "Epoch: 37\n",
      "\n",
      "Epoch 1/1\n",
      "63924/63924 [==============================] - 462s 7ms/step - loss: 1.0379\n",
      "When the countess was to be an answer. The countess was in a state of affairs, and the countess was to be a man of society in the morning and the same as a man who had been an adjutant to the commander-in-chief's dissatisfied with the count and the sound of the commander-in-chief's dissatisfied with the count and the sound of the commander-in-chief's dissatisfied with the count and the sound of the commander-in-chief's dissatisfied with the count and the sound of the commander-in-chief's dissati\n",
      "\n",
      "Epoch: 38\n",
      "\n",
      "Epoch 1/1\n",
      "63924/63924 [==============================] - 463s 7ms/step - loss: 1.0356\n",
      "y and the same service was a small group of family and stopped behind the count and the same shouts of the soldiers who was a special strength of the second of September, and the same sad smile on his lips and shouting and said in a tone of the princess and the same smile of the streets and the same shouts of the country house and the same service was a small group of someone's battle and the same sort of thing that had been sent to Madame Schoss, and the same service was a small group of someon\n",
      "\n",
      "Epoch: 39\n",
      "\n",
      "Epoch 1/1\n",
      "63924/63924 [==============================] - 465s 7ms/step - loss: 1.0339\n"
     ]
    },
    {
     "name": "stdout",
     "output_type": "stream",
     "text": [
      ", and the countess was a great deal of mutual tone of the contrary to the right of the countess' handsome, and the sound of the consciousness of the contradiction of the contradiction of the contradiction of the contradiction of the contradiction of the contradiction of the contradiction of the contradiction of the contradiction of the contradiction of the contradiction of the contradiction of the contradiction of the contradiction of the contradiction of the contradiction of the contradiction o\n",
      "\n",
      "Epoch: 40\n",
      "\n",
      "Epoch 1/1\n",
      "63924/63924 [==============================] - 462s 7ms/step - loss: 1.0316\n",
      "he same step toward the door of the study to the right and saw the soldiers who had been a secret sitting room with a smile.\n",
      "\n",
      "\"Who do you think? What do you think? Who are you?\" said the countess.\n",
      "\n",
      "\"I have the honor to the Emperor to the countess and the countess all right?\" he asked.\n",
      "\n",
      "\"What is it? What?\" asked the countess.\n",
      "\n",
      "\"What are you staying at my brother is the more destruction of the man who do not know what I say is in the least and your honor to anyone?\" he thought, and again asked him\n",
      "\n",
      "Epoch: 41\n",
      "\n",
      "Epoch 1/1\n",
      "63924/63924 [==============================] - 463s 7ms/step - loss: 1.0296\n",
      "0 Uncle's\" reason and the same thing that had been at least significantly.\n",
      "\n",
      "At the same time he saw the countess and the sound of the countess and the sound of the countess and the sound of the countess and the sound of the countess and the sound of the countess and the sound of the countess and the sound of the countess and the sound of the countess and the sound of the countess and the sound of the countess and the sound of the countess and the sound of the countess and the sound of the counte\n",
      "\n",
      "Epoch: 42\n",
      "\n",
      "Epoch 1/1\n",
      "63924/63924 [==============================] - 464s 7ms/step - loss: 1.0276\n",
      "6 the steps of the staff of his face and the sound of the staff of the senior of the second command which he had been the same sound of the staff of his face and the sound of the staff of the senior of the second command which he had been the same sound of the staff of his face and the sound of the staff of the senior of the second command which he had been the same sound of the staff of his face and the sound of the staff of the senior of the second command which he had been the same sound of t\n",
      "\n",
      "Epoch: 43\n",
      "\n",
      "Epoch 1/1\n",
      "63924/63924 [==============================] - 464s 7ms/step - loss: 1.0260\n",
      "s and the same thing that had been sent to the place of free will and the same thing that had been sent to the place of free will and the same thing that had been sent to the place of free will and the same thing that had been sent to the place of free will and the same thing that had been sent to the place of free will and the same thing that had been sent to the place of free will and the same thing that had been sent to the place of free will and the same thing that had been sent to the place\n",
      "\n",
      "Epoch: 44\n",
      "\n",
      "Epoch 1/1\n",
      "63924/63924 [==============================] - 464s 7ms/step - loss: 1.0241\n",
      "re the soldiers were standing beside him.\n",
      "\n",
      "\"What is it there is no longer the strange feeling of my own and solemn mysterious and soldiers who had been at the battery and the same she had been so much to the subject of his son's particular conditions of men and the same sudden remaining his father and the sound of the soldiers were standing beside him.\n",
      "\n",
      "\"What is it there is no longer the strange feeling of my own and solemn mysterious and soldiers who had been at the battery and the same she had\n",
      "\n",
      "Epoch: 45\n",
      "\n",
      "Epoch 1/1\n",
      "63924/63924 [==============================] - 467s 7ms/step - loss: 1.0224\n",
      "person to his head and an officer who had been sent to the law of inevitability of the country not to be so pretty, but which he had been sent to the law of inevitability of the man who was saying that the countess replied: \"Yes, I am very glad to say,\" said the countess.\n",
      "\n",
      "\"Where is he?\" the officer of the Russian army, and the staff officer was standing in the direct participation of the commander of the Russian army, and the staff officer was accustomed to see him and the staff officer was sta\n",
      "\n",
      "Epoch: 46\n",
      "\n",
      "Epoch 1/1\n",
      "63924/63924 [==============================] - 467s 7ms/step - loss: 1.0210\n",
      "© the same thing that the princess glanced at her to him and to reply to the countess, who were sitting at the same time as he had not seen the commander-in-chief was so strangely obliged to see him. He was already at the council of war and the same thing that the princess glanced at her to him and to reply to the countess, who were sitting at the same time as he had not seen the commander-in-chief was so strangely obliged to see him. He was already at the council of war and the same thing that \n",
      "\n",
      "Epoch: 47\n",
      "\n",
      "Epoch 1/1\n",
      "63924/63924 [==============================] - 470s 7ms/step - loss: 1.0192\n",
      ": \"I am so glad to see him and that to me that he has been to the same thing as an ensurity of the man who has been a second and myself and the same thing that had been at the battle of Borodino and the strange morning and the same thing that the prince was already standing beside her and then the staff officer was a stranger that he was the same to see her that the sound of the second of September would have been to the strange to the state of the commander-in-chief of the state of the commande\n",
      "\n",
      "Epoch: 48\n",
      "\n",
      "Epoch 1/1\n",
      "63924/63924 [==============================] - 468s 7ms/step - loss: 1.0177\n",
      "s and the same service, and the count was as if to say that the commander of the second act the same service, and the countess was still the same time for the first time the count was not a single seat of the commander-in-chief.\n",
      "\n",
      "\"Why did you get a great day to do that I am afraid of the people is a distant past. And the count had been an adjutant and a strange and in the same way that the commander in chief with the same senseless dignity and the same sensation of the company of the commander-i\n",
      "\n",
      "Epoch: 49\n",
      "\n",
      "Epoch 1/1\n",
      "63924/63924 [==============================] - 467s 7ms/step - loss: 1.0162\n",
      "!\" said he, \"but it is all the same as the commander-in-chief did not let him go and the sound of the staff officer was already addressing him and the sound of the staff officer was already addressing him and the sound of the staff officer was already addressing him and the sound of the staff officer was already addressing him and the sound of the staff officer was already addressing him and the sound of the staff officer was already addressing him and the sound of the staff officer was already \n",
      "\n",
      "Epoch: 50\n",
      "\n",
      "Epoch 1/1\n",
      "63924/63924 [==============================] - 467s 7ms/step - loss: 1.0147\n",
      "/arriage and stopped and asked himself with a smile.\n",
      "\n",
      "\"What a darling that made it all that man come to the fire with him. I don't know what to do anything to do so.\"\n",
      "\n",
      "\"I know the same time seemed to him that the commander of the second act the princess was struck by the soldiers who were not an enormous things of the soldiers who were not an enormous things of the soldiers who were not an enormous things of the soldiers who were not an enormous things of the soldiers who were not an enormous th\n",
      "\n",
      "Epoch: 51\n",
      "\n",
      "Epoch 1/1\n",
      "63924/63924 [==============================] - 468s 7ms/step - loss: 1.0132\n",
      "s and the state of a man who has been appointed commander-in-chief. He was struck by the fact that he was the same to him and the soldiers were being carried out of the room and the soldiers were being carried out of the room and the soldiers were being carried out of the room and the soldiers were being carried out of the room and the soldiers were being carried out of the room and the soldiers were being carried out of the room and the soldiers were being carried out of the room and the soldie\n",
      "\n",
      "Epoch: 52\n",
      "\n",
      "Epoch 1/1\n",
      "63924/63924 [==============================] - 468s 7ms/step - loss: 1.0120\n",
      ") that it was not the same thing that the conversation was not a commander-in-chief.\n",
      "\n",
      "\"Why should I think they would be a good thing they have been a second and I shall never come to the soldiers. You are to be a good thing they don't know what was going on!\" cried Natasha.\n",
      "\n"
     ]
    },
    {
     "name": "stdout",
     "output_type": "stream",
     "text": [
      "\"It's not the same time is the same time in the fact that the conception of the people had been in a fairy step to the sofa in a subtle smile.\n",
      "\n",
      "\"What a true young man was to explain the case of the conception of the facts an\n",
      "\n",
      "Epoch: 53\n",
      "\n",
      "Epoch 1/1\n",
      "63924/63924 [==============================] - 468s 7ms/step - loss: 1.0108\n",
      "person of the world, and the sounds of the commander-in-chief's staff officer and so on a soldier who was still as soon as the soldiers who were not only the same as a commander-in-chief's staff officer and so on a soldier who was still as soon as the soldiers who were not only the same as a commander-in-chief's staff officer and so on a soldier who was still as soon as the soldiers who were not only the same as a commander-in-chief's staff officer and so on a soldier who was still as soon as th\n",
      "\n",
      "Epoch: 54\n",
      "\n",
      "Epoch 1/1\n",
      "63924/63924 [==============================] - 467s 7ms/step - loss: 1.0094\n",
      "Mary had been an instant the same thing that the count was not a case of the service, and the soldiers shouted at his stern and the same thing that the count was not a case of the service, and the soldiers shouted at his steps. \"They are still at the moment of successes and the same thing that has been an advanced person and the same thing that had been at the front and the same thing that the conversation was already stopped by the side of the road from Princess Mary to the soldiers to the sold\n",
      "\n",
      "Epoch: 55\n",
      "\n",
      "Epoch 1/1\n",
      "63924/63924 [==============================] - 468s 7ms/step - loss: 1.0085\n",
      "6 the countess was to blame for the princess' carriage and the sound of the soldiers who were to be seen in the same way to the sound of the countess which were still seeming to see her and then again behind the countess which were still seeming to see her and then again behind the countess which were still seeming to see her and then again behind the countess which were still seeming to see her and then again behind the countess which were still seeming to see her and then again behind the coun\n",
      "\n",
      "Epoch: 56\n",
      "\n",
      "Epoch 1/1\n",
      "63924/63924 [==============================] - 467s 7ms/step - loss: 1.0070\n",
      "6 the countess was the same as a commander-in-chief that the countess could not see him, and the countess was to be the countess with a smile.\n",
      "\n",
      "\"What a third of the morning! In the middle of the world, and the countess was to be a good thing it was impossible to say that the countess was in the country, and the countess was to be the countess with a smile.\n",
      "\n",
      "\"What a third of the morning! In the middle of the world, and the countess was to be a good thing it was impossible to say that the countess\n",
      "\n",
      "Epoch: 57\n",
      "\n",
      "Epoch 1/1\n",
      "63924/63924 [==============================] - 468s 7ms/step - loss: 1.0060\n",
      "¿quarters who had been an answer to the sounds of the countess' hands and said it was a strong man in the same way, the count was not the same servants and the sound of the soldiers who had been a service was not even go and had seen and the same service was not even going to the left flank with a smile.\n",
      "\n",
      "\"What a strange fellow my action and the countess would be a general in the middle of the war,\" said Prince Andrew as he looked at her and then he could not have said this and the countess was \n",
      "\n",
      "Epoch: 58\n",
      "\n",
      "Epoch 1/1\n",
      "63924/63924 [==============================] - 469s 7ms/step - loss: 1.0049\n",
      "n the commander-in-chief was speaking to him and took the officers and saw that the commander of the room was and the sound of the commander-in-chief.\n",
      "\n",
      "\"What is it all the same thinking of how they had a specially man before the princess and I shall never come here, but that it is not to be the causes of expression of his own and place and that the commander-in-chief was sitting in a courting caps she recovered with a smile that he was asking him to her brother's arms and happy and again as if t\n",
      "\n",
      "Epoch: 59\n",
      "\n",
      "Epoch 1/1\n",
      "63924/63924 [==============================] - 468s 7ms/step - loss: 1.0039\n",
      "Look and where he had to go and that it was not the same time had been received at the same time as if the soldiers were to be seen in the darkness of the convoy of war and the sound of the commander of the service was a single soul were talking about the subject of his last report of the conflagration of the conditions of firmness of the conditions of first the same thing and the sound of the service was a single soul were talking and the sound of the soldiers who were standing at the door. The\n",
      "\n",
      "Epoch: 60\n",
      "\n",
      "Epoch 1/1\n",
      "63924/63924 [==============================] - 469s 7ms/step - loss: 1.0029\n",
      "XVI'd can't make some thing as an explanation of history, my dear fellow, I am sure you don't know what they are not to be afraid of think I was the same thing to help you...\"\n",
      "\n",
      "\"What is it? Who is it? What is it? Who is it? What is it? Who is it? What is it? Who is it? What is it? Who is it? What is it? Who is it? What is it? Who is it? What is it? Who is it? What is it? Who is it? What is it? Who is it? What is it? Who is it? What is it? Who is it? What is it? Who is it? What is it? Who is it? \n",
      "\n",
      "Epoch: 61\n",
      "\n",
      "Epoch 1/1\n",
      "63924/63924 [==============================] - 469s 7ms/step - loss: 1.0017\n",
      "was already like a single moment of a soldier and the same thing he had seen and the same thing he had seen and the same thing he had seen and the same thing he had seen and the same thing he had seen and the same thing he had seen and the same thing he had seen and the same thing he had seen and the same thing he had seen and the same thing he had seen and the same thing he had seen and the same thing he had seen and the same thing he had seen and the same thing he had seen and the same thing h\n",
      "\n",
      "Epoch: 62\n",
      "\n",
      "Epoch 1/1\n",
      "63924/63924 [==============================] - 470s 7ms/step - loss: 1.0009\n",
      "I am so glad. I am so glad to see you,\" he said, and asking that he was always strongly at the same time as he had not seen him.\n",
      "\n",
      "\"I am so sure that he is not a single second skill. It was a strange face and the countess was to be a great deal, but as soon as he had come to the country and could not be at the same time he had been sent to the countess who had been at the same time he had the process of the staff where the count had come of the country not to see the countess who were talking lou\n",
      "\n",
      "Epoch: 63\n",
      "\n",
      "Epoch 1/1\n",
      "63924/63924 [==============================] - 470s 7ms/step - loss: 0.9998\n",
      "ch he had been told that the prince was angrily at him with a smile.\n",
      "\n",
      "\"And what does it matter whether you have said to him and you must be a stranger.\"\n",
      "\n",
      "\"Ah, he's a schoom offering some work on the Russian troops and the French are the same to me!\" she said, \"not as a servant looked at him in a state of absence of life, but the same thing that the commander was serving under the ship to consider the position of the people who were not and conscious of his remarks and the same servants who was l\n",
      "\n",
      "Epoch: 64\n",
      "\n",
      "Epoch 1/1\n",
      "63924/63924 [==============================] - 470s 7ms/step - loss: 0.9992\n",
      "6 the countess was not to be heard and the same state of affairs which was the same thing that had been at the same time when the soldiers were to be presented to the post and the sound of the country and which was to be presented to the post and the countess was not to be heard and the same state of affairs which was the same thing that had been at the same time when the soldiers were to be presented to the post and the sound of the country and which was to be presented to the post and the coun\n",
      "\n",
      "Epoch: 65\n",
      "\n",
      "Epoch 1/1\n",
      "63924/63924 [==============================] - 470s 7ms/step - loss: 0.9981\n",
      "1807, he left the room.\n",
      "\n",
      "The count was about to say and saw that the wolf was a clean horse do not see his face and the sound of his army in the army and the same step of his army and the same way that the prince was about the count and say that the war was the others were moving toward him and heard his face and said in a cold and sat down again by the countess and went to the count and said that the count was a great deal, but the count was a great deal, but the count was a great deal, but the\n",
      "\n",
      "Epoch: 66\n",
      "\n",
      "Epoch 1/1\n",
      "63924/63924 [==============================] - 470s 7ms/step - loss: 0.9971\n"
     ]
    },
    {
     "name": "stdout",
     "output_type": "stream",
     "text": [
      "But the conversation was not a single to the countess' hands and smiled at him and told him to the sound of the commanders and the commanders of the commanders and the commanders of the commanders to the same time to the sound of the commanders and the commanders of the commanders and the commanders of the commanders to the same time to the sound of the commanders and the commanders of the commanders and the commanders of the commanders to the same time to the sound of the commanders and the com\n",
      "\n",
      "Epoch: 67\n",
      "\n",
      "Epoch 1/1\n",
      "63924/63924 [==============================] - 469s 7ms/step - loss: 0.9964\n",
      "¿quarters were being speaking of the countess and the countess was to be a great desireur) of the contrary they could not have been the carts to be at the same time and the countess was to be a great deal of meadows the same at a distance the carts were being seen at the same time and the staff officer was not only the same and seemed to him that the prince and the countess was to be a great deal of meadows the same at a distance from the countess' little fight because the countess was to be a g\n",
      "\n",
      "Epoch: 68\n",
      "\n",
      "Epoch 1/1\n",
      "63924/63924 [==============================] - 468s 7ms/step - loss: 0.9958\n",
      "Denisov, expressing his eyes.\n",
      "\n",
      "\"What is this position that I was being sent to the left. At the same time he had heard the sounds of the corker company of the hill to the porch. The soldiers went to the door and took his hand to the front), and said that he was a plan of carts that had been the first to meet the meaning of the contrary, and the consolation of the people of the contrary to the house and the princess was standing by the dark star of the room.\n",
      "\n",
      "\"What is this position that I was bei\n",
      "\n",
      "Epoch: 69\n",
      "\n",
      "Epoch 1/1\n",
      "63924/63924 [==============================] - 470s 7ms/step - loss: 0.9947\n",
      "The countess could not help loving him and the same squadron where the count was always the same and so on his face and said: \"I have a scared little bit of any superiority.\"\n",
      "\n",
      "\"I know your honor,\" said the countess.\n",
      "\n",
      "\"I'll teach you the count to her mind.\"\n",
      "\n",
      "\"Why shouldn't I misselve, and then I was all right!\" said the countess.\n",
      "\n",
      "\"What is it? Who is I will give him a blood and a mistake!\" said the countess.\n",
      "\n",
      "\"I'll teach you the count to her mind.\"\n",
      "\n",
      "\"Why shouldn't I misselve, and then I was all r\n",
      "\n",
      "Epoch: 70\n",
      "\n",
      "Epoch 1/1\n",
      "63924/63924 [==============================] - 469s 7ms/step - loss: 0.9939\n",
      "?\" asked Pierre.\n",
      "\n",
      "\"What is it? What's the matter, and that it would be a content. They can see the whole people. I cannot desire I confess to your brother and that the countess won't go to the commander-in-chief.\"\n",
      "\n",
      "\"Well, then, I don't want to see what they were saying to him and that the count will be so serious. I am so sorry for him. I don't know what to do and that the count is very simple and all the same.\"\n",
      "\n",
      "\"What is it? Whom if you don't know what to do and that the count is in the contrar\n",
      "\n",
      "Epoch: 71\n",
      "\n",
      "Epoch 1/1\n",
      "63924/63924 [==============================] - 470s 7ms/step - loss: 0.9932\n",
      ". The soldiers were bound the walls of the commander of the room with a stride of the staff of the commander of the room with a stride of the staff of the commander of the room with a stride of the staff of the commander of the room with a stride of the staff of the commander of the room with a stride of the staff of the commander of the room with a stride of the staff of the commander of the room with a stride of the staff of the commander of the room with a stride of the staff of the commander\n",
      "\n",
      "Epoch: 72\n",
      "\n",
      "Epoch 1/1\n",
      "63924/63924 [==============================] - 481s 8ms/step - loss: 0.9927\n",
      "Kutuzov was always so strongly angry. This was the same condition of complete place and a strange and sad and smiling and she went out of the room.\n",
      "\n",
      "\"What a proposite of my soul had been destroyed, and that it was not the same and strong and at the same time and sat down beside him.\n",
      "\n",
      "\"You know, Count, I know that if you want to see him and that in the same way!\" said the count staying at the strength of the consciousness of her face and sat down beside him.\n",
      "\n",
      "\"You know, Count, I know that if you \n",
      "\n",
      "Epoch: 73\n",
      "\n",
      "Epoch 1/1\n",
      "63924/63924 [==============================] - 473s 7ms/step - loss: 0.9919\n",
      "6 the whole company commanders with his hands with their belongings and shoulders, stepped forward and saw that the commander-in-chief was about to say that the countess was silent. The soldiers were brought back to the gate of the staff officer, was sitting at the same time and the same thing he had not yet seen that he was asking him to have been sent to the countess with a smile.\n",
      "\n",
      "\"What is it?\" asked Natasha. \"You have not seen him and then I will be at your commands and I'll give you the sta\n",
      "\n",
      "Epoch: 74\n",
      "\n",
      "Epoch 1/1\n",
      "63924/63924 [==============================] - 483s 8ms/step - loss: 0.9910\n",
      "When they had been sent to the left flank of the conversation and had seen in the streets and the same thing that the princess looked at him in a shriller into the shed.\n",
      "\n",
      "The sun was surprised at the battle of Borodino, Anatole Kuragin was standing by the door of the staff officer, walked about him.\n",
      "\n",
      "\"What are you standing things to you,\" he continued, \"but they don't stifle it.\"\n",
      "\n",
      "\"Well, and what a friend the count thought the money are not to be done round to the Emperor.\"\n",
      "\n",
      "\"I don't understand \n",
      "\n",
      "Epoch: 75\n",
      "\n",
      "Epoch 1/1\n",
      "63924/63924 [==============================] - 468s 7ms/step - loss: 0.9905\n",
      "e of the man who had been so beautiful and a stranger, she sat on the street. The count was so strong and sinking to the country and the same state and the same state and the same state and the same state and the same state and the same state and the same state and the same state and the same state and the same state and the same state and the same state and the same state and the same state and the same state and the same state and the same state and the same state and the same state and the sa\n",
      "\n",
      "Epoch: 76\n",
      "\n",
      "Epoch 1/1\n",
      "63924/63924 [==============================] - 467s 7ms/step - loss: 0.9897\n",
      "I am afraid I may run over to the count's mind. I should be a bad thing. I only say that the whole state of affairs would have been a battle to the soldiers the cause of the country not the same state of affairs and the same thing and the same thing and the same thing and the count was at the same time when they had not yet come and that he was the same and she had been at the same time with the same step of the window and looking at the stairs and said: \"It was a bad man who has to go away, but\n",
      "\n",
      "Epoch: 77\n",
      "\n",
      "Epoch 1/1\n",
      "63924/63924 [==============================] - 468s 7ms/step - loss: 0.9891\n",
      "Emperor with his hand and said he was the same kind of calm and confident as the same time was always the same and self-sacrifice or any commander in chief and the same service was a pair of her hand and said it was necessary to the house where the count was as if the face of the second couple of beauty and the same sergeant major who was already all the same thing that the count was as if the face of the second couple of beauty and the same sergeant major who was already all the same thing that\n",
      "\n",
      "Epoch: 78\n",
      "\n",
      "Epoch 1/1\n",
      "63924/63924 [==============================] - 467s 7ms/step - loss: 0.9884\n",
      "Emperor would be a proposal and the sun should be so that the work of the country seat her hand and said nothing of his army when he was already saying something to him. He seemed to say that he was always considering a practices of the suite when the soldiers were depressed.\n",
      "\n",
      "\"Look at the count to the right and sorry for her son, I am sorry for her and the whole course of near Monsieur Pierre.\"\n",
      "\n",
      "\"You know I shall never come to the war,\" said the countess, when the soldiers were gathered at the \n",
      "\n",
      "Epoch: 79\n",
      "\n",
      "Epoch 1/1\n",
      "63924/63924 [==============================] - 467s 7ms/step - loss: 0.9879\n"
     ]
    },
    {
     "name": "stdout",
     "output_type": "stream",
     "text": [
      "ut the princess and the sound of the staff of his side (the conversation was at the same time and the countess was to be a second time and that she was already sixteen the position of the condition and the same feeling he had seen and as if to say that the count was already so much in love with the countess was to be done by the fact that he was already stopped by the countess and went to the door of the room and to his suite who sat down on the sofa, she was silent.\n",
      "\n",
      "\"I am very glad to make you\n",
      "\n",
      "Epoch: 80\n",
      "\n",
      "Epoch 1/1\n",
      "63924/63924 [==============================] - 468s 7ms/step - loss: 0.9876\n",
      "\" said Princess Mary, \"and then I want to see you,\" said the count, and went on tiptoe to himself and took his hand to the glow soldier.\n",
      "\n",
      "The count was about to see her and then the sound of the service was being carried out of the carriage. \"It was a bit of influence to the Emperor Alexander and that the count was always the same to see her and then the sound of the servants to leave the room with a smile of people who were carrying him to himself and the sound of the service was being carried \n",
      "\n",
      "Epoch: 81\n",
      "\n",
      "Epoch 1/1\n",
      "63924/63924 [==============================] - 467s 7ms/step - loss: 0.9867\n",
      "Zherkov, and was about to sing, but the countess was to be a content to expecting the consequent sound of the commander-in-chief.\n",
      "\n",
      "\"Where is he?\" he asked.\n",
      "\n",
      "\"Yes, it is about to retreat. We are all going to the commander-in-chief?\" said Pierre, and she struck by the sight of the battlefield and so on a spirited face and said in a conversation and stopped beside the shed.\n",
      "\n",
      "\"What is it? Whom it might be done in the darkness of your battle and the count will be sent to mention it. His hero has been\n",
      "\n",
      "Epoch: 82\n",
      "\n",
      "Epoch 1/1\n",
      "63924/63924 [==============================] - 468s 7ms/step - loss: 0.9864\n",
      "Lise, that is the only one to the count to the soldiers, who had seen the count to his companions to the conversation that the count was a sinclety of the commander-in-chief's staff officer who had set him seem very strongly at the sight of the commander-in-chief.\n",
      "\n",
      "\"What do you think? What do you think? What do you think? What do you think? What do you think? What do you think? What do you think? What do you think? What do you think? What do you think? What do you think? What do you think? What \n",
      "\n",
      "Epoch: 83\n",
      "\n",
      "Epoch 1/1\n",
      "63924/63924 [==============================] - 468s 7ms/step - loss: 0.9856\n",
      ") that he was ashamed of her and that he was always driven to the right of the countess and the countess remained in the same way, and the same things were crowding at the same time as the war was the same thing to her, and that the Emperor was still set to work of his shoulders and the same commander and the sound of the service was still seeming not to be seen in the service, and the sound of the service was still straight on the soldiers.\n",
      "\n",
      "\"What are you spare for me to see you!\"\n",
      "\n",
      "\"From what i\n",
      "\n",
      "Epoch: 84\n",
      "\n",
      "Epoch 1/1\n",
      "63924/63924 [==============================] - 468s 7ms/step - loss: 0.9852\n",
      "me to the staff officer, was standing at the staff officer, was standing at the staff officer, was standing at the staff officer, was standing at the staff officer, was standing at the staff officer, was standing at the staff officer, was standing at the staff officer, was standing at the staff officer, was standing at the staff officer, was standing at the staff officer, was standing at the staff officer, was standing at the staff officer, was standing at the staff officer, was standing at the \n",
      "\n",
      "Epoch: 85\n",
      "\n",
      "Epoch 1/1\n",
      "63924/63924 [==============================] - 467s 7ms/step - loss: 0.9846\n",
      "/y of the people to see her again from the same way through the wood and the sound of the countess smiled.\n",
      "\n",
      "\"He is a son of which we have not yet been the most part to be a moment, the count too late that I was always the same is not to be an autumn. The Emperor was the more advantageous to anyone else. He was a plan of command to love and the count was a very important personage. The majority of the people who were talking a position to the sounds of the commander-in-chief's staff. By the same \n",
      "\n",
      "Epoch: 86\n",
      "\n",
      "Epoch 1/1\n",
      "63924/63924 [==============================] - 467s 7ms/step - loss: 0.9840\n",
      "Natasha and his face showed again and saw that the sound of the story of the commander-in-chief was sitting at the countess of the conversation and the conversation was not only of the conversation with the countess and the countess was to be presented to the countess and was about to sit down to the rest of the danger and the same thing that had been sent to the laws of the French army which she had not yet seen the countess and was about to sit down to the rest of the danger and the same thing\n",
      "\n",
      "Epoch: 87\n",
      "\n",
      "Epoch 1/1\n",
      "63924/63924 [==============================] - 467s 7ms/step - loss: 0.9837\n",
      "\" said he, and with a soft come of any longer to be an attack her tears of virtue and to see the countess and was about to see Prince Andrew and the sound of the soldiers who were all contemptuously at the countess and with a smile that she was already started, but the countess was so serious that the words of the country house where the count was so strong as he had been sent to the left flank of the state of a state of affairs, but he was about to say something in the same state of affairs and\n",
      "\n",
      "Epoch: 88\n",
      "\n",
      "Epoch 1/1\n",
      "63924/63924 [==============================] - 468s 7ms/step - loss: 0.9832\n",
      "The countess took the buildings of the next room, and the sound of the soldiers who had been sent to the left flank of the countess and the sound of the soldiers who had been sent to the left flank of the countess and the sound of the soldiers who had been sent to the left flank of the countess and the sound of the soldiers who had been sent to the left flank of the countess and the sound of the soldiers who had been sent to the left flank of the countess and the sound of the soldiers who had be\n",
      "\n",
      "Epoch: 89\n",
      "\n",
      "Epoch 1/1\n",
      "63924/63924 [==============================] - 468s 7ms/step - loss: 0.9829\n",
      "Denisov was a man who had been at the same time and said that he was always so active and she was about to say something to him and the countess was still a stranger. The countess was to be happy became more and more animated and strengthened and shaking his head and went out of the room.\n",
      "\n",
      "\"What is the matter with you!' said the Emperor was the same thing that the countess was to be happy to be the only thing to do something in the regiment and the countess was in a state of his son's disappoint\n",
      "\n",
      "Epoch: 90\n",
      "\n",
      "Epoch 1/1\n",
      "63924/63924 [==============================] - 468s 7ms/step - loss: 0.9822\n",
      "812--the countess was to be presented to him and that the commander of the soldiers stopped and went out of the room.\n",
      "\n",
      "\"What a strange condition of my life has come!\" said the countess.\n",
      "\n",
      "\"The count has not seen on him to move on to assure you the count will be sent to the commander-in-chief.\"\n",
      "\n",
      "\"And what do you think of the general masterly to you, I haven't time to say about it, Count! Good leaning and then all the same the more than the meaning of my honor for the first time the soldiers subseq\n",
      "\n",
      "Epoch: 91\n",
      "\n",
      "Epoch 1/1\n",
      "63924/63924 [==============================] - 469s 7ms/step - loss: 0.9819\n",
      "\n",
      "\n",
      "\"What is it? What's the matter?\" said Pierre, and he went out to the dressing jacket and stopped and looked at him with a smile.\n",
      "\n",
      "\"And how does it matter to your honor,\" said Prince Andrew.\n",
      "\n",
      "\"Why did Sonya and I have been at the first time for me to be and the commander-in-chief I have no penchmental about it?\" asked the countess, with a solemn smile.\n",
      "\n",
      "\"Who is this?\" she asked himself. \"But I have not yet seen and the French are the same thing about yours?\"\n",
      "\n",
      "The countess was silent.\n",
      "\n",
      "\"I should\n",
      "\n",
      "Epoch: 92\n",
      "\n",
      "Epoch 1/1\n",
      "63924/63924 [==============================] - 469s 7ms/step - loss: 0.9813\n"
     ]
    },
    {
     "name": "stdout",
     "output_type": "stream",
     "text": [
      "Zherkov to the left flank of the country and strangely fixed one and wounded and shouting and shouting and shouting and shouting and shouting and shouting and shouting and shouting and shouting and shouting and shouting and shouting and shouting and shouting and shouting and shouting and shouting and shouting and shouting and shouting and shouting and shouting and shouting and shouting and shouting and shouting and shouting and shouting and shouting and shouting and shouting and shouting and sho\n",
      "\n",
      "Epoch: 93\n",
      "\n",
      "Epoch 1/1\n",
      "63924/63924 [==============================] - 470s 7ms/step - loss: 0.9810\n",
      "question to him and the same thing he had not yet seen that the same thing had been at last dared to take it away; and the same salt le promise very good softened and seemed to him and the sound of the soldiers were convinced that he was already attacking the countess' house in the same state of abuse him at the same time that had been at last dared to see him in the same state of the soldiers who were all conversations as the conversation with the soldiers were dullt to the countess' house in t\n",
      "\n",
      "Epoch: 94\n",
      "\n",
      "Epoch 1/1\n",
      "63924/63924 [==============================] - 468s 7ms/step - loss: 0.9804\n",
      "* they were all surprisingly and so of the service was the same and self-confidence of the commanders and the street was with the strength of the war with the strength of the commanders and the street was struck by the sound of the street was struck by the sound of the street was struck by the sound of the street was struck by the sound of the street was struck by the sound of the street was struck by the sound of the street was struck by the sound of the street was struck by the sound of the st\n",
      "\n",
      "Epoch: 95\n",
      "\n",
      "Epoch 1/1\n",
      "63924/63924 [==============================] - 453s 7ms/step - loss: 0.9800\n",
      "Count Bennigsen had been sent to the last of the staff officers to be seen in the fact that the Frenchman was already saying that the war was the only such and such man's well-brent the countess and horses were standing on the streets and the sounds of feelings of life (which seemed to him that the Frenchman was already sleep compared, and at the same time he had seen and as if to say that the Frenchman was already sleep compared, and at the same time he had seen and as if to say that the French\n",
      "\n",
      "Epoch: 96\n",
      "\n",
      "Epoch 1/1\n",
      "63924/63924 [==============================] - 453s 7ms/step - loss: 0.9796\n",
      "Natasha shouted at him and said that he was always considering what he was saying it was a man who has been an insult of the commander-in-chief with the same serious figure of the walls of the watchnuchable evening cap with a rapturous chance to the house where the commander in chief of the count went up to him and took his leave.\n",
      "\n",
      "\"There's nothing else.\"\n",
      "\n",
      "\"Nothing, my dear fellow, I would not have succeeded it as much as to be a matter to you in the right flank of the commander-in-chief. He is \n",
      "\n",
      "Epoch: 97\n",
      "\n",
      "Epoch 1/1\n",
      "63924/63924 [==============================] - 454s 7ms/step - loss: 0.9794\n",
      "4(JuO he do what was not the same thing to be seen at the battle of Borodino, and the countess was to be present at the battle of Borodino, and the sound of the soldiers were doing soon after the battle of Borodino the countess and Natasha and his face expressed important one and the same thing that the countess was to be present at the battle of Borodino, and the sound of the soldiers were doing soon after the battle of Borodino the countess and Natasha and his face expressed important one and \n",
      "\n",
      "Epoch: 98\n",
      "\n",
      "Epoch 1/1\n",
      "63924/63924 [==============================] - 454s 7ms/step - loss: 0.9791\n",
      "But the conversation was at the same time that he was a movement and the soldiers were destroyed with him to come to see him and the countess was to be a great deal with a smile.\n",
      "\n",
      "\"What a true young man had to be so tiresome. But if you would not be able to remember what was he began to speak of the princess, who had been to the same time that she was already so many placed with him and the sound of the staff officer was still as if the summer body had been sent to the countess' face to him and \n",
      "\n",
      "Epoch: 99\n",
      "\n",
      "Epoch 1/1\n",
      "63924/63924 [==============================] - 456s 7ms/step - loss: 0.9786\n",
      "©artily and the streets and the Emperor and the countess was the more important on the sovereign that the count was asleep at the same time that he was thinking of his army interested in the streets and the sound of the staff officer who was always sent to see him, and the sound of the staff came the sound of the staff campaign of 1813 Gorse who was being put to his companions that the count was asleep and the countess who had been able to be at the same thing that the count was as if the same t"
     ]
    }
   ],
   "source": [
    "# Training if there is no trained weights specified\n",
    "\n",
    "#Esta es la iteración importante\n",
    "#Pueden cambiar la condición para que termine en un determinado numero de epochs.\n",
    "while True:\n",
    "    print('\\n\\nEpoch: {}\\n'.format(nb_epoch))\n",
    "    #Ajuste del modelo, y entrenamiento de 1 epoca\n",
    "    model.fit(X, y, batch_size=BATCH_SIZE, verbose=1, epochs=1)\n",
    "    nb_epoch += 1\n",
    "    #Generacion de un texto al final de la epoca\n",
    "    generate_text(model, GENERATE_LENGTH, VOCAB_SIZE, ix_to_char)\n",
    "    #Pueden modificar esto para tener más checkpoints\n",
    "    if nb_epoch % 10 == 0:\n",
    "        model.save_weights('checkpoint_layer_{}_hidden_{}_epoch_{}.hdf5'.format(LAYER_NUM, HIDDEN_DIM, nb_epoch))\n",
    "    if nb_epoch == 100:\n",
    "        break"
   ]
  },
  {
   "cell_type": "markdown",
   "metadata": {},
   "source": [
    "# 4. Generación de texto\n",
    "\n",
    "Si instancian el modelo y sus parametros (ejecutando algunas celdas preliminares), y tienen los 2 archivos requeridos (.pickle y .hdf5) pueden generar el texto.\n",
    "Si usted va a cargar defrente un *checkpoint*, ejecutar los siguientes 2 módulos."
   ]
  },
  {
   "cell_type": "code",
   "execution_count": 22,
   "metadata": {},
   "outputs": [],
   "source": [
    "VOCAB_SIZE = vocab_size(DATA_DIR)"
   ]
  },
  {
   "cell_type": "code",
   "execution_count": 24,
   "metadata": {},
   "outputs": [],
   "source": [
    "# Creating and compiling the Network\n",
    "model = Sequential()\n",
    "\n",
    "#Añadiendo las capas LSTM\n",
    "model.add(LSTM(HIDDEN_DIM, input_shape=(None, VOCAB_SIZE), return_sequences=True))\n",
    "for i in range(LAYER_NUM - 1):\n",
    "    model.add(LSTM(HIDDEN_DIM, return_sequences=True))\n",
    "#Añadiendo la operacion de salida\n",
    "model.add(TimeDistributed(Dense(VOCAB_SIZE)))\n",
    "model.add(Activation('softmax'))\n",
    "\n",
    "#\"Compilando\" = instanciando la RNN con su función de pérdida y optimización\n",
    "model.compile(loss=\"categorical_crossentropy\", optimizer=\"rmsprop\")"
   ]
  },
  {
   "cell_type": "markdown",
   "metadata": {},
   "source": [
    "Generar texto dependiendo del WEIGHTS."
   ]
  },
  {
   "cell_type": "code",
   "execution_count": 37,
   "metadata": {},
   "outputs": [
    {
     "name": "stdout",
     "output_type": "stream",
     "text": [
      "/Bª\"RaB\"QRZcc\"!ZvRZHX\"PZQ\"QHRRHXT\"ZR\"RaB\"QR-BBRQ\"R2\"RaB\"QR-BBRQ\"ZXª\"RaB\"Q2OXª\"2c\"RaB\"QRZcc\"2ccH!B-\"Pa2\"PZQ\"FBHXT\"QBXR\"R2\"RaB\"'BcRb\"iaB\"!2OXR\"PZQ\"ZQ\"Hc\"RaB\"QZEB\"RaHXT\"RaZR\"aZª\"FBBX\"ZF'B\"R2\"ªBcBXª\"RaB\"!2X1B-QZRH2Xm\"ZXª\"RaB\"Q2OXª\"2c\"RaB\"QRZcc\"2c\"RaB\"QR2-8\"ZXª\"RaB\"!2OXR\"PZQ\"ZQKBª\"RaB\"QR-BXTRa\"2c\"RaB\"!2X128\"2c\"P2OXªBª\"ZXª\"RaB\"Q2OXª\"2c\"RaB\"QRZcc\"2c\"RaB\"QR2-8\"ZXª\"RaB\"!2OXR\"PZQ\"ZQKBª\"RaB\"QR-BXTRa\"2c\"RaB\"!2X128\"2c\"P2OXªBª\"ZXª\"RaB\"Q2OXª\"2c\"RaB\"QRZcc\"2c\"RaB\"QR2-8\"ZXª\"RaB\"!2OXR\"PZQ\"ZQKBª\"RaB\"QR-BXTRa\"2c\"RaB\n",
      "\n",
      "\n"
     ]
    }
   ],
   "source": [
    "#Cuidar de no reemplazar el pickle original\n",
    "WEIGHTS = 'checkpoint_layer_2_hidden_250_epoch_100.hdf5'\n",
    "nb_epoch = int(WEIGHTS[WEIGHTS.rfind('_') + 1:WEIGHTS.find('.')])\n",
    "# Loading the trained weights\n",
    "model.load_weights(WEIGHTS)\n",
    "with open('ix_to_char.pickle', 'rb') as handle:\n",
    "    ix_to_char = pickle.load(handle)\n",
    "generate_text(model, GENERATE_LENGTH, VOCAB_SIZE, ix_to_char)\n",
    "print('\\n\\n')"
   ]
  },
  {
   "cell_type": "code",
   "execution_count": 38,
   "metadata": {},
   "outputs": [
    {
     "data": {
      "text/plain": [
       "100"
      ]
     },
     "execution_count": 38,
     "metadata": {},
     "output_type": "execute_result"
    }
   ],
   "source": [
    "nb_epoch"
   ]
  }
 ],
 "metadata": {
  "kernelspec": {
   "display_name": "Python 3",
   "language": "python",
   "name": "python3"
  },
  "language_info": {
   "codemirror_mode": {
    "name": "ipython",
    "version": 3
   },
   "file_extension": ".py",
   "mimetype": "text/x-python",
   "name": "python",
   "nbconvert_exporter": "python",
   "pygments_lexer": "ipython3",
   "version": "3.6.5"
  },
  "widgets": {
   "state": {},
   "version": "1.1.2"
  }
 },
 "nbformat": 4,
 "nbformat_minor": 2
}
