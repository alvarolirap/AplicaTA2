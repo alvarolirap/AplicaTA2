{
 "cells": [
  {
   "cell_type": "markdown",
   "metadata": {},
   "source": [
    "## Instalación de Librerías"
   ]
  },
  {
   "cell_type": "markdown",
   "metadata": {},
   "source": [
    "Usando Anaconda Prompt se debe usar los siguientes comandos para importar la librería de Keras.\n",
    "<br>Link: https://medium.com/@pushkarmandot/installing-tensorflow-theano-and-keras-in-spyder-84de7eb0f0df\n",
    "<br>TensorFlow: https://www.tensorflow.org/install/\n",
    "\n",
    "```conda create -n tensorflow-gpu pip python=3.5```\n",
    "<br>```conda activate tensorflow--gpu```\n",
    "<br>```conda install keras ```\n",
    "\n",
    "Si está usando Linux, usar los siguientes comandos."
   ]
  },
  {
   "cell_type": "code",
   "execution_count": null,
   "metadata": {},
   "outputs": [],
   "source": [
    "!pip install --force-reinstall regex==2017.04.5\n",
    "!pip install pathlib --user\n",
    "!pip install msgpack --user\n",
    "!pip install tensorflow-gpu --user\n",
    "!pip install keras --user"
   ]
  },
  {
   "cell_type": "markdown",
   "metadata": {},
   "source": [
    "Añadir en el path las librerias importadas si es que estás en Windows:\n",
    "\n",
    "``` set path=%PATH%;C:\\Users\\Alvaro\\AppData\\Roaming\\Python\\Python35\\Scripts ```\n",
    "\n",
    "Pruebo la correcta importación de librerías."
   ]
  },
  {
   "cell_type": "code",
   "execution_count": 4,
   "metadata": {},
   "outputs": [
    {
     "ename": "ImportError",
     "evalue": "Could not find 'nvcuda.dll'. TensorFlow requires that this DLL be installed in a directory that is named in your %PATH% environment variable. Typically it is installed in 'C:\\Windows\\System32'. If it is not present, ensure that you have a CUDA-capable GPU with the correct driver installed.",
     "output_type": "error",
     "traceback": [
      "\u001b[1;31m---------------------------------------------------------------------------\u001b[0m",
      "\u001b[1;31mOSError\u001b[0m                                   Traceback (most recent call last)",
      "\u001b[1;32m~\\AppData\\Roaming\\Python\\Python35\\site-packages\\tensorflow\\python\\platform\\self_check.py\u001b[0m in \u001b[0;36mpreload_check\u001b[1;34m()\u001b[0m\n\u001b[0;32m     61\u001b[0m         \u001b[1;32mtry\u001b[0m\u001b[1;33m:\u001b[0m\u001b[1;33m\u001b[0m\u001b[0m\n\u001b[1;32m---> 62\u001b[1;33m           \u001b[0mctypes\u001b[0m\u001b[1;33m.\u001b[0m\u001b[0mWinDLL\u001b[0m\u001b[1;33m(\u001b[0m\u001b[0mbuild_info\u001b[0m\u001b[1;33m.\u001b[0m\u001b[0mnvcuda_dll_name\u001b[0m\u001b[1;33m)\u001b[0m\u001b[1;33m\u001b[0m\u001b[0m\n\u001b[0m\u001b[0;32m     63\u001b[0m         \u001b[1;32mexcept\u001b[0m \u001b[0mOSError\u001b[0m\u001b[1;33m:\u001b[0m\u001b[1;33m\u001b[0m\u001b[0m\n",
      "\u001b[1;32m~\\Anaconda3\\lib\\ctypes\\__init__.py\u001b[0m in \u001b[0;36m__init__\u001b[1;34m(self, name, mode, handle, use_errno, use_last_error)\u001b[0m\n\u001b[0;32m    350\u001b[0m         \u001b[1;32mif\u001b[0m \u001b[0mhandle\u001b[0m \u001b[1;32mis\u001b[0m \u001b[1;32mNone\u001b[0m\u001b[1;33m:\u001b[0m\u001b[1;33m\u001b[0m\u001b[0m\n\u001b[1;32m--> 351\u001b[1;33m             \u001b[0mself\u001b[0m\u001b[1;33m.\u001b[0m\u001b[0m_handle\u001b[0m \u001b[1;33m=\u001b[0m \u001b[0m_dlopen\u001b[0m\u001b[1;33m(\u001b[0m\u001b[0mself\u001b[0m\u001b[1;33m.\u001b[0m\u001b[0m_name\u001b[0m\u001b[1;33m,\u001b[0m \u001b[0mmode\u001b[0m\u001b[1;33m)\u001b[0m\u001b[1;33m\u001b[0m\u001b[0m\n\u001b[0m\u001b[0;32m    352\u001b[0m         \u001b[1;32melse\u001b[0m\u001b[1;33m:\u001b[0m\u001b[1;33m\u001b[0m\u001b[0m\n",
      "\u001b[1;31mOSError\u001b[0m: [WinError 126] No se puede encontrar el módulo especificado",
      "\nDuring handling of the above exception, another exception occurred:\n",
      "\u001b[1;31mImportError\u001b[0m                               Traceback (most recent call last)",
      "\u001b[1;32m<ipython-input-4-14ca1be7f1bd>\u001b[0m in \u001b[0;36m<module>\u001b[1;34m()\u001b[0m\n\u001b[1;32m----> 1\u001b[1;33m \u001b[1;32mimport\u001b[0m \u001b[0mtensorflow\u001b[0m \u001b[1;32mas\u001b[0m \u001b[0mtf\u001b[0m\u001b[1;33m\u001b[0m\u001b[0m\n\u001b[0m\u001b[0;32m      2\u001b[0m \u001b[0mhello\u001b[0m \u001b[1;33m=\u001b[0m \u001b[0mtf\u001b[0m\u001b[1;33m.\u001b[0m\u001b[0mconstant\u001b[0m\u001b[1;33m(\u001b[0m\u001b[1;34m\"Hello, TF!\"\u001b[0m\u001b[1;33m)\u001b[0m\u001b[1;33m\u001b[0m\u001b[0m\n\u001b[0;32m      3\u001b[0m \u001b[0msess\u001b[0m \u001b[1;33m=\u001b[0m \u001b[0mtf\u001b[0m\u001b[1;33m.\u001b[0m\u001b[0mSession\u001b[0m\u001b[1;33m(\u001b[0m\u001b[1;33m)\u001b[0m\u001b[1;33m\u001b[0m\u001b[0m\n\u001b[0;32m      4\u001b[0m \u001b[0mprint\u001b[0m\u001b[1;33m(\u001b[0m\u001b[0msess\u001b[0m\u001b[1;33m.\u001b[0m\u001b[0mrun\u001b[0m\u001b[1;33m(\u001b[0m\u001b[0mhello\u001b[0m\u001b[1;33m)\u001b[0m\u001b[1;33m)\u001b[0m\u001b[1;33m\u001b[0m\u001b[0m\n",
      "\u001b[1;32m~\\AppData\\Roaming\\Python\\Python35\\site-packages\\tensorflow\\__init__.py\u001b[0m in \u001b[0;36m<module>\u001b[1;34m()\u001b[0m\n\u001b[0;32m     22\u001b[0m \u001b[1;33m\u001b[0m\u001b[0m\n\u001b[0;32m     23\u001b[0m \u001b[1;31m# pylint: disable=g-bad-import-order\u001b[0m\u001b[1;33m\u001b[0m\u001b[1;33m\u001b[0m\u001b[0m\n\u001b[1;32m---> 24\u001b[1;33m \u001b[1;32mfrom\u001b[0m \u001b[0mtensorflow\u001b[0m\u001b[1;33m.\u001b[0m\u001b[0mpython\u001b[0m \u001b[1;32mimport\u001b[0m \u001b[0mpywrap_tensorflow\u001b[0m  \u001b[1;31m# pylint: disable=unused-import\u001b[0m\u001b[1;33m\u001b[0m\u001b[0m\n\u001b[0m\u001b[0;32m     25\u001b[0m \u001b[1;31m# pylint: disable=wildcard-import\u001b[0m\u001b[1;33m\u001b[0m\u001b[1;33m\u001b[0m\u001b[0m\n\u001b[0;32m     26\u001b[0m \u001b[1;32mfrom\u001b[0m \u001b[0mtensorflow\u001b[0m\u001b[1;33m.\u001b[0m\u001b[0mtools\u001b[0m\u001b[1;33m.\u001b[0m\u001b[0mapi\u001b[0m\u001b[1;33m.\u001b[0m\u001b[0mgenerator\u001b[0m\u001b[1;33m.\u001b[0m\u001b[0mapi\u001b[0m \u001b[1;32mimport\u001b[0m \u001b[1;33m*\u001b[0m  \u001b[1;31m# pylint: disable=redefined-builtin\u001b[0m\u001b[1;33m\u001b[0m\u001b[0m\n",
      "\u001b[1;32m~\\AppData\\Roaming\\Python\\Python35\\site-packages\\tensorflow\\python\\__init__.py\u001b[0m in \u001b[0;36m<module>\u001b[1;34m()\u001b[0m\n\u001b[0;32m     47\u001b[0m \u001b[1;32mimport\u001b[0m \u001b[0mnumpy\u001b[0m \u001b[1;32mas\u001b[0m \u001b[0mnp\u001b[0m\u001b[1;33m\u001b[0m\u001b[0m\n\u001b[0;32m     48\u001b[0m \u001b[1;33m\u001b[0m\u001b[0m\n\u001b[1;32m---> 49\u001b[1;33m \u001b[1;32mfrom\u001b[0m \u001b[0mtensorflow\u001b[0m\u001b[1;33m.\u001b[0m\u001b[0mpython\u001b[0m \u001b[1;32mimport\u001b[0m \u001b[0mpywrap_tensorflow\u001b[0m\u001b[1;33m\u001b[0m\u001b[0m\n\u001b[0m\u001b[0;32m     50\u001b[0m \u001b[1;33m\u001b[0m\u001b[0m\n\u001b[0;32m     51\u001b[0m \u001b[1;31m# Protocol buffers\u001b[0m\u001b[1;33m\u001b[0m\u001b[1;33m\u001b[0m\u001b[0m\n",
      "\u001b[1;32m~\\AppData\\Roaming\\Python\\Python35\\site-packages\\tensorflow\\python\\pywrap_tensorflow.py\u001b[0m in \u001b[0;36m<module>\u001b[1;34m()\u001b[0m\n\u001b[0;32m     28\u001b[0m \u001b[1;31m# Perform pre-load sanity checks in order to produce a more actionable error\u001b[0m\u001b[1;33m\u001b[0m\u001b[1;33m\u001b[0m\u001b[0m\n\u001b[0;32m     29\u001b[0m \u001b[1;31m# than we get from an error during SWIG import.\u001b[0m\u001b[1;33m\u001b[0m\u001b[1;33m\u001b[0m\u001b[0m\n\u001b[1;32m---> 30\u001b[1;33m \u001b[0mself_check\u001b[0m\u001b[1;33m.\u001b[0m\u001b[0mpreload_check\u001b[0m\u001b[1;33m(\u001b[0m\u001b[1;33m)\u001b[0m\u001b[1;33m\u001b[0m\u001b[0m\n\u001b[0m\u001b[0;32m     31\u001b[0m \u001b[1;33m\u001b[0m\u001b[0m\n\u001b[0;32m     32\u001b[0m \u001b[1;31m# pylint: disable=wildcard-import,g-import-not-at-top,unused-import,line-too-long\u001b[0m\u001b[1;33m\u001b[0m\u001b[1;33m\u001b[0m\u001b[0m\n",
      "\u001b[1;32m~\\AppData\\Roaming\\Python\\Python35\\site-packages\\tensorflow\\python\\platform\\self_check.py\u001b[0m in \u001b[0;36mpreload_check\u001b[1;34m()\u001b[0m\n\u001b[0;32m     68\u001b[0m               \u001b[1;34m\"'C:\\\\Windows\\\\System32'. If it is not present, ensure that you \"\u001b[0m\u001b[1;33m\u001b[0m\u001b[0m\n\u001b[0;32m     69\u001b[0m               \u001b[1;34m\"have a CUDA-capable GPU with the correct driver installed.\"\u001b[0m\u001b[1;33m\u001b[0m\u001b[0m\n\u001b[1;32m---> 70\u001b[1;33m               % build_info.nvcuda_dll_name)\n\u001b[0m\u001b[0;32m     71\u001b[0m \u001b[1;33m\u001b[0m\u001b[0m\n\u001b[0;32m     72\u001b[0m       if hasattr(build_info, \"cudart_dll_name\") and hasattr(\n",
      "\u001b[1;31mImportError\u001b[0m: Could not find 'nvcuda.dll'. TensorFlow requires that this DLL be installed in a directory that is named in your %PATH% environment variable. Typically it is installed in 'C:\\Windows\\System32'. If it is not present, ensure that you have a CUDA-capable GPU with the correct driver installed."
     ]
    }
   ],
   "source": [
    "import tensorflow as tf\n",
    "hello = tf.constant(\"Hello, TF!\")\n",
    "sess = tf.Session()\n",
    "print(sess.run(hello))"
   ]
  },
  {
   "cell_type": "code",
   "execution_count": 3,
   "metadata": {},
   "outputs": [
    {
     "ename": "NameError",
     "evalue": "name 'tf' is not defined",
     "output_type": "error",
     "traceback": [
      "\u001b[1;31m---------------------------------------------------------------------------\u001b[0m",
      "\u001b[1;31mNameError\u001b[0m                                 Traceback (most recent call last)",
      "\u001b[1;32m<ipython-input-3-33bfff81b416>\u001b[0m in \u001b[0;36m<module>\u001b[1;34m()\u001b[0m\n\u001b[1;32m----> 1\u001b[1;33m \u001b[0ma\u001b[0m \u001b[1;33m=\u001b[0m \u001b[0mtf\u001b[0m\u001b[1;33m.\u001b[0m\u001b[0mconstant\u001b[0m\u001b[1;33m(\u001b[0m\u001b[1;36m10\u001b[0m\u001b[1;33m)\u001b[0m\u001b[1;33m\u001b[0m\u001b[0m\n\u001b[0m\u001b[0;32m      2\u001b[0m \u001b[0mb\u001b[0m \u001b[1;33m=\u001b[0m \u001b[0mtf\u001b[0m\u001b[1;33m.\u001b[0m\u001b[0mconstant\u001b[0m\u001b[1;33m(\u001b[0m\u001b[1;36m32\u001b[0m\u001b[1;33m)\u001b[0m\u001b[1;33m\u001b[0m\u001b[0m\n\u001b[0;32m      3\u001b[0m \u001b[0mprint\u001b[0m\u001b[1;33m(\u001b[0m\u001b[0msess\u001b[0m\u001b[1;33m.\u001b[0m\u001b[0mrun\u001b[0m\u001b[1;33m(\u001b[0m\u001b[0ma\u001b[0m \u001b[1;33m+\u001b[0m \u001b[0mb\u001b[0m\u001b[1;33m)\u001b[0m\u001b[1;33m)\u001b[0m\u001b[1;33m\u001b[0m\u001b[0m\n",
      "\u001b[1;31mNameError\u001b[0m: name 'tf' is not defined"
     ]
    }
   ],
   "source": [
    "a = tf.constant(10)\n",
    "b = tf.constant(32)\n",
    "print(sess.run(a + b))"
   ]
  },
  {
   "cell_type": "code",
   "execution_count": null,
   "metadata": {},
   "outputs": [],
   "source": [
    "import keras"
   ]
  },
  {
   "cell_type": "markdown",
   "metadata": {},
   "source": [
    "## Procesamiento"
   ]
  },
  {
   "cell_type": "code",
   "execution_count": null,
   "metadata": {},
   "outputs": [],
   "source": [
    "from __future__ import print_function\n",
    "import matplotlib.pyplot as plt\n",
    "import numpy as np\n",
    "import time\n",
    "import csv\n",
    "from keras.models import Sequential\n",
    "from keras.layers.core import Dense, Activation, Dropout\n",
    "from keras.layers.recurrent import LSTM, SimpleRNN\n",
    "from keras.layers.wrappers import TimeDistributed\n",
    "import pickle"
   ]
  },
  {
   "cell_type": "code",
   "execution_count": 2,
   "metadata": {},
   "outputs": [],
   "source": [
    "#Archivo de texto \n",
    "DATA_DIR = \"./lotr.txt\" \n",
    "#Modificar BATCH_SIZE o HIDDEN_DIM en caso tengan problemas de memoria\n",
    "BATCH_SIZE = 50 \n",
    "HIDDEN_DIM = 250 #500\n",
    "#Parametro para longitud de secuencia a analizar\n",
    "SEQ_LENGTH = 50 \n",
    "#Parametro para cargar un pesos previamente entrenados (checkpoint)\n",
    "WEIGHTS = '' \n",
    "\n",
    "#Parametro para indicar cuantos caracteres generar en cada prueba\n",
    "GENERATE_LENGTH = 500 \n",
    "#Parametros para la red neuronal\n",
    "LAYER_NUM = 2 \n",
    "NB_EPOCH = 20"
   ]
  },
  {
   "cell_type": "markdown",
   "metadata": {},
   "source": [
    "**Función A:\n",
    "<br>(1) Carga de un archivo de texto, (2) Construcción de estructuras de entrada y salida de la red**"
   ]
  },
  {
   "cell_type": "code",
   "execution_count": 7,
   "metadata": {},
   "outputs": [],
   "source": [
    "# method for preparing the training data\n",
    "def load_data(data_dir, seq_length):\n",
    "    #Carga del archivo\n",
    "    data = open(data_dir, 'r').read()\n",
    "    #Caracteres unicos\n",
    "    chars = list(set(data))\n",
    "    VOCAB_SIZE = len(chars)\n",
    "\n",
    "    print('Data length: {} characters'.format(len(data)))\n",
    "    print('Vocabulary size: {} characters'.format(VOCAB_SIZE))\n",
    "    print(chars)\n",
    "    \n",
    "    #Indexacion de los caracteres\n",
    "    ix_to_char = {ix:char for ix, char in enumerate(chars)}\n",
    "    char_to_ix = {char:ix for ix, char in enumerate(chars)}\n",
    "    \n",
    "    #Estructuras de entrada y salida\n",
    "    NUMBER_OF_SEQ = int(len(data)/seq_length)\n",
    "    print('Number of sequences: {}'.format(NUMBER_OF_SEQ))\n",
    "    X = np.zeros((NUMBER_OF_SEQ, seq_length, VOCAB_SIZE))\n",
    "    y = np.zeros((NUMBER_OF_SEQ, seq_length, VOCAB_SIZE))\n",
    "    \n",
    "    for i in range(0, NUMBER_OF_SEQ):\n",
    "        #LLenado de la estructura de entrada X\n",
    "        X_sequence = data[i*seq_length:(i+1)*seq_length]\n",
    "        X_sequence_ix = [char_to_ix[value] for value in X_sequence]\n",
    "        #one-hot-vector (input)\n",
    "        input_sequence = np.zeros((seq_length, VOCAB_SIZE))  \n",
    "        #uso del diccionario para completar el one-hot-vector\n",
    "        for j in range(seq_length):\n",
    "            input_sequence[j][X_sequence_ix[j]] = 1.\n",
    "            X[i] = input_sequence\n",
    "            \n",
    "        #Llenado de la estructura de salida y\n",
    "        y_sequence = data[i*seq_length+1:(i+1)*seq_length+1]\n",
    "        y_sequence_ix = [char_to_ix[value] for value in y_sequence]\n",
    "        #one-hot-vector (output)\n",
    "        target_sequence = np.zeros((seq_length, VOCAB_SIZE))\n",
    "        #uso del diccionario para completar el one-hot-vector\n",
    "        for j in range(seq_length):\n",
    "            target_sequence[j][y_sequence_ix[j]] = 1.\n",
    "            y[i] = target_sequence\n",
    "            \n",
    "    return X, y, VOCAB_SIZE, ix_to_char"
   ]
  },
  {
   "cell_type": "markdown",
   "metadata": {},
   "source": [
    "**Función B:\n",
    "<br>Generación de textos**"
   ]
  },
  {
   "cell_type": "code",
   "execution_count": 8,
   "metadata": {},
   "outputs": [],
   "source": [
    "# method for generating text\n",
    "def generate_text(model, length, vocab_size, ix_to_char):\n",
    "    # starting with random character\n",
    "    ix = [np.random.randint(vocab_size)]\n",
    "    y_char = [ix_to_char[ix[-1]]]\n",
    "    X = np.zeros((1, length, vocab_size))\n",
    "    for i in range(length):\n",
    "        # appending the last predicted character to sequence\n",
    "        X[0, i, :][ix[-1]] = 1\n",
    "        print(ix_to_char[ix[-1]], end=\"\")\n",
    "        ix = np.argmax(model.predict(X[:, :i+1, :])[0], 1)\n",
    "        y_char.append(ix_to_char[ix[-1]])\n",
    "    return ('').join(y_char)"
   ]
  },
  {
   "cell_type": "markdown",
   "metadata": {},
   "source": [
    "## Entrenamiento y Prueba"
   ]
  },
  {
   "cell_type": "markdown",
   "metadata": {},
   "source": [
    "**Uso de la Función A: carga de los datos**"
   ]
  },
  {
   "cell_type": "code",
   "execution_count": 9,
   "metadata": {},
   "outputs": [
    {
     "name": "stdout",
     "output_type": "stream",
     "text": [
      "Data length: 3262172 characters\n",
      "Vocabulary size: 99 characters\n",
      "['J', '‘', 'j', '#', '1', 'f', 'Z', 'W', '!', '9', 'e', 'H', ')', '’', ' ', '`', 'k', 'o', 'y', 'n', 'P', 'µ', 'h', 'i', '4', 'T', \"'\", '}', 's', 'K', ';', 'B', 'u', 'G', 'p', 'q', '>', 'a', '*', 'w', 't', '‚', '6', '®', 'c', '=', ',', 'g', '»', '&', 'x', '5', 'r', 'Y', 'F', 'b', 'm', 'L', '—', 'V', 'U', 'R', '_', 'I', '\\n', '.', 'v', '…', '8', '\"', '2', 'N', 'ó', '7', 'Q', 'M', '«', ':', '3', 'C', 'X', '/', '–', '-', 'z', 'd', 'E', 'D', 'S', '¢', 'O', '?', 'l', '0', '¤', '¥', 'A', '<', '(']\n",
      "Number of sequences: 65243\n"
     ]
    }
   ],
   "source": [
    "# Creating training data\n",
    "X, y, VOCAB_SIZE, ix_to_char = load_data(DATA_DIR, SEQ_LENGTH)"
   ]
  },
  {
   "cell_type": "markdown",
   "metadata": {},
   "source": [
    "**Es importante guardar el diccionario `ix_to_char` en un archivo binario. Este debe ser cargado cada vez que se quiera retomar el entrenamiento o generar texto a partir de un checkpoint, debido a que el orden de los caracteres en el diccionario podría modificarse (no es un orden fijo)**\n",
    "<br>**NO MODIFICAR ESTE PICKLE AL REINICIAR EL NOTEBOOK PARA PROBAR CHECKPOINTS**"
   ]
  },
  {
   "cell_type": "code",
   "execution_count": 10,
   "metadata": {},
   "outputs": [],
   "source": [
    "#No modificar el pickle al reiniciar el cuaderno de trabajo para probar checkpoints previos\n",
    "with open('ix_to_char.pickle', 'wb') as handle:\n",
    "    pickle.dump(ix_to_char, handle, protocol=pickle.HIGHEST_PROTOCOL)"
   ]
  },
  {
   "cell_type": "code",
   "execution_count": 11,
   "metadata": {},
   "outputs": [
    {
     "name": "stdout",
     "output_type": "stream",
     "text": [
      "{0: 'J', 1: '‘', 2: 'j', 3: '#', 4: '1', 5: 'f', 6: 'Z', 7: 'W', 8: '!', 9: '9', 10: 'e', 11: 'H', 12: ')', 13: '’', 14: ' ', 15: '`', 16: 'k', 17: 'o', 18: 'y', 19: 'n', 20: 'P', 21: 'µ', 22: 'h', 23: 'i', 24: '4', 25: 'T', 26: \"'\", 27: '}', 28: 's', 29: 'K', 30: ';', 31: 'B', 32: 'u', 33: 'G', 34: 'p', 35: 'q', 36: '>', 37: 'a', 38: '*', 39: 'w', 40: 't', 41: '‚', 42: '6', 43: '®', 44: 'c', 45: '=', 46: ',', 47: 'g', 48: '»', 49: '&', 50: 'x', 51: '5', 52: 'r', 53: 'Y', 54: 'F', 55: 'b', 56: 'm', 57: 'L', 58: '—', 59: 'V', 60: 'U', 61: 'R', 62: '_', 63: 'I', 64: '\\n', 65: '.', 66: 'v', 67: '…', 68: '8', 69: '\"', 70: '2', 71: 'N', 72: 'ó', 73: '7', 74: 'Q', 75: 'M', 76: '«', 77: ':', 78: '3', 79: 'C', 80: 'X', 81: '/', 82: '–', 83: '-', 84: 'z', 85: 'd', 86: 'E', 87: 'D', 88: 'S', 89: '¢', 90: 'O', 91: '?', 92: 'l', 93: '0', 94: '¤', 95: '¥', 96: 'A', 97: '<', 98: '('}\n"
     ]
    }
   ],
   "source": [
    "print(ix_to_char)"
   ]
  },
  {
   "cell_type": "code",
   "execution_count": 12,
   "metadata": {},
   "outputs": [
    {
     "name": "stdout",
     "output_type": "stream",
     "text": [
      "(65243, 50, 99) (65243, 50, 99) 99\n"
     ]
    }
   ],
   "source": [
    "print(X.shape, y.shape, VOCAB_SIZE)"
   ]
  },
  {
   "cell_type": "markdown",
   "metadata": {},
   "source": [
    "### Creación de la RNN (LSTM)"
   ]
  },
  {
   "cell_type": "code",
   "execution_count": 13,
   "metadata": {},
   "outputs": [],
   "source": [
    "# Creating and compiling the Network\n",
    "model = Sequential()\n",
    "\n",
    "#Añadiendo las capas LSTM\n",
    "model.add(LSTM(HIDDEN_DIM, input_shape=(None, VOCAB_SIZE), return_sequences=True))\n",
    "for i in range(LAYER_NUM - 1):\n",
    "    model.add(LSTM(HIDDEN_DIM, return_sequences=True))\n",
    "#Añadiendo la operacion de salida\n",
    "model.add(TimeDistributed(Dense(VOCAB_SIZE)))\n",
    "model.add(Activation('softmax'))\n",
    "\n",
    "#\"Compilando\" = instanciando la RNN con su función de pérdida y optimización\n",
    "model.compile(loss=\"categorical_crossentropy\", optimizer=\"rmsprop\")"
   ]
  },
  {
   "cell_type": "code",
   "execution_count": 14,
   "metadata": {},
   "outputs": [
    {
     "name": "stdout",
     "output_type": "stream",
     "text": [
      "3kk‚h–h`??GG–SGGGY4yyyyyyy‚‚yy‚‚y‚y‚y‚‚yy‚‚y‚y‚y‚y‚y‚y‚y‚y‚y‚‚yy‚‚yy‚‚yy‚‚y‚y‚y‚y‚y‚y‚y‚‚yy‚‚yy‚‚yy‚‚y‚y‚y‚y‚y‚y‚y‚‚yy‚‚yy‚‚yy‚‚y‚y‚y‚y‚y‚y‚y‚‚yy‚‚yy‚‚yy‚‚y‚y‚y‚y‚y‚y‚y‚‚yy‚‚yy‚‚yy‚‚y‚y‚y‚y‚y‚y‚y‚‚yy‚‚yy‚‚yy‚‚y‚y‚y‚y‚y‚y‚y‚‚yy‚‚yy‚‚yy‚‚y‚y‚y‚y‚y‚y‚y‚‚yy‚‚yy‚‚yy‚‚y‚y‚y‚y‚y‚y‚y‚‚yy‚‚yy‚‚yy‚‚y‚y‚y‚y‚y‚y‚y‚‚yy‚‚yy‚‚yy‚‚y‚y‚y‚y‚y‚y‚y‚‚yy‚‚yy‚‚yy‚‚y‚y‚y‚y‚y‚y‚y‚‚yy‚‚yy‚‚yy‚‚y‚y‚y‚y‚y‚y‚y‚‚yy‚‚yy‚‚yy‚‚y‚y‚y‚y‚y‚y‚y‚‚yy‚‚yy‚‚yy‚‚y‚y‚y‚y‚y‚y‚y‚‚yy‚‚yy‚‚yy‚‚y‚y‚y‚y‚y‚y‚y‚‚yy‚‚yy‚‚yy‚‚y‚y‚y‚y‚y‚y‚y‚‚yy‚‚yy"
     ]
    },
    {
     "data": {
      "text/plain": [
       "'3kk‚h–h`??GG–SGGGY4yyyyyyy‚‚yy‚‚y‚y‚y‚‚yy‚‚y‚y‚y‚y‚y‚y‚y‚y‚y‚‚yy‚‚yy‚‚yy‚‚y‚y‚y‚y‚y‚y‚y‚‚yy‚‚yy‚‚yy‚‚y‚y‚y‚y‚y‚y‚y‚‚yy‚‚yy‚‚yy‚‚y‚y‚y‚y‚y‚y‚y‚‚yy‚‚yy‚‚yy‚‚y‚y‚y‚y‚y‚y‚y‚‚yy‚‚yy‚‚yy‚‚y‚y‚y‚y‚y‚y‚y‚‚yy‚‚yy‚‚yy‚‚y‚y‚y‚y‚y‚y‚y‚‚yy‚‚yy‚‚yy‚‚y‚y‚y‚y‚y‚y‚y‚‚yy‚‚yy‚‚yy‚‚y‚y‚y‚y‚y‚y‚y‚‚yy‚‚yy‚‚yy‚‚y‚y‚y‚y‚y‚y‚y‚‚yy‚‚yy‚‚yy‚‚y‚y‚y‚y‚y‚y‚y‚‚yy‚‚yy‚‚yy‚‚y‚y‚y‚y‚y‚y‚y‚‚yy‚‚yy‚‚yy‚‚y‚y‚y‚y‚y‚y‚y‚‚yy‚‚yy‚‚yy‚‚y‚y‚y‚y‚y‚y‚y‚‚yy‚‚yy‚‚yy‚‚y‚y‚y‚y‚y‚y‚y‚‚yy‚‚yy‚‚yy‚‚y‚y‚y‚y‚y‚y‚y‚‚yy‚‚yy‚‚yy‚‚y‚y‚y‚y‚y‚y‚y‚‚yy‚‚yy‚'"
      ]
     },
     "execution_count": 14,
     "metadata": {},
     "output_type": "execute_result"
    }
   ],
   "source": [
    "# Generate some sample before training to know how bad it is!\n",
    "generate_text(model, GENERATE_LENGTH, VOCAB_SIZE, ix_to_char)"
   ]
  },
  {
   "cell_type": "markdown",
   "metadata": {},
   "source": [
    "**Se cargan los pesos (y el diccionario de los one-hot-vectors) en caso haya habido un entrenamiento previo**\n",
    "<br>WEIGHTS debe tener el valor del nombre del archivo de \"checkpoint\" guardado. Por ejemplo:\n",
    "<br>```WEIGHTS = \"checkpoint_layer_2_hidden_250_epoch_60.hdf5\"```"
   ]
  },
  {
   "cell_type": "code",
   "execution_count": 16,
   "metadata": {},
   "outputs": [],
   "source": [
    "#Se cargan los pesos de un entrenamiento previo (si se desea restaurar una ejecucion)\n",
    "#Se calcula el numero de epocas en base al nombre del archivo\n",
    "#Se carga el diccionario de caracteres (one-hot-vectors) para la generacion\n",
    "if not WEIGHTS == '':\n",
    "    model.load_weights(WEIGHTS)\n",
    "    nb_epoch = int(WEIGHTS[WEIGHTS.rfind('_') + 1:WEIGHTS.find('.')])\n",
    "    with open('ix_to_char.pickle', 'rb') as handle:\n",
    "        ix_to_char = pickle.load(handle)\n",
    "else:\n",
    "    #Si se va a empezar de 0:\n",
    "    nb_epoch = 0"
   ]
  },
  {
   "cell_type": "markdown",
   "metadata": {},
   "source": [
    "### Entrenamiento"
   ]
  },
  {
   "cell_type": "code",
   "execution_count": null,
   "metadata": {},
   "outputs": [
    {
     "name": "stdout",
     "output_type": "stream",
     "text": [
      "\n",
      "\n",
      "Epoch: 0\n",
      "\n",
      "Epoch 1/1\n",
      "65243/65243 [==============================] - 445s 7ms/step - loss: 2.0676\n",
      "Z  the  hobbits  and  the  hills  and  the  hills  and  the  hills  and  the  hills  and  the  hills  and  the  hills  and  the  hills  and  the  hills  and  the  hills  and  the  hills  and  the  hills  and  the  hills  and  the  hills  and  the  hills  and  the  hills  and  the  hills  and  the  hills  and  the  hills  and  the  hills  and  the  hills  and  the  hills  and  the  hills  and  the  hills  and  the  hills  and  the  hills  and  the  hills  and  the  hills  and  the  hills  and  th\n",
      "\n",
      "Epoch: 1\n",
      "\n",
      "Epoch 1/1\n",
      "65243/65243 [==============================] - 466s 7ms/step - loss: 1.5330\n",
      "k  the  stone  of  the  stone  of  the  stone  of  the  stone  of  the  stone  of  the  stone  of  the  stone  of  the  stone  of  the  stone  of  the  stone  of  the  stone  of  the  stone  of  the  stone  of  the  stone  of  the  stone  of  the  stone  of  the  stone  of  the  stone  of  the  stone  of  the  stone  of  the  stone  of  the  stone  of  the  stone  of  the  stone  of  the  stone  of  the  stone  of  the  stone  of  the  stone  of  the  stone  of  the  stone  of  the  stone  of  t\n",
      "\n",
      "Epoch: 2\n",
      "\n",
      "Epoch 1/1\n",
      "65243/65243 [==============================] - 456s 7ms/step - loss: 1.4100\n",
      "‘  the  stone  of  the  stone  of  the  stone  of  the  stone  of  the  stone  of  the  stone  of  the  stone  of  the  stone  of  the  stone  of  the  stone  of  the  stone  of  the  stone  of  the  stone  of  the  stone  of  the  stone  of  the  stone  of  the  stone  of  the  stone  of  the  stone  of  the  stone  of  the  stone  of  the  stone  of  the  stone  of  the  stone  of  the  stone  of  the  stone  of  the  stone  of  the  stone  of  the  stone  of  the  stone  of  the  stone  of  t\n",
      "\n",
      "Epoch: 3\n",
      "\n",
      "Epoch 1/1\n",
      "65243/65243 [==============================] - 445s 7ms/step - loss: 1.3514\n",
      "¥  the  stone  of  the  stone  of  the  stone  of  the  stone  of  the  stone  of  the  stone  of  the  stone  of  the  stone  of  the  stone  of  the  stone  of  the  stone  of  the  stone  of  the  stone  of  the  stone  of  the  stone  of  the  stone  of  the  stone  of  the  stone  of  the  stone  of  the  stone  of  the  stone  of  the  stone  of  the  stone  of  the  stone  of  the  stone  of  the  stone  of  the  stone  of  the  stone  of  the  stone  of  the  stone  of  the  stone  of  t\n",
      "\n",
      "Epoch: 4\n",
      "\n",
      "Epoch 1/1\n",
      "65243/65243 [==============================] - 448s 7ms/step - loss: 1.3149\n",
      "s  the  stones  of  the  trees  and  the  stone  of  the  trees  and  the  stone  of  the  trees  and  the  stone  of  the  trees  and  the  stone  of  the  trees  and  the  stone  of  the  trees  and  the  stone  of  the  trees  and  the  stone  of  the  trees  and  the  stone  of  the  trees  and  the  stone  of  the  trees  and  the  stone  of  the  trees  and  the  stone  of  the  trees  and  the  stone  of  the  trees  and  the  stone  of  the  trees  and  the  stone  of  the  trees  and  t\n",
      "\n",
      "Epoch: 5\n",
      "\n",
      "Epoch 1/1\n",
      "65243/65243 [==============================] - 425s 7ms/step - loss: 1.2887\n",
      "¢  the  stream  and  the  stream  and  the  stream  and  the  stream  and  the  stream  and  the  stream  and  the  stream  and  the  stream  and  the  stream  and  the  stream  and  the  stream  and  the  stream  and  the  stream  and  the  stream  and  the  stream  and  the  stream  and  the  stream  and  the  stream  and  the  stream  and  the  stream  and  the  stream  and  the  stream  and  the  stream  and  the  stream  and  the  stream  and  the  stream  and  the  stream  and  the  stream\n",
      "\n",
      "Epoch: 6\n",
      "\n",
      "Epoch 1/1\n",
      "65243/65243 [==============================] - 425s 7ms/step - loss: 1.2682\n",
      "‚  the  stream  of  the  stream  of  the  stream  of  the  stream  of  the  stream  of  the  stream  of  the  stream  of  the  stream  of  the  stream  of  the  stream  of  the  stream  of  the  stream  of  the  stream  of  the  stream  of  the  stream  of  the  stream  of  the  stream  of  the  stream  of  the  stream  of  the  stream  of  the  stream  of  the  stream  of  the  stream  of  the  stream  of  the  stream  of  the  stream  of  the  stream  of  the  stream  of  the  stream  of  the \n",
      "\n",
      "Epoch: 7\n",
      "\n",
      "Epoch 1/1\n",
      "65243/65243 [==============================] - 424s 6ms/step - loss: 1.2519\n",
      "; and the  stars were  still  the  strange  stone  of  the  strength  of  the  stream  that  had  been  the  strange  things  and  the  strange  things  that  we  have  seen  the  strange  things  and  the  strange  things  that  we  have  seen  the  strange  things  and  the  strange  things  that  we  have  seen  the  strange  things  and  the  strange  things  that  we  have  seen  the  strange  things  and  the  strange  things  that  we  have  seen  the  strange  things  and  the  strange  \n",
      "\n",
      "Epoch: 8\n",
      "\n",
      "Epoch 1/1\n",
      "65243/65243 [==============================] - 426s 7ms/step - loss: 1.2379\n",
      "y  had  been  all  the  store  of  the  dark  and  the  shadows  of  the  shadows  of  the  shadows  of  the  shadows  of  the  shadows  of  the  shadows  of  the  shadows  of  the  shadows  of  the  shadows  of  the  shadows  of  the  shadows  of  the  shadows  of  the  shadows  of  the  shadows  of  the  shadows  of  the  shadows  of  the  shadows  of  the  shadows  of  the  shadows  of  the  shadows  of  the  shadows  of  the  shadows  of  the  shadows  of  the  shadows  of  the  shadows  of \n",
      "\n",
      "Epoch: 9\n",
      "\n",
      "Epoch 1/1\n",
      "65243/65243 [==============================] - 426s 7ms/step - loss: 1.2262\n",
      "d  the  shadow  of  the  dwarves  and  the  dwarves  and  the  dwarves  and  the  dwarves  and  the  dwarves  and  the  dwarves  and  the  dwarves  and  the  dwarves  and  the  dwarves  and  the  dwarves  and  the  dwarves  and  the  dwarves  and  the  dwarves  and  the  dwarves  and  the  dwarves  and  the  dwarves  and  the  dwarves  and  the  dwarves  and  the  dwarves  and  the  dwarves  and  the  dwarves  and  the  dwarves  and  the  dwarves  and  the  dwarves  and  the  dwarves  and  the  \n",
      "\n",
      "Epoch: 10\n",
      "\n",
      "Epoch 1/1\n",
      "65243/65243 [==============================] - 424s 7ms/step - loss: 1.2156\n",
      "Company  was  still  still  the  stream  of  the  stream  of  the  stream  of  the  stream  of  the  stream  of  the  stream  of  the  stream  of  the  stream  of  the  stream  of  the  stream  of  the  stream  of  the  stream  of  the  stream  of  the  stream  of  the  stream  of  the  stream  of  the  stream  of  the  stream  of  the  stream  of  the  stream  of  the  stream  of  the  stream  of  the  stream  of  the  stream  of  the  stream  of  the  stream  of  the  stream  of  the  stream  \n",
      "\n",
      "Epoch: 11\n",
      "\n",
      "Epoch 1/1\n",
      "65243/65243 [==============================] - 428s 7ms/step - loss: 1.2061\n",
      "The  sun  was  still  and  smoke  and  stone  and  stone  and  stood  and  stood  and  stood  and  stood  and  stood  and  stood  and  stood  and  stood  and  stood  and  stood  and  stood  and  stood  and  stood  and  stood  and  stood  and  stood  and  stood  and  stood  and  stood  and  stood  and  stood  and  stood  and  stood  and  stood  and  stood  and  stood  and  stood  and  stood  and  stood  and  stood  and  stood  and  stood  and  stood  and  stood  and  stood  and  stood  and  stood\n",
      "\n",
      "Epoch: 12\n",
      "\n",
      "Epoch 1/1\n",
      "65243/65243 [==============================] - 426s 7ms/step - loss: 1.1976\n",
      "; but the  sun was  silent, and  then  an answer  that  they  were  already  been \n",
      "seen  and  shadows  and  stones  and  the  shadow  of  the  shadow  of  the  side  of  the  side  of  the  side  of  the  side  of  the  side  of  the  side  of  the  side  of  the  side  of  the  side  of  the  side  of  the  side  of  the  side  of  the  side  of  the  side  of  the  side  of  the  side  of  the  side  of  the  side  of  the  side  of  the  side  of  the  side  of  the  side  of  the  side  of  \n",
      "\n",
      "Epoch: 13\n",
      "\n",
      "Epoch 1/1\n",
      "65243/65243 [==============================] - 429s 7ms/step - loss: 1.1896\n"
     ]
    },
    {
     "name": "stdout",
     "output_type": "stream",
     "text": [
      "Company  was  still  a  dark  shape  and  the  stone  that  had  been  set  out  on  the  stone  and  the  stone  that  had  been  set  out  and  started  and  started  and  started  and  started  and  started  and  started  and  started  and  started  and  started  and  started  and  started  and  started  and  started  and  started  and  started  and  started  and  started  and  started  and  started  and  started  and  started  and  started  and  started  and  started  and  started  and  star\n",
      "\n",
      "Epoch: 14\n",
      "\n",
      "Epoch 1/1\n",
      "65243/65243 [==============================] - 423s 6ms/step - loss: 1.1823\n",
      "7  the  dark  shapes  of  the  door  and  the  stones  and  the  dwarves  and  the  trees  and  the  dwarves  and  the  trees  and  the  dwarves  and  the  trees  and  the  dwarves  and  the  trees  and  the  dwarves  and  the  trees  and  the  dwarves  and  the  trees  and  the  dwarves  and  the  trees  and  the  dwarves  and  the  trees  and  the  dwarves  and  the  trees  and  the  dwarves  and  the  trees  and  the  dwarves  and  the  trees  and  the  dwarves  and  the  trees  and  the  dwa\n",
      "\n",
      "Epoch: 15\n",
      "\n",
      "Epoch 1/1\n",
      "65243/65243 [==============================] - 423s 6ms/step - loss: 1.1756\n",
      "ó  the  stream  that  had  been  seen  that  the  dwarves  had  been  the  strange  things  that  had  been  the  strength  of  the  dwarves  and  the  trees  and  the  trees  and  the  trees  and  the  trees  and  the  trees  and  the  trees  and  the  trees  and  the  trees  and  the  trees  and  the  trees  and  the  trees  and  the  trees  and  the  trees  and  the  trees  and  the  trees  and  the  trees  and  the  trees  and  the  trees  and  the  trees  and  the  trees  and  the  trees  a\n",
      "\n",
      "Epoch: 16\n",
      "\n",
      "Epoch 1/1\n",
      "65243/65243 [==============================] - 420s 6ms/step - loss: 1.1691\n",
      "4(                                                                                                                                                                                                                                                                                                                                                                                                                                                                                                                  \n",
      "\n",
      "Epoch: 17\n",
      "\n",
      "Epoch 1/1\n",
      "65243/65243 [==============================] - 425s 7ms/step - loss: 1.1630\n",
      "®rin with his hands on the \n",
      "brink of the stones. \n",
      "     'The  days of  the  Mountains  of  the  Mountains  of  the  Mountains  of  the  Mountains  of  the  Mountain  that  had  been  seen  the  dwarves  and  the  dwarves  and  the  dwarves  and  the  dwarves  and  the  dwarves  and  the  dwarves  and  the  dwarves  and  the  dwarves  and  the  dwarves  and  the  dwarves  and  the  dwarves  and  the  dwarves  and  the  dwarves  and  the  dwarves  and  the  dwarves  and  the  dwarves  and  the  dwa\n",
      "\n",
      "Epoch: 18\n",
      "\n",
      "Epoch 1/1\n",
      "65243/65243 [==============================] - 424s 6ms/step - loss: 1.1572\n",
      ", and the  stone  was  still  the  stone  was  still  the  stone  was  still  silent,  and  the  stone  was  still  a  long  cloak  of  stone  and  looked  at  the  stone  and  stood  at  the  top  of  the  stone  that  had  been  a  great  court  of  the  dwarves  and  the  strange  things  that  had  been  a  great  court  of  the  dwarves  and  the  strange  things  that  had  been  a  great  court  of  the  dwarves  and  the  strange  things  that  had  been  a  great  court  of  the  dwarve\n",
      "\n",
      "Epoch: 19\n",
      "\n",
      "Epoch 1/1\n",
      "65243/65243 [==============================] - 422s 6ms/step - loss: 1.1518\n",
      "Ugg slowly  and  the  sun  shone  like  a  stone  that  had  been  seen  to  start  all  the  sound  of  the  sound  of  the  sun  shone  and  standing  by  the  sun  shone  and  standing  by  the  sun  shone  and  standing  by  the  sun  shone  and  standing  by  the  sun  shone  and  standing  by  the  sun  shone  and  standing  by  the  sun  shone  and  standing  by  the  sun  shone  and  standing  by  the  sun  shone  and  standing  by  the  sun  shone  and  standing  by  the  sun  shone  an\n",
      "\n",
      "Epoch: 20\n",
      "\n",
      "Epoch 1/1\n",
      "65243/65243 [==============================] - 423s 6ms/step - loss: 1.1465\n",
      "zed the  hobbits  to  the  stone  and  stood  at  the  stone  and  stood  at  the  stone  and  stood  and  shook  the  rocks  and  his  head  was  still  as  he  said  that  the  dwarves  had  been  a  great  company  of  the  dwarves  and  the  dwarves  and  the  dwarves  and  the  dwarves  and  the  dwarves  and  the  dwarves  and  the  dwarves  and  the  dwarves  and  the  dwarves  and  the  dwarves  and  the  dwarves  and  the  dwarves  and  the  dwarves  and  the  dwarves  and  the  dwarves\n",
      "\n",
      "Epoch: 21\n",
      "\n",
      "Epoch 1/1\n",
      "65243/65243 [==============================] - 419s 6ms/step - loss: 1.1415\n",
      "}  the  dwarves  and  the  dwarves  and  the  dwarves  and  the  dwarves  and  the  dwarves  and  the  dwarves  and  the  dwarves  and  the  dwarves  and  the  dwarves  and  the  dwarves  and  the  dwarves  and  the  dwarves  and  the  dwarves  and  the  dwarves  and  the  dwarves  and  the  dwarves  and  the  dwarves  and  the  dwarves  and  the  dwarves  and  the  dwarves  and  the  dwarves  and  the  dwarves  and  the  dwarves  and  the  dwarves  and  the  dwarves  and  the  dwarves  and  the\n",
      "\n",
      "Epoch: 22\n",
      "\n",
      "Epoch 1/1\n",
      "65243/65243 [==============================] - 422s 6ms/step - loss: 1.1370\n",
      "µ  a  bit  of  the  dwarves  and  the  sound  of  the  dwarves  and  the  sound  of  the  dwarves  and  the  sound  of  the  dwarves  and  the  sound  of  the  dwarves  and  the  sound  of  the  dwarves  and  the  sound  of  the  dwarves  and  the  sound  of  the  dwarves  and  the  sound  of  the  dwarves  and  the  sound  of  the  dwarves  and  the  sound  of  the  dwarves  and  the  sound  of  the  dwarves  and  the  sound  of  the  dwarves  and  the  sound  of  the  dwarves  and  the  sound \n",
      "\n",
      "Epoch: 23\n",
      "\n",
      "Epoch 1/1\n",
      "65243/65243 [==============================] - 423s 6ms/step - loss: 1.1324\n",
      "X  the  shadow  of  the  doors  of  the  doorstep  of  the  Mountain  and  the  dwarves  and  the  dwarves  and  the  dwarves  and  the  dwarves  and  the  dwarves  and  the  dwarves  and  the  dwarves  and  the  dwarves  and  the  dwarves  and  the  dwarves  and  the  dwarves  and  the  dwarves  and  the  dwarves  and  the  dwarves  and  the  dwarves  and  the  dwarves  and  the  dwarves  and  the  dwarves  and  the  dwarves  and  the  dwarves  and  the  dwarves  and  the  dwarves  and  the  dw\n",
      "\n",
      "Epoch: 24\n",
      "\n",
      "Epoch 1/1\n",
      "65243/65243 [==============================] - 423s 6ms/step - loss: 1.1280\n",
      "xpect  to  see  the  sound  of  the  dwarves  and  the  dwarves  and  the  dwarves  and  the  dwarves  and  the  dwarves  and  the  dwarves  and  the  dwarves  and  the  dwarves  and  the  dwarves  and  the  dwarves  and  the  dwarves  and  the  dwarves  and  the  dwarves  and  the  dwarves  and  the  dwarves  and  the  dwarves  and  the  dwarves  and  the  dwarves  and  the  dwarves  and  the  dwarves  and  the  dwarves  and  the  dwarves  and  the  dwarves  and  the  dwarves  and  the  dwarves\n",
      "\n",
      "Epoch: 25\n",
      "\n",
      "Epoch 1/1\n",
      "65243/65243 [==============================] - 423s 6ms/step - loss: 1.1240\n",
      "he  straight  and  shouting.  They  were  still  singing  and  the  sound  of  the  dwarves  and  the  dwarves  and  the  dwarves  and  the  dwarves  and  the  dwarves  and  the  dwarves  and  the  dwarves  and  the  dwarves  and  the  dwarves  and  the  dwarves  and  the  dwarves  and  the  dwarves  and  the  dwarves  and  the  dwarves  and  the  dwarves  and  the  dwarves  and  the  dwarves  and  the  dwarves  and  the  dwarves  and  the  dwarves  and  the  dwarves  and  the  dwarves  and  the\n",
      "\n",
      "Epoch: 26\n",
      "\n",
      "Epoch 1/1\n",
      "65243/65243 [==============================] - 422s 6ms/step - loss: 1.1200\n"
     ]
    },
    {
     "name": "stdout",
     "output_type": "stream",
     "text": [
      "e  the  strangers  saw  them  all  the  strange  thing  and  the  sound  of  the  dwarves  and  the  sound  of  the  dwarves  and  the  sound  of  the  dwarves  and  the  sound  of  the  dwarves  and  the  sound  of  the  dwarves  and  the  sound  of  the  dwarves  and  the  sound  of  the  dwarves  and  the  sound  of  the  dwarves  and  the  sound  of  the  dwarves  and  the  sound  of  the  dwarves  and  the  sound  of  the  dwarves  and  the  sound  of  the  dwarves  and  the  sound  of  the\n",
      "\n",
      "Epoch: 27\n",
      "\n",
      "Epoch 1/1\n",
      "65243/65243 [==============================] - 421s 6ms/step - loss: 1.1163\n",
      "‚d  the  stranger  of  the  stream  that  had  been  seen  they  had  been  seen  the  sun  was  still  seen  of  the  songs  of  the  dwarves  and  the  dwarves  and  the  dwarves  and  the  dwarves  and  the  dwarves  and  the  dwarves  and  the  dwarves  and  the  dwarves  and  the  dwarves  and  the  dwarves  and  the  dwarves  and  the  dwarves  and  the  dwarves  and  the  dwarves  and  the  dwarves  and  the  dwarves  and  the  dwarves  and  the  dwarves  and  the  dwarves  and  the  dwar\n",
      "\n",
      "Epoch: 28\n",
      "\n",
      "Epoch 1/1\n",
      "65243/65243 [==============================] - 421s 6ms/step - loss: 1.1125\n",
      "ve  had  a  power  of  the  strength  of  the  dark  and  the  stream  of  the  Mountain,  and  the  trees  of  the  dark  shapes  of  the  dark  shapes  of  the  dark  shapes  of  the  dark  shapes  of  the  dark  shapes  of  the  dark  shapes  of  the  dark  shapes  of  the  dark  shapes  of  the  dark  shapes  of  the  dark  shapes  of  the  dark  shapes  of  the  dark  shapes  of  the  dark  shapes  of  the  dark  shapes  of  the  dark  shapes  of  the  dark  shapes  of  the  dark  shapes  o\n",
      "\n",
      "Epoch: 29\n",
      "\n",
      "Epoch 1/1\n",
      "65243/65243 [==============================] - 421s 6ms/step - loss: 1.1091\n",
      "Do not be seen. \n",
      "     'I will  not  say  that  they  will  be  so  small  and  thinking  of  the  dwarves  and  the  dwarves  and  the  dwarves  had  been  a  good  deal  of  the  dwarves  and  the  dwarves  and  the  dwarves  had  been  a  good  deal  of  the  dwarves  and  the  dwarves  and  the  dwarves  had  been  a  good  deal  of  the  dwarves  and  the  dwarves  and  the  dwarves  had  been  a  good  deal  of  the  dwarves  and  the  dwarves  and  the  dwarves  had  been  a  good  deal  o\n",
      "\n",
      "Epoch: 30\n",
      "\n",
      "Epoch 1/1\n",
      "65243/65243 [==============================] - 422s 6ms/step - loss: 1.1057\n",
      "ve  had  a  plan  on  the  stream,  and  they  were  still  silent  below  them  all  the  stream  below  them  all  the  stream  below  them  all  the  stream  below  them  all  the  stream  below  them  all  the  stream  below  them  all  the  stream  below  them  all  the  stream  below  them  all  the  stream  below  them  all  the  stream  below  them  all  the  stream  below  them  all  the  stream  below  them  all  the  stream  below  them  all  the  stream  below  them  all  the  stream\n",
      "\n",
      "Epoch: 31\n",
      "\n",
      "Epoch 1/1\n",
      "65243/65243 [==============================] - 420s 6ms/step - loss: 1.1027\n",
      ":  'What  about  the \n",
      "words  of  the  Mountain  in  the  dark  things  that  have  not  had  no  time  to  see  the  time  they  were  a  good  deal  of  the  dwarves  and  the  sound  of  the  dwarves  and  the  sound  of  the  dwarves  and  the  sound  of  the  dwarves  and  the  sound  of  the  dwarves  and  the  sound  of  the  dwarves  and  the  sound  of  the  dwarves  and  the  sound  of  the  dwarves  and  the  sound  of  the  dwarves  and  the  sound  of  the  dwarves  and  the  sound  \n",
      "\n",
      "Epoch: 32\n",
      "\n",
      "Epoch 1/1\n",
      "65243/65243 [==============================] - 421s 6ms/step - loss: 1.0994\n",
      "He  saw  the  stars  and  the  stream  to  the  stone  the  dwarves  and  the  stream  went  on  to  the  stone  the  stars.  The  dwarves  had  been  seen  the  dwarves  and  the  stream  went  on  to  the  stone  the  stars.  The  dwarves  had  been  seen  the  dwarves  and  the  stream  went  on  to  the  stone  the  stars.  The  dwarves  had  been  seen  the  dwarves  and  the  stream  went  on  to  the  stone  the  stars.  The  dwarves  had  been  seen  the  dwarves  and  the  stream  went \n",
      "\n",
      "Epoch: 33\n",
      "\n",
      "Epoch 1/1\n",
      "65243/65243 [==============================] - 421s 6ms/step - loss: 1.0965\n",
      "®ril \n",
      "were  still  the  sound  of  the  dwarves  and  the  little  shadow  of  the  river  and  the  shadow  of  the  river  and  the  shadow  of  the  river  and  the  shadow  of  the  river  and  the  shadow  of  the  river  and  the  shadow  of  the  river  and  the  shadow  of  the  river  and  the  shadow  of  the  river  and  the  shadow  of  the  river  and  the  shadow  of  the  river  and  the  shadow  of  the  river  and  the  shadow  of  the  river  and  the  shadow  of  the  river  a\n",
      "\n",
      "Epoch: 34\n",
      "\n",
      "Epoch 1/1\n",
      "65243/65243 [==============================] - 421s 6ms/step - loss: 1.0938\n",
      "##-     'I  will  go  to  the  best  of  the  dwarves  and  the  dwarves  and  the  dwarves  and  the  dwarves  and  the  dwarves  and  the  dwarves  and  the  dwarves  and  the  dwarves  and  the  dwarves  and  the  dwarves  and  the  dwarves  and  the  dwarves  and  the  dwarves  and  the  dwarves  and  the  dwarves  and  the  dwarves  and  the  dwarves  and  the  dwarves  and  the  dwarves  and  the  dwarves  and  the  dwarves  and  the  dwarves  and  the  dwarves  and  the  dwarves  and  the\n",
      "\n",
      "Epoch: 35\n",
      "\n",
      "Epoch 1/1\n",
      "65243/65243 [==============================] - 421s 6ms/step - loss: 1.0909\n",
      "9     'I don't know what they were all about the  days of the  Ring and  the  days of  the  Ring  and \n",
      "the  days of the  Ring  where the  Ring  would  be \n",
      "carried out of the walls of the City. \n",
      "     'There  are  more  than  the  dwarves  and  the  dwarves  had  been  a  great  deal  of  the  dwarves  and  the  strange  table  was  a  great  deal  of  the  dwarves  and  the  stream  that  had  been  a  great  deal  of  the  dwarves  and  the  strange  table  was  a  great  deal  of  the  dwarves \n",
      "\n",
      "Epoch: 36\n",
      "\n",
      "Epoch 1/1\n",
      "65243/65243 [==============================] - 423s 6ms/step - loss: 1.0881\n",
      "and  the  spiders  that  was  a  great  commanding  path  that  they  were  a  good  deal  of  the  dwarves  of  the  Mountain,  and  the  dwarves  had  stopped  as  if  they  could  see  no  longer  any  time  to  see  the  trees  and  the  dwarves  had  been  a  good  deal  of  the  dwarves  of  the  Mountain,  and  the  dwarves  had  stopped  as  if  they  could  see  no  longer  any  time  to  see  the  trees  and  the  dwarves  had  been  a  good  deal  of  the  dwarves  of  the  Mountain, \n",
      "\n",
      "Epoch: 37\n",
      "\n",
      "Epoch 1/1\n",
      "65243/65243 [==============================] - 422s 6ms/step - loss: 1.0857\n",
      "Company  will  be  seen  for  the  same  time  that  had  been  a  strange  thing,  and  the  dwarves  and  the  land  of  the  Mountain,  and  the  dwarves  had  been  in  the  dark  the  dwarves  and  the  land  of  the  Mountain,  and  the  dwarves  had  been  in  the  dark  the  dwarves  and  the  land  of  the  Mountain,  and  the  dwarves  had  been  in  the  dark  the  dwarves  and  the  land  of  the  Mountain,  and  the  dwarves  had  been  in  the  dark  the  dwarves  and  the  land  o\n",
      "\n",
      "Epoch: 38\n",
      "\n",
      "Epoch 1/1\n",
      "65243/65243 [==============================] - 423s 6ms/step - loss: 1.0833\n",
      "? ' \n",
      "     'I  do not know,' said Gandalf.  \n",
      "     'The  man of Gondor  and  the  strangers  and  the \n",
      "strength of the  first  they had  been  seen  that  the  sun  was  singing  to  the  doors  of  the  Mountain,  and  the  dwarves  had  seen  the  dwarves  and  the  dwarves  and  the  dwarves  and  the  dwarves  and  the  dwarves  and  the  dwarves  and  the  dwarves  and  the  dwarves  and  the  dwarves  and  the  dwarves  and  the  dwarves  and  the  dwarves  and  the  dwarves  and  the  dwarv\n",
      "\n",
      "Epoch: 39\n",
      "\n",
      "Epoch 1/1\n",
      "65243/65243 [==============================] - 421s 6ms/step - loss: 1.0809\n"
     ]
    },
    {
     "name": "stdout",
     "output_type": "stream",
     "text": [
      "nd  the  strangers  and  the  sound  of  the  dwarves  and  the  rocks  and  the  rocks  and  the  rocks  and  the  rocks  and  the  rocks  and  the  rocks  and  the  rocks  and  the  rocks  and  the  rocks  and  the  rocks  and  the  rocks  and  the  rocks  and  the  rocks  and  the  rocks  and  the  rocks  and  the  rocks  and  the  rocks  and  the  rocks  and  the  rocks  and  the  rocks  and  the  rocks  and  the  rocks  and  the  rocks  and  the  rocks  and  the  rocks  and  the  rocks  and\n",
      "\n",
      "Epoch: 40\n",
      "\n",
      "Epoch 1/1\n",
      "65243/65243 [==============================] - 420s 6ms/step - loss: 1.0787\n",
      "g  the  stone  and  the  trees  and  the  dwarves  and  the  light  of  the  dwarves  and  the  little  stone  they  could  not  get  on  the  ground.  \"The  dwarves  are  a  great  grey  smoke-messes  and  the  dwarves  and  the  little  stone  they  could  not  get  on  the  ground.  \"The  dwarves  are  a  great  grey  smoke-messes  and  the  dwarves  and  the  little  stone  they  could  not  get  on  the  ground.  \"The  dwarves  are  a  great  grey  smoke-messes  and  the  dwarves  and  the \n",
      "\n",
      "Epoch: 41\n",
      "\n",
      "Epoch 1/1\n",
      "65243/65243 [==============================] - 421s 6ms/step - loss: 1.0766\n",
      "\" \n",
      "\"If we  can  help  you  and  the  door  of  the  dwarves  and  the  dwarves  and  the  dwarves  and  the  dwarves  and  the  dwarves  and  the  dwarves  and  the  dwarves  and  the  dwarves  and  the  dwarves  and  the  dwarves  and  the  dwarves  and  the  dwarves  and  the  dwarves  and  the  dwarves  and  the  dwarves  and  the  dwarves  and  the  dwarves  and  the  dwarves  and  the  dwarves  and  the  dwarves  and  the  dwarves  and  the  dwarves  and  the  dwarves  and  the  dwarves  an\n",
      "\n",
      "Epoch: 42\n",
      "\n",
      "Epoch 1/1\n",
      "65243/65243 [==============================] - 423s 6ms/step - loss: 1.0744\n",
      "/h4> <br> \n",
      "\n",
      "The Crocuk Iminas, and if you don't. \n",
      "     'I do not know what  I  have  seen  any  more  than  a  \n",
      "stranger  of  the  dwarves  and  the  dwarves  had  been  a  great  commotion  of  the  dwarves  and  the  sound  of  the  dwarves  had  been  a  deal  of  the  dwarves  had  been  a  great  commotion  of  the  dwarves  and  the  sound  of  the  dwarves  had  been  a  deal  of  the  dwarves  had  been  a  great  commotion  of  the  dwarves  and  the  sound  of  the  dwarves  had  been \n",
      "\n",
      "Epoch: 43\n",
      "\n",
      "Epoch 1/1\n",
      "65243/65243 [==============================] - 422s 6ms/step - loss: 1.0724\n",
      "(and the \n",
      "stream  they  had  all  the  track  of  the  dwarves  of  the  dwarves  of  the  dwarves  of  the  dwarves  of  the  dwarves  of  the  dwarves  of  the  dwarves  of  the  dwarves  of  the  dwarves  of  the  dwarves  of  the  dwarves  of  the  dwarves  of  the  dwarves  of  the  dwarves  of  the  dwarves  of  the  dwarves  of  the  dwarves  of  the  dwarves  of  the  dwarves  of  the  dwarves  of  the  dwarves  of  the  dwarves  of  the  dwarves  of  the  dwarves  of  the  dwarves  of  \n",
      "\n",
      "Epoch: 44\n",
      "\n",
      "Epoch 1/1\n",
      "65243/65243 [==============================] - 421s 6ms/step - loss: 1.0702\n",
      "\" \n",
      "\"It was  not  a  mighty  size  of  the  mountains.  They  were  still  spread  in  the  dark  they  could  not  get  out  of  the  stream.  There  was  a  silence  of  the  stream.  The  dwarves  had  seen  the  dwarves  and  Bilbo  was  sitting  and  strong  and  closed  and  strode  forward  and  standing  before  them.  They  had  a  strange  stream  that  had  been  seen  that  the  dwarves  had  seen  the  dwarves  and  Bilbo  was  sitting  and  strong  and  closed  and  strode  forward \n",
      "\n",
      "Epoch: 45\n",
      "\n",
      "Epoch 1/1\n",
      "65243/65243 [==============================] - 422s 6ms/step - loss: 1.0685\n",
      "he  stronger  \n",
      "stream through  the  walls of the  Mountains  of  the \n",
      "Mountains and the stones of the Mountains, and the stones were still spring out of the shadow of the stream. \n",
      "     The  sun was  shining  and  strongered  and  strong  and  clear  and  clear  throbbing  and  starlight  and  black  shapes,  and  the  trees  and  the  trees  and  the  trees  and  the  trees  and  the  trees  and  the  trees  and  the  trees  and  the  trees  and  the  trees  and  the  trees  and  the  trees  and\n",
      "\n",
      "Epoch: 46\n",
      "\n",
      "Epoch 1/1\n",
      "65243/65243 [==============================] - 421s 6ms/step - loss: 1.0666\n",
      "Ring \n",
      "to  the  barrow-light.  The  sun  was  sinking  in  the  dark  water  and  the  sound  of  the  dwarves  and  the  great  stone  was  sinking  on  the  tree-trunk  and  smoke  and  stood  at  the  road  to  the  edge  of  the  house  of  the  trees  and  the  dwarves  had  been  in  the  dark  stone  of  the  dwarves  and  the  dwarves  had  been  in  the  dark  stone  of  the  dwarves  and  the  dwarves  had  been  in  the  dark  stone  of  the  dwarves  and  the  dwarves  had  been  in  \n",
      "\n",
      "Epoch: 47\n",
      "\n",
      "Epoch 1/1\n",
      "65243/65243 [==============================] - 420s 6ms/step - loss: 1.0648\n",
      "» King of the Marshes \n",
      "\n",
      " \n",
      " \n",
      "     The  sun was  set  on  the  stone  and  the  sound  of  the  dwarves  had  been  in  the  same  that  he  had  always  had  a  long  road  that  he  had  a  plan  of  the  dwarves  had  been  seen  for  the  secret  path  that  the  dwarves  had  seen  the  dwarves  had  been  seen  for  the  secret  path  that  the  dwarves  had  seen  the  dwarves  had  been  seen  for  the  secret  path  that  the  dwarves  had  seen  the  dwarves  had  been  seen  for  the  s\n",
      "\n",
      "Epoch: 48\n",
      "\n",
      "Epoch 1/1\n",
      "65243/65243 [==============================] - 421s 6ms/step - loss: 1.0631\n",
      "xpected to  see  the  trees  and  the  trees  and  the  trees  and  the  trees  and  the  trees  and  the  trees  and  the  trees  and  the  trees  and  the  trees  and  the  trees  and  the  trees  and  the  trees  and  the  trees  and  the  trees  and  the  trees  and  the  trees  and  the  trees  and  the  trees  and  the  trees  and  the  trees  and  the  trees  and  the  trees  and  the  trees  and  the  trees  and  the  trees  and  the  trees  and  the  trees  and  the  trees  and  the  tr\n",
      "\n",
      "Epoch: 49\n",
      "\n",
      "Epoch 1/1\n",
      "65243/65243 [==============================] - 421s 6ms/step - loss: 1.0616\n",
      "7  and  the  dwarves  and  the  dwarves  of  the  dwarves  and  the  dwarves  of  the  dwarves  and  the  dwarves  of  the  dwarves  and  the  dwarves  of  the  dwarves  and  the  dwarves  of  the  dwarves  and  the  dwarves  of  the  dwarves  and  the  dwarves  of  the  dwarves  and  the  dwarves  of  the  dwarves  and  the  dwarves  of  the  dwarves  and  the  dwarves  of  the  dwarves  and  the  dwarves  of  the  dwarves  and  the  dwarves  of  the  dwarves  and  the  dwarves  of  the  dwarve\n",
      "\n",
      "Epoch: 50\n",
      "\n",
      "Epoch 1/1\n",
      "65243/65243 [==============================] - 423s 6ms/step - loss: 1.0599\n",
      "He  came  to  the  top  of  the  door  to  the  stone  and  the  stone  the  storm  of  the  dwarves  and  the  stream  took  the  hobbit's  face  and  stood  a  story  of  some  criff.  \"The  dwarves  are  seldom  to  the  dwarves  of  the  dwarves  and  the  dwarves  of  the  Mountain.  The  dwarves  had  set  his  head  and  stamped  by  the  trees  and  the  sound  of  the  dwarves  and  the  dwarves  of  the  Mountain.  The  dwarves  had  set  his  head  and  stamped  by  the  trees  and  t\n",
      "\n",
      "Epoch: 51\n",
      "\n",
      "Epoch 1/1\n",
      "65243/65243 [==============================] - 421s 6ms/step - loss: 1.0584\n",
      "QVUJ(JoUUa): \n",
      "     Chapter in the Wild  Mathor  had  been  seen  for  the  dwarves  and  the  dwarves  and  Bilbo  and  his  brother  to  the  door  that  he  had  a  little  silver  and  the  sound  of  the  dwarves  and  the  sound  of  the  dwarves  and  the  sound  of  the  dwarves  and  the  sound  of  the  dwarves  and  the  sound  of  the  dwarves  and  the  sound  of  the  dwarves  and  the  sound  of  the  dwarves  and  the  sound  of  the  dwarves  and  the  sound  of  the  dwarves  an\n",
      "\n",
      "Epoch: 52\n",
      "\n",
      "Epoch 1/1\n",
      "11750/65243 [====>.........................] - ETA: 6:03 - loss: 1.0366"
     ]
    }
   ],
   "source": [
    "# Training if there is no trained weights specified\n",
    "\n",
    "#Esta es la iteración importante\n",
    "#Pueden cambiar la condición para que termine en un determinado numero de epochs.\n",
    "while True:\n",
    "    print('\\n\\nEpoch: {}\\n'.format(nb_epoch))\n",
    "    #Ajuste del modelo, y entrenamiento de 1 epoca\n",
    "    model.fit(X, y, batch_size=BATCH_SIZE, verbose=1, epochs=1)\n",
    "    nb_epoch += 1\n",
    "    #Generacion de un texto al final de la epoca\n",
    "    generate_text(model, GENERATE_LENGTH, VOCAB_SIZE, ix_to_char)\n",
    "    #Pueden modificar esto para tener más checkpoints\n",
    "    if nb_epoch % 10 == 0:\n",
    "        model.save_weights('checkpoint_layer_{}_hidden_{}_epoch_{}.hdf5'.format(LAYER_NUM, HIDDEN_DIM, nb_epoch))\n",
    "        break"
   ]
  },
  {
   "cell_type": "markdown",
   "metadata": {},
   "source": [
    "### Generación de texto\n",
    "Si instancian el modelo y sus parametros (ejecutando algunas celdas preliminares), y tienen los 2 archivos requeridos (.pickle y .hdf5) pueden generar el texto. \n",
    "<br>En el ejemplo de LOTR: `VOCAB_SIZE = 84` (si desean probarlo, se adjuntar los pesos y el diccionario, pero no el texto)"
   ]
  },
  {
   "cell_type": "code",
   "execution_count": null,
   "metadata": {},
   "outputs": [],
   "source": [
    "#Cuidar de no reemplazar el pickle original\n",
    "with open('ix_to_char.pickle', 'rb') as handle:\n",
    "    ix_to_char = pickle.load(handle)\n",
    "    \n",
    "WEIGHTS = \"checkpoint_layer_2_hidden_250_epoch_60.hdf5\"\n",
    "# Loading the trained weights\n",
    "model.load_weights(WEIGHTS)\n",
    "generate_text(model, GENERATE_LENGTH, VOCAB_SIZE, ix_to_char)\n",
    "print('\\n\\n')"
   ]
  }
 ],
 "metadata": {
  "kernelspec": {
   "display_name": "Python 3",
   "language": "python",
   "name": "python3"
  },
  "language_info": {
   "codemirror_mode": {
    "name": "ipython",
    "version": 3
   },
   "file_extension": ".py",
   "mimetype": "text/x-python",
   "name": "python",
   "nbconvert_exporter": "python",
   "pygments_lexer": "ipython3",
   "version": "3.5.5"
  },
  "widgets": {
   "state": {},
   "version": "1.1.2"
  }
 },
 "nbformat": 4,
 "nbformat_minor": 2
}
