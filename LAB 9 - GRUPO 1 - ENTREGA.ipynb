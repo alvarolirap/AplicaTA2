{
 "cells": [
  {
   "cell_type": "markdown",
   "metadata": {
    "colab_type": "text",
    "id": "b1O-_VvdXw4h"
   },
   "source": [
    "### Contenido del Dataset"
   ]
  },
  {
   "cell_type": "markdown",
   "metadata": {},
   "source": [
    "Twitter Sentiment140: Tweets related to brands/keywords. Website includes papers and research ideas. (77 MB)"
   ]
  },
  {
   "cell_type": "markdown",
   "metadata": {
    "colab_type": "text",
    "id": "JfUXi7sqXw4j"
   },
   "source": [
    "The data is a CSV with emoticons removed. Data file format has 6 fields:\n",
    "- **0** - the polarity of the tweet (0 = negative, 2 = neutral, 4 = positive)\n",
    "- **1** - the id of the tweet (2087)\n",
    "- **2** - the date of the tweet (Sat May 16 23:58:44 UTC 2009)\n",
    "- **3** - the query (lyx). If there is no query, then this value is NO_QUERY.\n",
    "- **4** - the user that tweeted (robotickilldozr)\n",
    "- **5** - the text of the tweet (Lyx is cool)"
   ]
  },
  {
   "cell_type": "markdown",
   "metadata": {
    "colab_type": "text",
    "id": "puLzRFPyXw4m"
   },
   "source": [
    "If you use this data, please cite Sentiment140 as your source.\n",
    "- **Link** : http://help.sentiment140.com/for-students/\n",
    "- **CSV** : https://docs.google.com/file/d/0B04GJPshIjmPRnZManQwWEdTZjg/edit"
   ]
  },
  {
   "cell_type": "markdown",
   "metadata": {
    "colab_type": "text",
    "id": "WHdlF5c7Xw4o"
   },
   "source": [
    "## 1. Carga de los datos"
   ]
  },
  {
   "cell_type": "code",
   "execution_count": 20,
   "metadata": {
    "colab": {
     "autoexec": {
      "startup": false,
      "wait_interval": 0
     }
    },
    "colab_type": "code",
    "collapsed": true,
    "id": "dyCnDoXoXw4s",
    "outputId": "c62d29d2-ed47-43e8-b6ae-483856c87bec"
   },
   "outputs": [],
   "source": [
    "import pandas as pd\n",
    "header_names = [\"polarity\",\"id\",\"date\",\"query\",\"user\",\"tweet\"]\n",
    "df = pd.read_csv(\"trainingandtestdata/training.1600000.processed.noemoticon.csv\", sep=',', names = header_names, encoding=\"ISO-8859-1\",header=None)\n",
    "test = pd.read_csv(\"trainingandtestdata/testdata.manual.2009.06.14.csv\", sep=',', names = header_names, encoding=\"ISO-8859-1\",header=None)"
   ]
  },
  {
   "cell_type": "code",
   "execution_count": 21,
   "metadata": {
    "collapsed": true
   },
   "outputs": [],
   "source": [
    "def df_size(df):\n",
    "    \"\"\"Return the size of a DataFrame in Megabyes\"\"\"\n",
    "    total = 0.0\n",
    "    for col in df:\n",
    "        total += df[col].nbytes\n",
    "    return total/1048576"
   ]
  },
  {
   "cell_type": "code",
   "execution_count": 22,
   "metadata": {},
   "outputs": [
    {
     "name": "stdout",
     "output_type": "stream",
     "text": [
      "Tamaño de archivo: 73.2421875 MB\n"
     ]
    }
   ],
   "source": [
    "print('Tamaño de archivo:',df_size(df), 'MB')"
   ]
  },
  {
   "cell_type": "code",
   "execution_count": 23,
   "metadata": {
    "colab": {
     "autoexec": {
      "startup": false,
      "wait_interval": 0
     }
    },
    "colab_type": "code",
    "id": "migD5PMXXw44"
   },
   "outputs": [
    {
     "data": {
      "text/html": [
       "<div>\n",
       "<style>\n",
       "    .dataframe thead tr:only-child th {\n",
       "        text-align: right;\n",
       "    }\n",
       "\n",
       "    .dataframe thead th {\n",
       "        text-align: left;\n",
       "    }\n",
       "\n",
       "    .dataframe tbody tr th {\n",
       "        vertical-align: top;\n",
       "    }\n",
       "</style>\n",
       "<table border=\"1\" class=\"dataframe\">\n",
       "  <thead>\n",
       "    <tr style=\"text-align: right;\">\n",
       "      <th></th>\n",
       "      <th>polarity</th>\n",
       "      <th>id</th>\n",
       "      <th>date</th>\n",
       "      <th>query</th>\n",
       "      <th>user</th>\n",
       "      <th>tweet</th>\n",
       "    </tr>\n",
       "  </thead>\n",
       "  <tbody>\n",
       "    <tr>\n",
       "      <th>0</th>\n",
       "      <td>0</td>\n",
       "      <td>1467810369</td>\n",
       "      <td>Mon Apr 06 22:19:45 PDT 2009</td>\n",
       "      <td>NO_QUERY</td>\n",
       "      <td>_TheSpecialOne_</td>\n",
       "      <td>@switchfoot http://twitpic.com/2y1zl - Awww, t...</td>\n",
       "    </tr>\n",
       "    <tr>\n",
       "      <th>1</th>\n",
       "      <td>0</td>\n",
       "      <td>1467810672</td>\n",
       "      <td>Mon Apr 06 22:19:49 PDT 2009</td>\n",
       "      <td>NO_QUERY</td>\n",
       "      <td>scotthamilton</td>\n",
       "      <td>is upset that he can't update his Facebook by ...</td>\n",
       "    </tr>\n",
       "    <tr>\n",
       "      <th>2</th>\n",
       "      <td>0</td>\n",
       "      <td>1467810917</td>\n",
       "      <td>Mon Apr 06 22:19:53 PDT 2009</td>\n",
       "      <td>NO_QUERY</td>\n",
       "      <td>mattycus</td>\n",
       "      <td>@Kenichan I dived many times for the ball. Man...</td>\n",
       "    </tr>\n",
       "    <tr>\n",
       "      <th>3</th>\n",
       "      <td>0</td>\n",
       "      <td>1467811184</td>\n",
       "      <td>Mon Apr 06 22:19:57 PDT 2009</td>\n",
       "      <td>NO_QUERY</td>\n",
       "      <td>ElleCTF</td>\n",
       "      <td>my whole body feels itchy and like its on fire</td>\n",
       "    </tr>\n",
       "    <tr>\n",
       "      <th>4</th>\n",
       "      <td>0</td>\n",
       "      <td>1467811193</td>\n",
       "      <td>Mon Apr 06 22:19:57 PDT 2009</td>\n",
       "      <td>NO_QUERY</td>\n",
       "      <td>Karoli</td>\n",
       "      <td>@nationwideclass no, it's not behaving at all....</td>\n",
       "    </tr>\n",
       "  </tbody>\n",
       "</table>\n",
       "</div>"
      ],
      "text/plain": [
       "   polarity          id                          date     query  \\\n",
       "0         0  1467810369  Mon Apr 06 22:19:45 PDT 2009  NO_QUERY   \n",
       "1         0  1467810672  Mon Apr 06 22:19:49 PDT 2009  NO_QUERY   \n",
       "2         0  1467810917  Mon Apr 06 22:19:53 PDT 2009  NO_QUERY   \n",
       "3         0  1467811184  Mon Apr 06 22:19:57 PDT 2009  NO_QUERY   \n",
       "4         0  1467811193  Mon Apr 06 22:19:57 PDT 2009  NO_QUERY   \n",
       "\n",
       "              user                                              tweet  \n",
       "0  _TheSpecialOne_  @switchfoot http://twitpic.com/2y1zl - Awww, t...  \n",
       "1    scotthamilton  is upset that he can't update his Facebook by ...  \n",
       "2         mattycus  @Kenichan I dived many times for the ball. Man...  \n",
       "3          ElleCTF    my whole body feels itchy and like its on fire   \n",
       "4           Karoli  @nationwideclass no, it's not behaving at all....  "
      ]
     },
     "execution_count": 23,
     "metadata": {},
     "output_type": "execute_result"
    }
   ],
   "source": [
    "df.head(5)"
   ]
  },
  {
   "cell_type": "code",
   "execution_count": 24,
   "metadata": {},
   "outputs": [
    {
     "data": {
      "text/plain": [
       "(1600000, 6)"
      ]
     },
     "execution_count": 24,
     "metadata": {},
     "output_type": "execute_result"
    }
   ],
   "source": [
    "df.shape"
   ]
  },
  {
   "cell_type": "markdown",
   "metadata": {},
   "source": [
    "Comprobamos de que todas las columnas estar cargando correctamente."
   ]
  },
  {
   "cell_type": "code",
   "execution_count": 25,
   "metadata": {},
   "outputs": [
    {
     "name": "stdout",
     "output_type": "stream",
     "text": [
      "polarity\n",
      "id\n",
      "date\n",
      "query\n",
      "user\n",
      "tweet\n"
     ]
    }
   ],
   "source": [
    "for x in df:\n",
    "    print (x)"
   ]
  },
  {
   "cell_type": "code",
   "execution_count": 26,
   "metadata": {
    "collapsed": true
   },
   "outputs": [],
   "source": [
    "category = df['polarity'].values\n",
    "tweets = df['tweet'].values"
   ]
  },
  {
   "cell_type": "code",
   "execution_count": 27,
   "metadata": {},
   "outputs": [
    {
     "name": "stdout",
     "output_type": "stream",
     "text": [
      "[0 0 0 ..., 4 4 4]\n"
     ]
    }
   ],
   "source": [
    "print (category)"
   ]
  },
  {
   "cell_type": "markdown",
   "metadata": {},
   "source": [
    "Definimos funcion de carga de datos."
   ]
  },
  {
   "cell_type": "code",
   "execution_count": 28,
   "metadata": {
    "collapsed": true
   },
   "outputs": [],
   "source": [
    "def cargar_datos():\n",
    "    import pandas as pd\n",
    "    header_names = [\"polarity\",\"id\",\"date\",\"query\",\"user\",\"tweet\"]\n",
    "    df = pd.read_csv(\"trainingandtestdata/training.1600000.processed.noemoticon.csv\", sep=',', names = header_names, encoding=\"ISO-8859-1\",header=None)\n",
    "    test = pd.read_csv(\"trainingandtestdata/testdata.manual.2009.06.14.csv\", sep=',', names = header_names, encoding=\"ISO-8859-1\",header=None)\n",
    "    category = df['polarity'].values\n",
    "    tweets = df['tweet'].values\n",
    "    return df,test,category,tweets\n",
    "#    df = pd.read_csv(\"trainingandtestdata/training.1600000.processed.noemoticon.csv\", sep=',', names = header_names, encoding=\"ISO-8859-1\",header=None,nrows = 10000)\n"
   ]
  },
  {
   "cell_type": "markdown",
   "metadata": {},
   "source": [
    "## 2. Preprocesamiento"
   ]
  },
  {
   "cell_type": "code",
   "execution_count": 29,
   "metadata": {},
   "outputs": [
    {
     "name": "stdout",
     "output_type": "stream",
     "text": [
      "4    800000\n",
      "0    800000\n",
      "Name: polarity, dtype: int64\n"
     ]
    }
   ],
   "source": [
    "print(df['polarity'].value_counts())"
   ]
  },
  {
   "cell_type": "code",
   "execution_count": 30,
   "metadata": {},
   "outputs": [
    {
     "name": "stdout",
     "output_type": "stream",
     "text": [
      "!\"#$%&'()*+,-./:;<=>?@[\\]^_`{|}~\n"
     ]
    }
   ],
   "source": [
    "import string\n",
    "print(string.punctuation)"
   ]
  },
  {
   "cell_type": "markdown",
   "metadata": {},
   "source": [
    "Consideramos válido el apóstrofe (') debido a que este es parte de varios *stopwords*, concepto que será explicado luego."
   ]
  },
  {
   "cell_type": "code",
   "execution_count": 31,
   "metadata": {
    "collapsed": true
   },
   "outputs": [],
   "source": [
    "import re\n",
    "\n",
    "tweets_alphanum=[]\n",
    "for i in tweets:\n",
    "    x = re.sub(r\"[^a-zA-Z' ]\",\"\",i)\n",
    "    tweets_alphanum.append(x)"
   ]
  },
  {
   "cell_type": "code",
   "execution_count": 32,
   "metadata": {},
   "outputs": [
    {
     "data": {
      "text/plain": [
       "[\"switchfoot httptwitpiccomyzl  awww that's a bummer  you shoulda got david carr of third day to do it d\",\n",
       " \"is upset that he can't update his facebook by texting it and might cry as a result  school today also blah\",\n",
       " 'kenichan i dived many times for the ball managed to save   the rest go out of bounds',\n",
       " 'my whole body feels itchy and like its on fire ',\n",
       " \"nationwideclass no it's not behaving at all i'm mad why am i here because i can't see you all over there \",\n",
       " 'kwesidei not the whole crew ',\n",
       " 'need a hug ',\n",
       " \"loltrish hey  long time no see yes rains a bit only a bit  lol  i'm fine thanks  how's you \",\n",
       " \"tatianak nope they didn't have it \",\n",
       " 'twittera que me muera  ',\n",
       " \"spring break in plain city it's snowing \",\n",
       " 'i just repierced my ears ',\n",
       " \"caregiving i couldn't bear to watch it  and i thought the ua loss was embarrassing     \",\n",
       " 'octolinz it it counts idk why i did either you never talk to me anymore ',\n",
       " \"smarrison i would've been the first but i didn't have a gun    not really though zac snyder's just a doucheclown\",\n",
       " 'iamjazzyfizzle i wish i got to watch it with you i miss you and iamlilnicki  how was the premiere',\n",
       " \"hollis' death scene will hurt me severely to watch on film  wry is directors cut not out now\",\n",
       " 'about to file taxes ',\n",
       " 'lettya ahh ive always wanted to see rent  love the soundtrack',\n",
       " 'fakerpattypattz oh dear were you drinking out of the forgotten table drinks ',\n",
       " \"alydesigns i was out most of the day so didn't get much done \",\n",
       " \"one of my friend called me and asked to meet with her at mid valley todaybut i've no time sigh \",\n",
       " 'angrybarista i baked you a cake but i ated it ',\n",
       " 'this week is not going as i had hoped ',\n",
       " 'blagh class at  tomorrow ',\n",
       " 'i hate when i have to call and wake people up ',\n",
       " 'just going to cry myself to sleep after watching marley and me  ',\n",
       " 'im sad now  misslilly',\n",
       " \"ooooh lol  that leslie and ok i won't do it again so leslie won't  get mad again \",\n",
       " 'meh almost lover is the exception this track gets me depressed every time ',\n",
       " 'some hacked my account on aim  now i have to make a new one',\n",
       " 'alielayus i want to go to promote gear and groove but unfornately no ride there  i may b going to the one in anaheim in may though',\n",
       " 'thought sleeping in was an option tomorrow but realizing that it now is not evaluations in the morning and work in the afternoon ',\n",
       " 'julieebaby awe i love you too  am here  i miss you',\n",
       " 'humpninja i cry my asian eyes to sleep at night ',\n",
       " \"ok i'm sick and spent an hour sitting in the shower cause i was too sick to stand and held back the puke like a champ bed now \",\n",
       " 'cocomix ill tell ya the story later  not a good day and ill be workin for like three more hours',\n",
       " 'missxu sorry bed time came here gmt   httpisgdfnge',\n",
       " \"fleurylis i don't either its depressing i don't think i even want to know about the kids in suitcases \",\n",
       " \"bed class  work  gym  or  then class  another day that's gonna fly by i miss my girlfriend \",\n",
       " \"really don't feel like getting up today but got to study to for tomorrows practical exam \",\n",
       " \"he's the reason for the teardrops on my guitar the only one who has enough of me to break my heart \",\n",
       " \"sad sad sad i don't know why but i hate this feeling  i wanna sleep and i still can't\",\n",
       " 'jonathanrknight awww i soo wish i was there to see you finally comfortable im sad that i missed it ',\n",
       " \"falling asleep just heard about that tracy girl's body being found how sad  my heart breaks for that family\",\n",
       " \"viennah yay i'm happy for you with your job but that also means less time for me and you \",\n",
       " 'just checked my user timeline on my blackberry it looks like the twanking is still happening  are ppl still having probs w bgs and uids',\n",
       " \"oh manwas ironing jeancjumbe's fave top to wear to a meeting burnt it \",\n",
       " 'is strangely sad about lilo and samro breaking up ',\n",
       " \"tea oh i'm so sorry  i didn't think about that before retweeting\",\n",
       " \"broadband plan 'a massive broken promise' httptinyurlcomdcuc via wwwdiigocomtautao still waiting for broadband we are \",\n",
       " \"localtweeps wow tons of replies from you may have to unfollow so i can see my friends' tweets you're scrolling the feed a lot \",\n",
       " 'our duck and chicken are taking wayyy too long to hatch ',\n",
       " 'put vacation photos online a few yrs ago pc crashed and now i forget the name of the site ',\n",
       " 'i need a hug ',\n",
       " 'andywana not sure what they are only that they are pos as much as i want to i dont think can trade away company assets sorry andy ',\n",
       " 'oanhlove i hate when that happens ',\n",
       " \"i have a sad feeling that dallas is not going to show up  i gotta say though you'd think more shows would use music from the game mmm\",\n",
       " 'ugh degrees tomorrow ',\n",
       " 'where did u move to  i thought u were already in sd  hmmm random u found me glad to hear yer doing well',\n",
       " \"batmanyng i miss my ps it's out of commission  wutcha playing have you copped 'blood on the sand'\",\n",
       " 'just leaving the parking lot of work ',\n",
       " 'the life is cool but not for me ',\n",
       " \"sadly though i've never gotten to experience the post coitus cigarette before and now i never will \",\n",
       " 'i had such a nice day too bad the rain comes in tomorrow at am ',\n",
       " \"starrbby too bad i won't be around i lost my job and can't even pay my phone bill lmao aw shucks \",\n",
       " 'damm back to school tomorrow ',\n",
       " \"mo jobs no money  how in the hell is min wage here  f'n clams an hour\",\n",
       " 'katortiz  not forever see you soon',\n",
       " 'ltalgonquin agreed i saw the failwhale allllll day today ',\n",
       " \"jdarter oh haha dude i dont really look at em unless someone says hey i added you sorry  i'm so terrible at that i need a pop up\",\n",
       " \"ninjen i'm sure you're right    i need to start working out with you and the nikster or jared at least\",\n",
       " 'i really hate how people diss my bands  trace is clearly not ugly',\n",
       " 'gym attire today was puma singlet adidas shortsand black business socks and leather shoes  lucky did not run into any cute girls',\n",
       " \"why won't you show my location   httptwitpiccomyes\",\n",
       " 'no picnic  my phone smells like citrus',\n",
       " \"ashleyac my donkey is sensitive about such comments nevertheless he'd and me'd be glad to see your mug asap charger is still awol \",\n",
       " 'no new csi tonight  fml',\n",
       " 'i think my arms are sore from tennis ',\n",
       " 'wonders why someone that u like so much can make you so unhappy in a split seccond  depressed  ',\n",
       " 'sleep soon i just hate saying bye and see you tomorrow for the night ',\n",
       " 'statravelau just got ur newsletter those fares really are unbelievable shame i already booked and paid for mine ',\n",
       " \"missin' the boo \",\n",
       " 'markhardy me too  itm',\n",
       " \"damn i don't have any chalk my chalkboard is useless \",\n",
       " \"had a blast at the getty villa but hates that she's had a sore throat all day it's just getting worse too \",\n",
       " 'msdrama hey missed ya at the meeting  sup mama',\n",
       " \"my tummy hurts  i wonder if the hypnosis has anything to do with it if so it's working i get it stop smoking\",\n",
       " 'why is it always the fat ones ',\n",
       " \"januarycrimson sorry babe  my fam annoys me too thankfully they're asleep right now muahaha evil laugh\",\n",
       " 'hollywoodheat i should have paid more attention when we covered photoshop in my webpage design class in undergrad ',\n",
       " \"wednesday my bday don't know what  do \",\n",
       " 'poor cameron the hills ',\n",
       " 'pray for me please the ex is threatening to start sh at myour babies st birthday party what a jerk and i still have a headache ',\n",
       " 'makeherfamous hmm   do u really enjoy being with him  if the problems are too constants u should think things more  find someone ulike',\n",
       " 'strider is a sick little puppy  httpappsfacebookcomdogbookprofileview',\n",
       " \"so ryleegracewana go steve's party or not sadly since its easter i wnt b able  do much  but ohh well\",\n",
       " \"hey i actually won one of my bracket pools too bad it wasn't the one for money \",\n",
       " \"stark you don't follow me either  and i work for you\",\n",
       " 'a bad nite for the favorite teams astros and spartans lose  the nite out with tw was good',\n",
       " ' body of missing northern calif girl found police have found the remains of a missing northern california girl  httptrimimji',\n",
       " 'mangaaa i hope they will increase the capacity fast yesterday was such a pain got the fail whale  times in  hours ',\n",
       " 'behind on my classes for work ',\n",
       " 'watching quothousequot ',\n",
       " 'kpreyes remember my bum leg strikes back this time its serious ',\n",
       " 'paradisej cool i will their are all kinds of complaints about this laptop online about overheating but no recalls ',\n",
       " 'emily will be glad when mommy is done training at her new job she misses her  httpappsfacebookcomdogbookprofileview',\n",
       " 'would rather the first party send bad messages than the rd party send mixed ones  sophmore year all over again',\n",
       " \"henkuyinepu it's overrated \",\n",
       " 'marykatherineq i know i heard it this afternoon and wondered the same thing moscow is so behind the times ',\n",
       " 'laying in bed with no voice ',\n",
       " \"i'm sooo sad they killed off kutner on house  whyyyyyyyy\",\n",
       " 'jacobsummers sorry  tell them mea culpa from me and that i really am sorry',\n",
       " \"alliana it didn't make any sense to me the suicide thing i refuse to believe that that is actually what happened \",\n",
       " 'salancaster  hope your ok',\n",
       " \"mercedesashley damn the grind is inspirational and saddening at the same time  don't want you to stop cuz i like what u do much love\",\n",
       " 'hibanick yeah aw but i know i wudnt stand a chance ',\n",
       " 'ugh cant sleep its am ',\n",
       " \"hanging in crooners wanna sing can't sucks \",\n",
       " 'erresc aaw i miss ya all too im leaving to bh tomorrow quotmorningquot i think aww i wanna go to the beach w u girls ',\n",
       " \"is pissed off that there's no asba's for a radio station \",\n",
       " \"wednesday my bday n don't know what  do  \",\n",
       " 'i know my life has been flipped upside down when i just thought in my head that some ramen sounds good ',\n",
       " 'i am in pain my back and sides hurt not to mention crying is made of fail ',\n",
       " \"late night snack glass of oj bc i'm quotdown with the sicknessquot then back to sleepugh i hate getting sick \",\n",
       " \"allyheman but but but i'm not a big fan on camilla belle \",\n",
       " \"grum wah i can't see clip must be elstupido work filters can't wait 'till i get a 'puter something else  blame ex  he broke mine \",\n",
       " \"this week just seems to get longer and longer in terms of how much i need to do and how much i'm actually going to get done \",\n",
       " \"i'm so cold \",\n",
       " \"thecoolestout ehhh don't weather's gonna take a turn for the ugly tomorrow \",\n",
       " 'chelserlynn haha its so cooooold in the d and no  but you should still go to the show they do some incredible stuff',\n",
       " 'hoping the tummy rumbles go away soon ',\n",
       " \"knights no no notice they told me i'd be working tomorrow and then i called the agency to follow up and they said it was over \",\n",
       " 'almost bedtime ',\n",
       " \"i'm missing you babe  but as long as your alive i'm happy yawwwnn i'm tired my love imma try to sleep hopefully you had a headstart\",\n",
       " 'aghsnow ',\n",
       " 'i miss kenny powers ',\n",
       " \"bridgetsbeaches thank you for letting people know but now i'm sad that the direct message i got wasn't actually from bridget \",\n",
       " 'and india missed out its th test victory n th consecutive win without a loss ',\n",
       " \"jonathanrknight i guess that's a no then \",\n",
       " 'sadly is going to bed ',\n",
       " 'ozesteph shame to hear this stephan ',\n",
       " \"mrsaintnick hey i'm leavin in the morning \",\n",
       " 'was intending to finish editing my page novel manuscript tonight but that will probably not happen and only  pages are left ',\n",
       " 'laid around too much today now my head hurts ',\n",
       " \"twista i still haven't read the thampth princess diaries  saving francesca made me cry at the end hmm those are easy books\",\n",
       " 'my nokia  died  ',\n",
       " \"my mom might have breast cancer won't find out anything for like a week i'm so worried \",\n",
       " 'going to sleep hoping tomorrow is a better day ',\n",
       " 'rumblepurr lol wish they understood daylight savings has ended though and breakfast is an hour later  they keep waking the kids up too',\n",
       " 'onemoreproject that is lame ',\n",
       " \"i don't understand i really don't \",\n",
       " \"heroes just isn't doing it for me this season \",\n",
       " \"living not downtown sure isn't much fun  \",\n",
       " 'jonathanchard not calorie wise   i wish junk food was calorie free i ate a thing of sour skittles and a big ass cherry coke',\n",
       " 'man work is hard ',\n",
       " 'getting sick  time for some hot tea studying and then sleeeep',\n",
       " 'getting eyebrows waxed more pain ',\n",
       " 'no phantasy star yesterday  going to work',\n",
       " \"oh  just got all my macheist  apps  sweet didn't get the espresso serial no though although they said they sent it  oh well \",\n",
       " \"picked mich st to win it all from the get go  was feeling pretty good about that pick all the way up untiltonight  a's lost too \",\n",
       " 'is alone downstairsworking ',\n",
       " 'i feel bad for doing it ',\n",
       " \"ryanseacrest is it just me or she hates anoop i mean seriously she's kinda mean to him \",\n",
       " 'pinkserendipity yes sprint has g only in baltimore and chicago so far ',\n",
       " \"i'm stuck awake in the middle of the night for the second day in a row and i felt terrible yesterday \",\n",
       " 'thanks for bursting my bubble ',\n",
       " \"going to school soon can't find anything to wear gosh it's so hard \",\n",
       " 'marieclr i was serious  lol',\n",
       " 'naughtyhaughty i had on my page for sooooo long until it got deleted  sad day in history',\n",
       " 'crazy wind today  no birding  httpffimxtti',\n",
       " 'currently at work ',\n",
       " \"grrr my ipods acting weird too jai ho and thinking of you aren't playing the full songs ughh \",\n",
       " 'penndbad send me the dvd cos i have missed out on heaps  not happy about that',\n",
       " \"i don't see the big deal with this website \",\n",
       " \"machineplay i'm so sorry you're having to go through this again  therapyfail\",\n",
       " 'colindemar far too out of the way for rail  any other tips',\n",
       " \"i'm not still up i swear why do i keep losing gaining losing gaining tweeps  so heart wrenching\",\n",
       " \"today i realized i am too good at hiding things even i can't find it \",\n",
       " 'staying at a friends househouse sitting neighbors are so loudhaving a party ',\n",
       " 'dannyvegasbaby danny im upset that i wasnt here to watch the live chat  i was in a car for  hours on a trip im soooo upset',\n",
       " 'check out my mug  httpwwwerikaobscurablogspotcom',\n",
       " 'borders closed at  ',\n",
       " \"downloading nin's new album quotthe slipquot  when the hell did this come out i'm so behind the times these days \",\n",
       " \"just woke up an already have written some email i've to go early at university today as i have to teach at  am \",\n",
       " 'is watching the hill   and its making me sad ',\n",
       " 'so many channels yet so so boring lazy day again  may have to find a hobby',\n",
       " 'supersport i miss my buddy  ill be in ny on the th',\n",
       " \"robluketic  love the french i tell people here in the south i'm qtr french and they snarl at me  french are beautiful people\",\n",
       " 'opps as i said i still got one day remain and now problem come ',\n",
       " \"i activated my selfcontrol block early meaning i can't check out the new qc  regularizing my internal clock is might be difficult fb\",\n",
       " 'hillydop  oh no',\n",
       " 'spencer is not a good guy ',\n",
       " 'goodlaura what about reese dying on ttsc and season finale next week   boring madame president is a crazy woman',\n",
       " 'jonathanrknight i hate the limited letterstoohope you and the guys are finei pray for my dogshes not well ',\n",
       " \"didn't get shit done today  i'm so screwed \",\n",
       " 'wanttss to go out ',\n",
       " 'is not going to sleep tonite ',\n",
       " 'too worried and tired to post tonight ',\n",
       " \"couldn't get shit done today  i'm so screwed \",\n",
       " 'job interview in cardiff today wish me luck got about  hours sleep ',\n",
       " \"stustone your show is whack way worse than whack it's wiggetywhack    \",\n",
       " \"djalizay i really don't think people choose to be that way but i think he chose not to accept my family's help   he might be dead by now\",\n",
       " \"eloquentembrace you're going to kill me but i've not seen ds i've been waiting till i can do it in one solid week sitting \",\n",
       " 'cheechbud i think ur right hahaha  hrs now ',\n",
       " 'i hate to see the spartans so sad ',\n",
       " 'my mind and body are severely protesting this quotgetting upquot  thing had nightmares to boot ',\n",
       " \"mysteezradio i'm goin' to follow u since u didn't  lol  go angels\",\n",
       " 'mandayyy ',\n",
       " \"twista i think i want to read some books but the library doesn't have them \",\n",
       " \"my nap was interrupted so many times today  going out for japanese with the 'rents again\",\n",
       " 'kind of longs for the bus that shows up at the end of ghost world right now ugh ',\n",
       " \"gurumn but this is canada  canada is weird we're supposed to get snow through wednesday ugh\",\n",
       " \"awwh babs you look so sad underneith that shop entrance of quotyesterday's musikquot  o i like the look of the new transformer movie \",\n",
       " \"sad that the 'feet' of my macbook just fell off \",\n",
       " \"i'm gonna get up late tomorrow and it's am here i gonna get tipsy by my lonesome that'sthat's just sad \",\n",
       " \"i'm sweating my forthcoming trip to e  if i can't find someone to crash with while i'm out there i may be screwed  \",\n",
       " 'has now gotten somebody to read his tweets but cant get them to make an account ',\n",
       " 'infinitydefines  omgawd i couldnt handle my cat being in heat all the time d d',\n",
       " 'donniewahlberg i hope i can make it to the auburn show but its not looking good for me ',\n",
       " 'davidhenrie thats people mag haha i couldnt fit it all in i dont think those pictures ever made it in the magazine tho  haha',\n",
       " 'breadandbadger congrats  i totally forgot to submit photos ',\n",
       " \"paulaabdul awww good luck paula please don't work too hard  but i hope you have fun  your new album is gonna be amazing  xxx\",\n",
       " 'imaginarypeach now your leaving me   gets sad',\n",
       " \"i miss you twitter my phone broke now i'm using a stupid nokia phone ughhh i miss my advance phone \",\n",
       " 'shooting outside my house o not kidding so scared ',\n",
       " 'tuesdayll start with reflection n then a lecture in stress reducing techniques that sure might become very useful for us accompaniers ',\n",
       " 'what tragedy and disaster in the news this week ',\n",
       " 'yes yes still trying to find a picture that will upload correclty ',\n",
       " 'why oh why was the red sox game rained out i was so looking forward to opening day ',\n",
       " \"i still can't find my keys \",\n",
       " 'charlietm i know right i dunno what is going on with twitter ',\n",
       " 'might be getting a sore throat again ',\n",
       " 'labelsnotlove   my home town my mammy called all depressd  pls explain y a parent let their yr old child walk alone hello its ',\n",
       " 'ircmaxell  i think i need to find better antidepressants  i think this paxilwellbutrin combo is losing its efficacy  ',\n",
       " 'myconnecticut restaurant called woodntap has competitive eating tourney round tourney time we place nd ',\n",
       " 'is in the bathroom wake up lakin ',\n",
       " 'caitlinoconnor i want tacos and margarhitas  telll gay i say hellolt',\n",
       " 'im lonely  keep me company  female california',\n",
       " 'bad day at the betfair office ',\n",
       " \"i miss him  can't wait to celebrate the tar heel win this weekend though\",\n",
       " \"i'm really cold i don't want to go to sleep yet but there's nothing to do \",\n",
       " \"kristencampisi is this it  u its ' officially over '  me this go round \",\n",
       " \"monkeys i just found out you my twin and you wont even write back  i'm heartbroken\",\n",
       " 'missom aww  i know i felt like that yesterday at work ',\n",
       " \"sarahreedsc treaty isn't defined \",\n",
       " 'missed brent at praise band   no fun to not have the your lead guitarist  ltpoutgt',\n",
       " 'jpfurry poor john  this is what happens when you play with fruit and a microwave seriously though have you seen a doctor xxx',\n",
       " 'missing my bff  watching home and away it reminds me of her and me  we lt it shout out to u courts',\n",
       " 'mandayyy   ',\n",
       " 'new video card is doa ',\n",
       " 'feeling lost naked and confused jk sort ofno iphone for me ',\n",
       " 'damn i am so late at filling this appraisal form people have almost sent it  i was so occupied in work ',\n",
       " 'missed brent at praise band  no fun to not have your lead guitarist ltpoutgt',\n",
       " 'i think to much on the past i cant change it i deserved so much more then wat i got but why am i still thinking about him  gah',\n",
       " \"has lost his ring it's nowhere to be seen \",\n",
       " 'burgaw ooooooh sealclap see i download shitloads of zip folders off chan i have no internet moneys  fuck yeah alicia amp mikey',\n",
       " 'is still nursing my nile but glad he is feeling better i hate when my baby is sick ',\n",
       " 'is fucked to go back to ic ',\n",
       " \"brandizzzle yoyoyo my internet has been rude tonight it just reconnected and i'm about to go to bed \",\n",
       " \"jemcam well i have uni stuff and netball  but after netbal if i've done uni stuff we can\",\n",
       " 'kissability me too i is poor ',\n",
       " 'help me forget th april amp th july ',\n",
       " \"dierks bentley is comin' to columbus oh i wanna go so bad \",\n",
       " 'i have to take my sidekick back ',\n",
       " \"chriscantore congrats i'm totally jealous only wish my xm was working \",\n",
       " 'grt my face is very itchy ',\n",
       " 'poor socks  luvvvvv the golden retriever i want one sighhhh',\n",
       " 'i just saw that they found that tracy girl in a piece of luggage how fucking terrible ',\n",
       " 'aaaaand the nausea is back ',\n",
       " 'donniewahlberg ooh im excited and not even going  be there  long love youtube',\n",
       " 'spent  hour to reach to axis bank only to find out today is holiday for mahavir jayanti  contd',\n",
       " 'mathewsmichael  i agree the jobros dont update theres very often ',\n",
       " 'fishmouse it is hilarious and i linked the clip from lj some time ago but when i went back just now it was a dead link ',\n",
       " 'diannepulham oooooooo who with im not neither but thats because i need to study  ',\n",
       " \"haven't tweeted nearly all day  posted my website tonight hopefully that goes well  night time\",\n",
       " 'bostongarden i miss bentley ',\n",
       " 'seriously needs to finish these job applications ',\n",
       " 'my son vincas is sick so i stay at home  just three tense days at work and i am back on holiday with kids',\n",
       " \"whinging my clientampboss don't understand english well rewrote some text unreadable it's written by v good writerampreviewed correctly \",\n",
       " \"huntermoore i don't want him to ever punch me  \",\n",
       " 'sooo sick of the snow  ughh',\n",
       " 'itsnemesis  ',\n",
       " \"lovemeagan it doesn't work your fan is upset \",\n",
       " 'i would like to apologize for the repeated video games live related tweets i am going to have a stern discussion with koodo soon stern ',\n",
       " 'zaydia but i cant figure out how to get there  back  pay for a hotel etc ',\n",
       " 'fml so much for seniority bc of technological ineptness i now have to quotregisterquot for classes again ',\n",
       " 'feels like she slept the day away    not looking forward to any more bouts with my gallbladder  at least i have pills now for the pain',\n",
       " 'thastevieg but what i really want is my old bass back ',\n",
       " 'mad tired today callin it in early tonight  nighty night twittas',\n",
       " 'levenrambin take it easy and be good to you ',\n",
       " \"i'm afraid i had bad code \",\n",
       " \"think i'm going to bed goodniight i hate this \",\n",
       " \"riancurtis  i'm here friend and i love you\",\n",
       " \"kariajay  all this time you didn't notice i was gonejust needed db is it\",\n",
       " 'aaronrva is in the bathroom and i have to pee    ',\n",
       " 'ashleyskyy but i wanted a margarita too ',\n",
       " 'kourtneykardash yup night workouts r the worst but unfortunetly my work schedule only allows me to go at night  its tough',\n",
       " \"just called hillsong again  they said they couldn't tell me where i was on the waiting list  i don't know if it's looking so good \",\n",
       " 'has g of milky bar left and around ml of coke ',\n",
       " \"jokerrrr it stillllll hasn't arrived \",\n",
       " 'mraow i feel like dancing but first art school wants to rape me some more ',\n",
       " \"karenucol ah i bet it does i've been like craving to play softball or basketball  but i have noo time \",\n",
       " 'is terrified she accidentally deleted a reference in her management assignment and hopes she doesnt get in trouble when she gets back ',\n",
       " 'amazon s plugin not worked in my website  it need php   but my hosting provider has only php    very sad',\n",
       " \"argh i was suuuper sleepy an hour ago now i'm wide awake  hope i don't stay up all night \",\n",
       " 'austinhill i wish i was  sold out   if you have some time let me know i would love to hear more about what you are up to',\n",
       " 'just watched tropic thunder dreading tomorrow ',\n",
       " \"qweendassah nohe's still miss'n \",\n",
       " 'chiefdelphi is down ',\n",
       " 'httptwitpiccomywr  according to my bro our new puppy had a poo fight and was covered in poop  picture stolen from him',\n",
       " \"playing game at home my new boss didn't call me yet \",\n",
       " 'su yin huen tweeted i feel unbearable guilt i made my staff cry  httptinyurlcomcwlt',\n",
       " 'poor joshy is sick   those damn tejanos',\n",
       " \"my thoughts are with sandra cantu's family at this difficult and sad time \",\n",
       " 'franzglaus i know just wanted to let everybody know what was happening  ',\n",
       " \"michigan who  i don't know them                   sigh   shameful\",\n",
       " 'i have to fill two hours ',\n",
       " 'alicayaba so cuuute hey i miss you na  its not the same not seeing you girls everyday ',\n",
       " 'jonathanrknight oh did i mention it quotgooooood moooorniiiiiiingquot  from germany im back in my cageor bettermy office ',\n",
       " 'throat is closing up and i had some string cheese not a good idea ',\n",
       " 'aww sandra cantu is found dead in a suitcase  missing children stories never seem to go good poor family',\n",
       " 'wishing i was home underneath my covers ',\n",
       " 'walking home from school drains all my energy ',\n",
       " \"ridley i agree the shapeshifting is a copout i was so excited for angela's ep i thought it was this week  noah was awesome tho\",\n",
       " 'savethestrib dang i would have done this if i knew it was there earlier  any other outings planned',\n",
       " \"i wish i was better at writing it's taking me so long to write this paper \",\n",
       " 'and of course i have access to my halo  mythic map pack redownload but bad news not the legendary map pack ugh ms ',\n",
       " \"veneia not yet unfortunately another few weeks i've been told  how are you i've been a little bit busy with my latest project\",\n",
       " \"thecoolestout ha the sun's already gone \",\n",
       " \"day  a lot harder than day  let's see how day  goes tomorrow \",\n",
       " 'my man crush jake peavy let me down  gayforpeavy',\n",
       " 'trishzw megafast trip you have time during day tomweds or you going out tonight want to see you bad tried to warn you tech fail ',\n",
       " 'michigan state you make me sad ',\n",
       " 'omg my mouth is in so much pain  i just wanna sleep untill its time to take my braces off',\n",
       " 'getting annoyed easily today  gtgtgt biofuel proposal getting annoyed easily today  gtgtgt biof httptinyurlcomceprvs',\n",
       " 'mizzchievouz hey girl the site is back  girlyvue is back and they have even more videos ',\n",
       " \"ahleyf i'm spending time with my grandma early tomorrow and i can't leave skittles by herself \",\n",
       " 'just got home from watching michigan state get tromped   ',\n",
       " \"oh jewbus two years worth of classes' work is alot to organize gtlt i'm not finishing tonight it's not possiblemy bones ache \",\n",
       " \"griffmiester no exchanging for me my laptop hasn't arrived \",\n",
       " \"hyperbets i hope this doesn't last too long  i feel miserable\",\n",
       " 'rcompo rachel hang outage is neccessary  i was gonna be home this wekend but dumb folk make me work   so im free f and sat until ',\n",
       " 'theleaguesf not fun amp furious the new mantra for the bay  breakers it was getting  rambunctiousthe city overreacted amp clamped down ',\n",
       " \"amberbenson  my hubby for some reason thinks it's more important he has a good spot for red carpet for the trek movie premiere sod\",\n",
       " \"i swear no matter how long i've been getting up at am it never gets any easier man my eyes hurts wah \",\n",
       " 'jeffreestar jeffree how do you keep your hair one color my permanent dye fades within the week ',\n",
       " \"otakusecret my reaction too  whoa didn't see that coming\",\n",
       " \"still sick feeling a bit better got some new medicine hope i feel good after a night of sleep ohh and it's suppose to snow wtf \",\n",
       " 'dangermuse i think maybe you should get a couple more hours of sleep hon how productive can you be right now if ur dog tired i worry ',\n",
       " \"maddyva thanks a lot learned a lot of new words but didn't find what i was looking for \",\n",
       " \"wish i had all the xblm downloads all on the gamertag 'hitokyri' this  gamertag thing is nonsense and i'm tired of it \",\n",
       " 'new testament test at  am   ',\n",
       " 'scoutbuck tons no hay troll ahhhh ',\n",
       " 'stupid movies we watched mirrors ugggggh stooopeeed rip off ',\n",
       " 'httptwitpiccomyyi  i love you buck ',\n",
       " 'last one but still not done ',\n",
       " 'homework ',\n",
       " \"i don't understand why things get taken away i didn't have enough time with him its unfair i want him back he was like my baby \",\n",
       " \"scratch that du in heif two in a half cookies my tum just can't take anymore shoog poots \",\n",
       " 'cococourtney i was just listening to the sweets for the first time in forever i miss them so much  can we go to chi town for visits plz',\n",
       " 'geez what a busy afternoon meetings emails meetings and email and more meetings pm and the day is still going ah its dark and ',\n",
       " 'dang another spring break  how cool is that  too bad i have to work all week  oh well more money for a phone  ttyl everbody',\n",
       " 'sarakate im afraid too   ur reply about uni from ages ago',\n",
       " 'feeling down ',\n",
       " 'carvin lol they are some emotional ass men omg all this late night eating both of us are broke ',\n",
       " 'nickcarter aww nick i like your hair longer why did you cut it off  break my heart',\n",
       " ' wonder if jon lost the net',\n",
       " \"wow the most depressing thing in the world is losing a video that you've created in a matter of seconds  fml\",\n",
       " 'nchokkan httpswwwmycomicshopcomsearchtid but all says not in stock ',\n",
       " 'poohpot lmao im sorry poohpot i ate it all ',\n",
       " \"any chance  softbelly for mtub isn't loud \",\n",
       " 'time to move my posterior  and lose some fat my articulation are creaking so no more running  but im drool for some swimming',\n",
       " 'listening to nathan cry ',\n",
       " \"today sucked i'm gonna die without chris and callum  wahhh\",\n",
       " 'stou site not update no info about  exam and open course i must wait for mail notices and doc um ',\n",
       " \"ohsbrati'm sorry i'm feeling kinda yucky myself am is going to come too quick \",\n",
       " 'is in love with scrappy and is missin him already ',\n",
       " \"wants to hear seblefebvre 's song but myspace is messing with me \",\n",
       " 'bad news was dad has cancer and is dying   good news new business started and  i am now a life coach practising holistic weight management',\n",
       " 'duchessrebecca man intervention is soo sad ',\n",
       " \"help i need a new boyfriend i'm stuck in a rut \",\n",
       " \"i feel like a complete idiot i'm the only one who doesn't get how this shit works  help me \",\n",
       " 'saw an ad on craigslist for a casting call for a female host on g i was totally psyched but realized it was a hoax ',\n",
       " \"pepperoni rolls in la i called valentino's  they said that they had sausage rolls but no pepperoni rolls  httptinyurlcomcecka\",\n",
       " \"soillodge yes it will be it's only monday \",\n",
       " 'i want the new gg episode already ',\n",
       " \"i miss watching rocko's modern life \",\n",
       " 'rip sandraits so sad    how can someone do something like that',\n",
       " 'keeping my fingers crossed for my buddy    he is not feeling well',\n",
       " \"wait should i eat or be skinny for vegas i'm hungry \",\n",
       " \"margeinovera i tried tweetdeck once and i hated it with a passion or it hated me i'm not sure \",\n",
       " \"benackerman btw my iphone is acting funny dying quickly and freezing and bs  i'm not admitting anything just sayin \",\n",
       " 'sitting here wondering why quotedquot still has such a strong hold on me ',\n",
       " 'bananaface im sorry i got you sick  lol going to bed too night',\n",
       " 'carolrainbow no internet at home have to drive into ox to use internet because of builders ',\n",
       " 'stevebuscemi the weather in canada is freezing ',\n",
       " \"twiggassssssss i been out of range all day  i'm back now and hopefully for good\",\n",
       " 'danadearmond ',\n",
       " \"anyone who reads this pray for my grandma she's in pain \",\n",
       " \" woke up and was having an accident  quotit's pushing it's pushingquot he was crying because he couldn't stop from wetting his pants  \",\n",
       " 'home from franklin street i almost jumped over a fire someone kicked it before i could  jenny lost her shoe',\n",
       " 'johnnybeane hey you just changed your default ',\n",
       " 'finally gave in and was bored enough to start this thing i think the  is going to be a problem for me tho  its like a myspace status',\n",
       " 'ellievolia if oooonly we were really so lucky eh and awh  definitely too early for work',\n",
       " 'buttload of homework ',\n",
       " 'needs another copy of visual studio  ',\n",
       " \"why to we the only school in the world be in this weekmy school is silly  anyway look on the bright side when i'm off u will be in\",\n",
       " \"omg i've an economics test and i dont know all the things i have to know and omg im gonna fail \",\n",
       " 'robcthegeek once upon a time hundred islands was the pride of philippine tourism but coralclamrare fish poaching did it in kinda sad ',\n",
       " 'henkuyinepu yeah apparently i have really bad taste ',\n",
       " 'hummiemd i know i was really surprised since everyone recommends them on youtube  i have to call them tomorrow and figure it all out',\n",
       " 'waiting at the airport for my ride while i get harassed by  men trying to sell me ugly hats why me  i just want to sleep',\n",
       " 'i left my ids at the location and now i can not go out to bars  fuckkkkkkkkkkkkk',\n",
       " \"celycarmo i'm sorry i don't understand your last comment \",\n",
       " 'officialrandl when is the announcement i stayed up late last night ',\n",
       " 'kishorek this is strange illegal torrents avlbl everywhere legal dvd not in stock  what do i do now',\n",
       " 'its not enough to say that imiss u ',\n",
       " 'this trolley has up packed in like sardines padre game and they remove a car good call mts ',\n",
       " 'randomlynat jeez i was just trying to help  haha',\n",
       " 'supamagg that happened to me saturday night along with my glittery green lighter ',\n",
       " 'trying to reduce the number of cigarettes in each day ',\n",
       " 'yea it is so quiet around here cuz everyone has to work im bored to death with nobody to talk to ',\n",
       " 'gotta do my cooking assignment  its too hard',\n",
       " \"treesahquiche okay about the applepears i've talked to a few people and they've all had them before no one ever told me never \",\n",
       " \"jennifermf i know  i'm a night owl by nature hahaha am i a time zone behind you it's almost  here\",\n",
       " 'mamasvan lol  nope but i did have complete camerafail ',\n",
       " \"maxime megelder but i'm useless if i don't sleep  it's not fair i want all the fun as well\",\n",
       " 'my pookie has a uti  i have to be nurse gabbie and get him back to  no more sodas',\n",
       " 'jillianfish tweet something damn it  and hang out with me please ',\n",
       " 'anistorm ',\n",
       " \"i'm so behind in video games and everything for that matter i'm yesterday's news \",\n",
       " 'sleeptilnoon i did it was the only one left but i got tempted and ate it soon as i got home  i had a chocolate velvet amp ate d mocha',\n",
       " 'is stressing out because my blackberry keeps flashing a red alert status for no reason its faking me out and i hate it ',\n",
       " \"httptwitpiccomye  i wanna wear my doc martens out haven't worn them since december \",\n",
       " 'when to the shoe repair shop and the guy could not find my shoes  so i have to go back and see if he can find them in a couple days ',\n",
       " 'bbarnett i did not really see that coming ',\n",
       " 'just woke up from the most vivid sketchy notcool dreams of my life time to stare at the wall with the lights on ',\n",
       " \"it'll take  days for my sister to get her passport \",\n",
       " 'nicolerichie oh my yes i miss ',\n",
       " 'uh oh i think i am getting sick ',\n",
       " 'good god they ruined my belly button  ',\n",
       " 'watching who framed roger rabbit makes me miss toon town ',\n",
       " 'akianz renting but very cheap renting and awesome house we had  buying attempts fall through ',\n",
       " 'running nose  spinning head  not a good combination for a meeting ',\n",
       " 'eazydoesit negative you lost my vote of confidence ',\n",
       " 'nasty budget due and my iphone is being sent to apple today ',\n",
       " 'sofiinoel thats bad ',\n",
       " \"dammit episode  of kings won't play for some reason  stopped in the middle now won't do anything\",\n",
       " \"i'm so upset that i missed my chat and quiz online because my free internet has ceased \",\n",
       " \"can't believe it i'm in disbelief of it all in a way really how much can i take from people and always get hurt by others \",\n",
       " 'car show season has started without me ',\n",
       " 'my throat is raw ',\n",
       " \"kevchoice i just don't get it what in a persons mind could even have them on some ish like this  my prayers are with her fam for real\",\n",
       " \"frago i hate you i didn't need to see that i need to call my therapist now \",\n",
       " \"twilight didn't come yesterday  fingers crossed for today\",\n",
       " 'nilelegania glad i was able help you feel better i hate to see you sick  love you',\n",
       " 'is tireddddddd want to sleep but i have an assignment to finish and an exam tomorrow to study for ',\n",
       " 'you know i was thinking i need money ',\n",
       " 'omgits jst teusday ',\n",
       " 'ddlovato davidhenrie ummmmm i cant find it ',\n",
       " 'just heard that they found sandra cantu she was only  yrs old ',\n",
       " 'corrosivecandy ive forgotten how to snoosnoo  i wonder if snoosnoo and i will ever meet again',\n",
       " 'amanorris wow that last tweet made me seem like a giant sexistsorry about that ',\n",
       " 'my bathtub drain is fired it haz  job  do amp it iz fail i got all drano on its ass amp iz still not draining i wanna shower dangit ',\n",
       " 'stuck at home ',\n",
       " 'nomadicmatt mine is   how do you get it up',\n",
       " \"duckling in famous children's book stolen from boston's public garden  the boston globe httptinyurlcomdchtx via sharethis oh no \",\n",
       " 'appomattoxnews thank you however i hate to be on the same list that includes  convicts  ',\n",
       " 'heading to altrincham again out of hours install ',\n",
       " 'morning good im bloody knackered work is not for me today  helppp xxx',\n",
       " \"jeffreecuntstar  i don't have a garage  but you can park in my driveway\",\n",
       " 'lauredhel  what happened',\n",
       " \"quoton popular musicquot by twadorno is probably the most difficult reading ever prescribed i'm actually struggling to continue \",\n",
       " 'httptwitpiccomye  cant see the flowers falling  i dont have a camera just my cellphone',\n",
       " \"we've been good i'm not liking the snow right now was getting used to the nice springlike weather  how about you\",\n",
       " \"brianarmstrong what a pity youtube is currently blocked in china  i can't see the vids \",\n",
       " 'margaretcho what happened to your show it was the hightlight of my life ',\n",
       " \"this is the best leather sofa in the world  it's in the office though which means i'm still here working \",\n",
       " 'still  more days until my internet gets uncapped ',\n",
       " \"if he doesn't get better in a few days he could have something lodged in his belly \",\n",
       " 'i love my atekinzz so much ampamp i soo miss her ',\n",
       " 'i wanna sneak into the zoo and play with the kitties ',\n",
       " \"lolitariot oh no  hope you're not getting sick too\",\n",
       " 'alejandralei i dont think i can cause its my cousins birthday party ',\n",
       " 'our sweet little man just fell asleep while waiting up for daddy and big brother to get home  poor baby he missed them so much today',\n",
       " 'the angel is going to miss the athlete this weekend ',\n",
       " 'trust is hard ',\n",
       " 'have watched that considering today yaknow shawnna tomomorrowi need my bestfriend ',\n",
       " 'grr i want to keep reading but if i do i wont have anything left to read ',\n",
       " 'atekinzz where in the world are you ',\n",
       " 'rumlover no u supposed to be my date ',\n",
       " \"pears amp brie bottle of cabernet and quotwin a date with tad hamiltonquot oh gawwd my life flashed forward to when i'm  with my  cats \",\n",
       " 'crap i need more dresses too ',\n",
       " 'kaeeeep yeah i know it was horrible ugh saddening ',\n",
       " 'brodhe geez ur no fun are you ',\n",
       " 'i wanna be in a punk rock band again ',\n",
       " \"jyesmith that's a lot of angst for a tuesday afternoon \",\n",
       " \"i'm very glad britney isn't crazy anymore that was one hell of a show now i'm sad that it's over  next upap at cook county\",\n",
       " 'has a huuuge headache omg i feel like crap ',\n",
       " 'anistorm sorry ',\n",
       " 'cleders sorryi was rooting for them too ',\n",
       " 'man that took forever ',\n",
       " 'shandasaurus  i see',\n",
       " 'i am listing more items on ebay to sell  takes forevermeanwhile coleman is watching the hills season premier without me ',\n",
       " \"just got my presentation done  slides done  i'm crying for this week will be the hardest of all weeks\",\n",
       " 'just lost  ',\n",
       " \"i don't like the previously on skins thing that starts at season two i like it when it went straight into the intro like before \",\n",
       " \"houndour i wish i was therei'm pretty good at scaring the shit out of people \",\n",
       " 'going to sound vain but running out of my fav lip gloss ',\n",
       " \"stuiy never again will i click on a link that screams quoti'm a spider i'm a spiderquot i should have known better yucky \",\n",
       " 'why is that when you have time off from work you get sick ',\n",
       " 'pratama same imac came out  more in indonesia than the states ',\n",
       " 'dammit i need to stop buying furniture ',\n",
       " 'misssil no i was half asleep and turned off the laptop after that ',\n",
       " 'death is peaceful  life however bites ',\n",
       " ' i think jonathanrknight lost the net  sure hope not',\n",
       " 'httpisgdrzf  httpisgdrzy and  httpisgdrzg  test footage with my girlfriend in hd the dark one is underxposed ',\n",
       " 'such a tough game to watch tonight for state  finally going to bed after also staying up to watch the season premiere of the hills',\n",
       " 'seems jruby support for hpricot is now two versions behind ',\n",
       " \"jinxcat unlike my sisteri still don't have one \",\n",
       " 'fraking app store is pissing me off   httptinyurlcomcooho',\n",
       " 'logging out i need to study ',\n",
       " 'anyone else having problems accessing ttb i cant get on ',\n",
       " 'i strongly dislike people who make stupid comments and dont know the whole story ',\n",
       " \"emmaketurah  i'm sorry emma is swarley a goldfish i'm sad for u\",\n",
       " \"all my tweets are already gone aren't they  missed you guys tonight\",\n",
       " \"can't sleep again face is kinda swollen don't let me be allergic to the thing that'll get me to thursday school tomorrow doubtful \",\n",
       " \"snickthedog if izzy's on the cat tree she'll stare him down but if she's on the floor he chases and she runs \",\n",
       " \"i am officially banning godaddycom from my comp my head hurts from the small print and i wasted  that could've happily gone to boba \",\n",
       " 'humanopium pretty much just scary for me ',\n",
       " \"ilovepie mines too i'm finding it well hard to get fit \",\n",
       " 'good morning ready  go but i want  go back  bed ',\n",
       " 'hates waiting for mails ',\n",
       " \"wheat bread from the dollar store just doesn't toast nicely  going over my taxes and calling it an early night\",\n",
       " \"why kutner i mean i knew something was going to happen to someone but it was so sad i lt house and it was well done but i'm still sad \",\n",
       " 'jonathanrknight aw ok goonite  ',\n",
       " 'ill so i cant go to the cinema ',\n",
       " \"fell asleep    really didn't mean too  christina\",\n",
       " 'kelleyrowe hey you remember that time we used to be friends   ugh vomit sick  i need sleep ',\n",
       " \"my lymph nodes are as massive as rahm emanuel's balls right now \",\n",
       " \"oh no my computer sucks i don't think i'll be able to listen to the xbox  fancast tonite \",\n",
       " 'is missing playing my trumpet ',\n",
       " 'my throat is still really sore i was meant to be going on a  day camp from friday but not so sure now ',\n",
       " 'sasii i know exactly how you feel ',\n",
       " 'at work ',\n",
       " 'well bed time now  am sighs back to  am mornings for a week on wednesday ',\n",
       " 'hert jesus camp yeah ',\n",
       " 'marybethune oh no with everything that happened today i forgot we were going dress shopping for the opera tomorrow ',\n",
       " 'turtles are better than my mac  lasts longer and moves faster ',\n",
       " 'i am soaked this is not pleasant ',\n",
       " 'ginayates sorry to hear about maggie    thoughts to your mum',\n",
       " 'ewarden you may have to email this one to me  i hope you feel better',\n",
       " 'miamiiboii dead  yu gettin on wen im leavin ',\n",
       " \"arlenecd please tell me that's somewhere close to california lol \",\n",
       " 'phlaimeaux where are you ',\n",
       " \"stupid arranged marriages i'll convert so you can marry melove you \",\n",
       " 'emilyruppe well he said that he is a looser and that is what the show implies ',\n",
       " 'poor sandra cantu amp the cantu family my prayers go out to them what a sick world we live in she was only  ',\n",
       " 'fuck omg  austins always there though man lt love you',\n",
       " 'nicolerichie i cried so hard when matthew died ',\n",
       " \"sad that the 'feet' of my macbook just fell off  sad that the 'feet' of my macbook just fell off \",\n",
       " \"chordsy  why am i the last to find out about these things like that you're on the twitter too \",\n",
       " 'lovebscott absolutely not ',\n",
       " 'httptwitpiccomycf  filled with curry  the true indian in me is coming out',\n",
       " 'im soooo cold right now ',\n",
       " 'heidimontag lol i kant believe cam got beat upp sooo embarasssiiiin ',\n",
       " 'jonathanrknight good knight hun looking forward to ur tweets again hate that i keep missing out on the fun cuz of the time difference ',\n",
       " 'tumblr this is exactly how it feels wearing a tie  httptinyurlcomcbvqh',\n",
       " \"daniela hahaa i just realized quotimpunequot definitely isnt the word i wanted dang i'm so unclever \",\n",
       " 'watching old videos of dance team and such makes me miss it  ',\n",
       " \"wahh  no csi anywhere dvr'ed i love money  though  gonna watch it then sleep  goodnight tweeterslt\",\n",
       " 'struggling hard with inventory ',\n",
       " \"ddlovato do you hate us please don't \",\n",
       " 'ballinbitch haha im not that ballin i still got bills to paaaaay ',\n",
       " \"i'm in one of those days when i really just want to work from home  crap \",\n",
       " \"paulewog waitis it a game or just episodes i'm so confused \",\n",
       " 'carlyw haha i cried  i guess he did',\n",
       " \"i don't get statistics  its all a bunch of mumbo jumbo for me\",\n",
       " 'sloanb got it sadly only works for uk amp us at the moment ',\n",
       " 'evicted ',\n",
       " \"doesn't enjoy learning css \",\n",
       " \"nachojohnny brian don't make me fuck u up lol i replied  ur messagedid u get my   i miss u \",\n",
       " \"heidimontag i  dvr'd it and went to watch it apparently the dish network went down so i missed it    i will have to catch a rerun\",\n",
       " 'jessdubb lmao u may have to wait for another season to come thru its summe boo hot nd dry ass weather ',\n",
       " \"lizchavez i can't set my feet on the ground the missing eyelid people might get me  \",\n",
       " 'daniela my english professor would be ashamed ',\n",
       " \"o i wish the frogs weren't becoming extinct    httptinyurlcomcxew\",\n",
       " 'came home from cross county tired as ',\n",
       " \"i don't want to walk home in this snow who wants to pick me up \",\n",
       " 'heidimontag lauren is being stubborn she loves you you love her  i feel so bad for you though it made me cry  lol',\n",
       " 'is grouchy and wants bmar ',\n",
       " 'my heart is broken every morning dropping foo at pre school now i understand when moms say quothe has my heart brokenquot ',\n",
       " 'not feeling well and back hurts ',\n",
       " 'im in the mood for some chocolate i want miniature reeses cups now ',\n",
       " \"i can't take this heat it's like an oven in here i feel sick nwo \",\n",
       " 'nickcarter come to the chat  just  minutes  please httpfanclubbackstreetboyscomchatphp',\n",
       " 'boredd colddd  internet keeps stuffing up',\n",
       " \"i had a horrible nightmare last night which affected my sleep now i'm really tired \",\n",
       " 'im lonely  keep me company  female new york',\n",
       " 'bornbroadway lost  and it was st ignacius prepatory school haha',\n",
       " 'birutagme yeah  it was really depressing stuff like that gets to me',\n",
       " 'whoisariston no problem tongueincheek remark  lots of acronyms but no nz ',\n",
       " 'greggrunberg hey you said matt was gonna go all ballistic i was disappointed  good ep tho mostly',\n",
       " 'ugh horrible ending to the sandra kantu story  prayers go out',\n",
       " \"danielledeleasa httptwitpiccomype  i hate  b allergic  i want a puppy soo bad that i've already thought some cool names\",\n",
       " 'morning folks  am yawn up amp away to see to horses  hope twitter is better behaved today  last night was a travesty ',\n",
       " 'quandotcom i miss mine too ',\n",
       " 'amandaenglund sorry to hear about your loss     there have been many this year so far',\n",
       " 'nicolerichie gossip girl was a repeat ',\n",
       " 'inyoureyes i reckon ',\n",
       " 'finding it really hard to use twitter ',\n",
       " \"i've been stuck in this house for two days \",\n",
       " \"is really sad and doesn't really know y \",\n",
       " 'thousandmiles no ',\n",
       " \"maybe one of these years i'll get a tax return  a girl can dream right\",\n",
       " 'back at work tired as hell and i feel a cold coming ',\n",
       " \"clarianne knotserious april th isn't coming soon enough \",\n",
       " \"hannahsix cream for his eye and he may have herpes  not ocular herpes but a different strain    he's doing okay though\",\n",
       " 'gotta repeat  whole art folio cuz old one with a whole terms work got wet ',\n",
       " \"i'm ready for the weekend already it's only monday \",\n",
       " \"lovebscott umm nopethink im an insomniac plus i got the flui'lll be sleepin like a phuckin fish outta water any minute now \",\n",
       " 'has finland sleeping for the night not really enough time ',\n",
       " \"lunafiko can't wait to try em but prolly have to wait until next weekend at the earliest \",\n",
       " 'shiner is taking up all my bed and blankets ',\n",
       " \"clarianne april th isn't coming soon enough \",\n",
       " 'wants to cry ',\n",
       " 'i need to go to the bank tomorrow before i go broke ',\n",
       " \"this earthquake in italy has me sadden  it's only three hours away from naples where my family is \",\n",
       " 'i should be sleeping i have a stressed out week coming to me ',\n",
       " 'dragoneer yea   i am working tp hack my server to do the player thing for folks',\n",
       " 'has hurt her ankle and is going to the dr ',\n",
       " 'raymondroman oh noes how did you manage to send something to the trash can and empty it without noticing i feel for ya ',\n",
       " \"lost my free copy of radioactive so can't put it on my ipod grrand i can't go out  buy 'nother coz it came with that paper \",\n",
       " 'doing make up shit ',\n",
       " 'photoshop i hate it when you crash ',\n",
       " 'vacations makes me feel sick ',\n",
       " \"you shouldn't have gone \",\n",
       " 'listening to murd and th wonder just chillen out missing my crazy sex life  ',\n",
       " 'louie shooting be careful luisa ',\n",
       " \"hillary i'm sure everyone has ruined my gift to you  whitney has my serious cell we doing easter as well\",\n",
       " 'is at beso in hollywood so tired ',\n",
       " \"i don't want to wake up early tomorrow  damn you work\",\n",
       " 'just finished watching the movie prayers for bobby broke my heart ',\n",
       " 'syekr is myki really horrible ',\n",
       " 'stephenkruiser i had  put my dog down today too  someone ran her over',\n",
       " 'nevadawolf sorry to hear about your dnf run tonight always a risk to get bad coords on an ftf ',\n",
       " 'honey i did get some disgruntled people when i wrote my esn but the  hits in one day made up for it bill pulls in  tops ',\n",
       " \"moony ohh omg lmao i'm crying right now lol kutnerrrr was the best \",\n",
       " 'came back from running and took a showerwhy does my lower stomach still hurt after exercising ',\n",
       " 'watching fallon with mom and working on a projectschool is hard ',\n",
       " ' min till home time and counting i have a craving to visit the mac store but they will have closed by the time i get there ',\n",
       " 'stephenkruiser i am so sorry to hear that  take care',\n",
       " 'paulcoles  hmmmgreed is good when it motivates the individual to do betternot so much when it takes away from others ',\n",
       " \"gabbyisactive brat you have to rub it in don't you i want a mocha \",\n",
       " \"kutnerrrr  why why  and to think that  is still on the show ugh kutnerkal penn  you've been the bright star in ho \",\n",
       " 'redvinylgirl my mom has it i wish you the best of luck ',\n",
       " 'i so hate homeworks  my head hurts so bad ',\n",
       " \"got the ebay blues item i want jumped from no bidders to over  in an hour still has  hours to go i'd better not get my hopes up \",\n",
       " 'gigdiary i know   was a little depressed that we ate so much last night there were no leftovers today ',\n",
       " 'well the pc in my living room suffered a fatal partion lost all my itunes library is gone and some docs with pics ',\n",
       " 'sad day manu out for the season ',\n",
       " 'stephenkruiser you poor spunkyits so sadmy rotti made it to  and i had to go down the same pathi know how you feel ',\n",
       " 'im sooo sad right now  i need a hug',\n",
       " 'wants her step brother home  im so worried you dont even know i hope he knows how much i care for him',\n",
       " 'heidimontag just got done watching the hills loved it excited for the next episode and im sad this is the last season ',\n",
       " 'ryanmwilson aww that stinks  hugs',\n",
       " \"i'm tired i feel like crap and the world feels all crummy make me happy usb disco mouse \",\n",
       " 'i dont want to believe what im readingbuuso sad ',\n",
       " 'wondering why gamebattles is down ',\n",
       " 'white trash vs us we were outnumbered  httptwitpiccomyjp',\n",
       " \"emitstop so true i have it and don't use it \",\n",
       " 'spring break is here at last but no one is here to celebrate ',\n",
       " \"morning bah car won't start waiting for the anwb \",\n",
       " \"katebornstein which is pretty anti memorial tattoos   but for all but the strictest there's no official ban just disapproving family\",\n",
       " \"balamurugan a longterm member of the team is leaving this month we'll miss working with him  hope he does well in his next venture\",\n",
       " 'justgelo its sad knowing how they found her body what a crazy world we live in no child deserves that ya know ',\n",
       " 'i wanna rock a maxi dress  coachella but lacking funding ',\n",
       " 'of course the baby is screaming in the crib the night before my first day back at work  so i let him cry it out boooo',\n",
       " 'i am home missing my baby  busy week ahead fri is a chill day with my guy and kids egg hunt sat spiral and dmb sat night and easter',\n",
       " \"followsavvy i never found her everytime i click on her twitter thing through your myspace it goes to some dude's page \",\n",
       " \"stephenkruiser that's horrible  sorryto hear that\",\n",
       " \"davidhenrie i cant find it it says dtmafiaofficial doesnt existthere's jus  dtmafia i found n u dun seem to b followin it  wht to do\",\n",
       " 'i thought you would support me on this ',\n",
       " \"augh eff sarth  i stole some of mil's nail polish its pretty o\",\n",
       " \"wishes i was on the spring fling tour with dawn amp neecee sigh  g'knight\",\n",
       " \"the hoyts distribution nz website isn't working for me great and it has to be like this when i need it most \",\n",
       " \"crummyasshole i don't like that they only had him in the first movie  cillian murphy is hot \",\n",
       " \"wishes for good old cartoons to come back ie captain planet where's wally daria sadness  \",\n",
       " 'not feeling v good abt myself ',\n",
       " 'i just got a text from sarah ',\n",
       " 'another day at centre point  this time an early start so guessing train will be rammed with commuters ',\n",
       " 'four games this fall modern warfare  halo  odst brutal legend and bioshock  i need more cash ',\n",
       " \"dcastillo ugh that's disconcerting \",\n",
       " 'devinthedude actually the whole site has finally been taken over by those damn russians ',\n",
       " 'my tweets arent going through ',\n",
       " \"just finished a delicious breakfast my last in paris  i'll miss milk europe has the tastiest milk in the world i don't drink it in us\",\n",
       " 'ilearn is down and out great considering finals are this week ',\n",
       " \"carmonium i'm stressed outttt \",\n",
       " 'also i shouldve bern asleep an hour ago ',\n",
       " 'trying to figure out this twitter thingnone of my friends are on  yet soo much to see',\n",
       " 'repinging kyle custom icons i made  look cool but the edges could be less square  might look bad on a diff background',\n",
       " 'i want to be back in la ',\n",
       " \"enterbelladonna i dunno how to use the forum and i get frustrated with it i'll miss talking to you on here \",\n",
       " 'lilbucknuts not an option ',\n",
       " \"georgeruiz unfortunately one of those moments wasn't a giant squid monster \",\n",
       " 'thestarrage i want one too    is the branch in midv open too',\n",
       " 'dananner aw sorry to hear that ',\n",
       " 'change of plans we ordered macs instead time to hit the books ',\n",
       " 'polhillian yup ',\n",
       " \"nkdreamer did you see donnie's tweet stats almost   repliesand no jrk \",\n",
       " \"timgrainger nah i haven't received my stimulus yet \",\n",
       " 'ikimb i just seen ur tweet  plz write bak if u get this i havnt got one reply bak ',\n",
       " 'mccainblogette awwwww and you were trying to go to sleep  hours ago ',\n",
       " \"stephenkruiser i'm so sorry to hear that  it's always sad when we lose those close to us as we loved them\",\n",
       " 'cant sleep but im still feelin like a piece of shit ',\n",
       " \"stephenkruiser oh  my sympathies it's a hard decision i always hope my old border collie will go in her sleep she's  too hug\",\n",
       " 'josephheustess well there was this really cool part where i wont spoil it ',\n",
       " \"limbecky i'm doing the time warp without you and am sad \",\n",
       " \"theresawhite this is true lol but it's still a slap in the face after such a warm end of march \",\n",
       " 'i hate converting movies just to put em on my itouch ',\n",
       " 'gross i have a pimple ',\n",
       " \"torturedlady yea  ma'naaaaaaaaaaaaaaaaaaaam marwan accent lol\",\n",
       " 'one less follower tonight ',\n",
       " 'unholyknight so did your mom last night  brb while i figure out whether i just burned you or myself the most',\n",
       " 'i feel like i am the only quottwittererquot not on tweetdeck ',\n",
       " 'wyldceltic he has karate tournament in  weeks  ',\n",
       " \"going to sleep can't be up until am againand no i didn't finish my statistics homework \",\n",
       " 'north carolina baby aint nothin stopping them but the nba draft ',\n",
       " \"can't sleep again \",\n",
       " \"i reaaly miss john mayer's twitters  fuck rude people remove him if you don't like his tweets bitchfucks\",\n",
       " 'is going to have a late one at mqu today ',\n",
       " 'im so tired of worki need a life ',\n",
       " 'just leavin work my feet hurt ',\n",
       " 'playradioplay that was so sad and unexpected  i totally cried haha',\n",
       " \"superneej morning bah car won't start waiting for the anwb \",\n",
       " 'still doing my homework ',\n",
       " 'a little sad ',\n",
       " 'deepbluesealove my mom amp dad both get up around too early for me ',\n",
       " \"should've been asleep two hours ago \",\n",
       " 'stephenkruiser so sorry to hear about your dog ',\n",
       " 'funny how the little things make me homesick criminals breakn n a brownstone on lawnord ci made me misty ',\n",
       " 'djsoulsister yeah great vid i had the quot single but sold it a few years ago ',\n",
       " \"im on val's mac in iitsc clubroom still sweating \",\n",
       " \"stephenkruiser awww so sad  i'm so sorry\",\n",
       " 'updatingffe  that gives me nothing to do for a good twenty minutes',\n",
       " 'hot compress not rily workng for pulled muscle  gng to bed good night',\n",
       " 'have an invite for quothealthy diningquot session at ashok hotel today with exec chef rchopra but damn workload  will have to skip it ',\n",
       " \"stephenkruiser i'm so sorry to hear about your dog   wishing you happier days to come\",\n",
       " \"hellivina i miss 'em too \",\n",
       " 'misstoriblack cool  i have no tweet apps  for my razr ',\n",
       " \"i'm off too bed i gotta wake up hella early tomorrow morning \",\n",
       " \"still procrastinating i hate organizing my clothes  there's just so much\",\n",
       " \"just been playing with the new mobbler v and it adds some great new features but won't play music on my e like v did \",\n",
       " \"latroneb oh but there's one bestie missing \",\n",
       " \"esuriospiritus time to come back to flawda for double dates no seriously i'm sorry to hear that \",\n",
       " \"i'm up way to late to be working for a client  am  fb\",\n",
       " 'blegghhhh i have to go to work ',\n",
       " 'back at work   john muir dr httplooptuskoqabg',\n",
       " 'dachesterfrench i emailed you yesterday and u never responded ',\n",
       " \"it's going to be a long year for a's fans \",\n",
       " 'just got done watching the new house episodedefinitely one of the saddest episodes ever ',\n",
       " \"man taxes suck  i'm horrified that i did something wrong on them  turbotax decided to keep around a lot of the stuff i turned off  \",\n",
       " 'sleep time  tomorrow is gonna suck ',\n",
       " \"wtf not kutner  oh i'm so pissed  house  i mean really wtf   \",\n",
       " 'amberpacific i know i dont know why i said that ',\n",
       " 'cash rules everything around me ',\n",
       " 'just picked up some oats from the market to eat for breakfast with my boy adamgoldston now time to do work at usc late night ',\n",
       " 'i feel sick  too much icecream',\n",
       " \"faithgg  this computer doesn't have shockwaveblah  no account yet\",\n",
       " 'rubyrose awww wish i could go but its in sydney ',\n",
       " 'luxuryprgal hahaha suriously i feel like everyone knows this show is a joke except lc ',\n",
       " \"i just can't spell today i totally suck \",\n",
       " 'are you vaccinated against chickenpoxshould i vaccinate my  yr oldi am so confused about this damn thing ',\n",
       " ' school  at least last day',\n",
       " \"yawwwn gotta get up early tomorrow  who's ready for the weekend\",\n",
       " 'i miss being at home for calving seasonsad that black one died this morning  wish i had some bottle calves',\n",
       " 'stephenkruiser i so sorry for your loss my brother dog sam is sick wcushings disease ',\n",
       " 'back to work i get to spend the next  hours alone in the dispatch room ',\n",
       " \"there's a new kind of starburst favereds sounds fab bc cherry and strawberry are my fav red's but they added watermellon and its yucky \",\n",
       " 'well so much for being productive on my  days off from angels ',\n",
       " 'andreabakes oh gee  insomnia sucks   have you tried melatonin',\n",
       " 'vivekg good to hear that we have support in netbeans but then its netbeans you know ',\n",
       " 'heidimontag i wish we would get it the same time at the rest of world unfornately i am in cairo and have to wait for mtva to play it ',\n",
       " 'heartbroken over little sandra prayers are with the family ',\n",
       " \"hadtobeyou i'm at  words it's all can do  i'll finish tomorrow maybe\",\n",
       " 'shortiethug how come ur background covers the screen but mine is in the corner ',\n",
       " 'wrote exactly three lines of dialogue tonight then gave up ',\n",
       " \"ashman my only complaint about facebook is they've changed it so much it's confusing \",\n",
       " 'sliced my finger ',\n",
       " 'going thru town and traffic on bypass is stink ',\n",
       " \"ugh can't sleep  wish i had a good cuddle to  make me ass out \",\n",
       " \"i hate when software update downloads updates without telling me i never know what's downloading when it is \",\n",
       " 'went to ihop again great for a diet   at least there were no kung foo pancakes this time rachel',\n",
       " \"the internet is hating me night i s'pose \",\n",
       " \"contactabe i'm so jealous  i missed all of opening day this year \",\n",
       " \"it's so cruel having to wait for reviews to come in  so far it looks like star trek will be the best film of the year\",\n",
       " 'debating if i should just shower now so i can sleep a little later tomorrow ',\n",
       " 'my stress always culminates with physical pain  ',\n",
       " 'need to sleep but cant ',\n",
       " 'my little pinky finger hurts so much ',\n",
       " \"sarahsaturday i'm sorry your gift card ran out that suck \",\n",
       " 'home for spring break no one is home tho ',\n",
       " \"i accessed oneindiamobi from a google phone android it doesn't support indic languages \",\n",
       " \"why does school take over your life so much you don't get sleep anymore   i am still doing school work and have more to do as well\",\n",
       " \"mtsiaklides aw i wish i could i can't really speak to my yia yia because she doesn't speak english \",\n",
       " 'winggato no free comp lol ',\n",
       " 'getting ready to clean the house from top to bottom ',\n",
       " 'crying  my friend is moving away tomorrow ',\n",
       " \"swiftkaratechop stop nomnoms you didn't share  night peoples\",\n",
       " 'thinks she is getting a cold that she caught from daddy  oh no my trip would be ruined ',\n",
       " 'moony yeah  is it bcoz kal penn is a visiting lecturer somewhere n cant be on the show anymore im gonna miss him ',\n",
       " \"so the procrastination starts early in the quarter i don't want to reaaaaad and write a paper \",\n",
       " \"what apparently it's  degress at pm in washington state i miss winter already \",\n",
       " 'being bored at homee ',\n",
       " \"massage was great i just spilled coke all over my desk  lame watching the simpsons as i've finished all my hills dvds\",\n",
       " \"nickcarter i will wait for you at fanclub chat even tough you're not my favorite \",\n",
       " 'has a mild left inner ear infection and its got this irritating quotblockedquot feeling since sunday ',\n",
       " 'janebodehouse hey there nope my cuteness hoytfortenberry is away for awhile ',\n",
       " \"it's only tuesday \",\n",
       " \"haha not even yo i just didn't know how to do that thang to you on twitter  haha\",\n",
       " 'someones alarm clock or a phone woke me up at amstill got my headache from yesterday night ',\n",
       " 'kalichosich awww poor puppy is she ok ',\n",
       " 'i might break down and eat some buffalo wings tomorrow ',\n",
       " \"sittin here wkayla i really really reallly dislike having a brother  he doesn't know when to stop i'm waiting for the day when one of\",\n",
       " 'fed bokkie too many birthday treatssicko ',\n",
       " \"'s kinda bummed an agency just told me that i didn't have the 'look' that they were going for ladies please help me create the 'look' \",\n",
       " 'work laptop is officially dead  not happy at all ',\n",
       " \"my goodness it's freezing down here  \",\n",
       " 'heidimontag why do you put up with him  you should listen to your mom ',\n",
       " \"is stucked in paris and can't even travel into france for work \",\n",
       " \"joannafbeckett i don't think there's one close by last time i checked the closest one was  miles away \",\n",
       " 'aaaaand back to my literature review  at least i have a friendly cup of coffee to keep me company',\n",
       " \"i am worried that i won't get my  even though i paid a buttload of tax last year  \",\n",
       " 'okay so still no school ',\n",
       " 'is phoneless  now off too sleep',\n",
       " 'reeked of alcohol at the dentist this morning  was drunk when i put on my tshirt realised it had a huge stain dentist looked disgusted ',\n",
       " 'it is really cold ',\n",
       " 'cant sleep  she wants to dream',\n",
       " \"can't sleep  i hate these nights when i try to go to bed early and stay awake for hours poo\",\n",
       " 'rootbeersoup yeah too bad people like a certain burritoeating man exist ',\n",
       " \"cronotriggers  that's sad\",\n",
       " 'just found out that my mum  and my adopted auntie are on twitter check them out my mum is tessm and my awesome as auntie is tania',\n",
       " 'cannot sleepwide awakeand i gotta go to work later too boy am i going to have a crappy day ',\n",
       " 'struggling with eam law ',\n",
       " \"why can't i sleep like her  httptwitpiccomyty\",\n",
       " \"bouts to start  poor linny couldn't keep her eyes open  she tired and has to work tomorrow morning night ilovefatsusan\",\n",
       " \"my  year old  year old is driving me around the twisti don't want to be like this \",\n",
       " 'well that sucked ',\n",
       " 'i have to be out of my place in  daysany help i can get packingpaintingcleaning is much appreciated oh and rip my wall  ',\n",
       " 'opening a partially frozen beer beer on the toaster under the oven and all over the counter the kitchen smells like we run a speakeasy ',\n",
       " 'stewiebrittany no  i dont even know how to ride it',\n",
       " 'monasmith sadly yes i think i need counciling now ',\n",
       " \"making myself ready for schooldon't feel like going but have two tests \",\n",
       " \"smugness gone my train also failed to turn up so i'm heading for victoria followed by an unpleasant tube ride to the city \",\n",
       " 'anybody know where my ipod went ',\n",
       " \"aww this earthquake in italy has made me sad  just saw the pics on the news it's terrible\",\n",
       " \"lilibat never been able to afford to get them out i'd much rather go through the extraction than continue with what i deal with now \",\n",
       " ' why do other pet care people try to run others out of business or send suspicious emails fishing for info',\n",
       " \"kameelahwrites lt codezthey've been mia tho \",\n",
       " 'reannaremick doesnt work on my cell  go to sleep p',\n",
       " \"it's going to be nice again tomorrow and then the rain comes back no nice weather for my birthday \",\n",
       " 'taliasunset rock band is hardon expert ',\n",
       " 'beachbassbone roomie was home all day all he had to do was scratch at the door comforter has to goto large laundromat machines ',\n",
       " 'one of the hardest thing with this schedule no one i can chat with at the end of my day usually ',\n",
       " \"they killed off a character on one of my favorite shows and now i'm upset \",\n",
       " 'jealous of my friends who got to see the new star trek film in austin tonight ',\n",
       " 'listening to q i got a really bad headache and a drivin lesson in ten mins lucky me  i just wana sleeep  ',\n",
       " 'stevebuscemi shut up youi am hungry and in britain home of the most boring suckassy breakfast in the world  i miss dennys',\n",
       " 'good morning everybody pkoi y fais pas beau  bon coffee time',\n",
       " 'work again ',\n",
       " 'essay time ',\n",
       " 'chauncey hey did u talk to mom r they home yet i hope they r ok wish i was coming home  easter ',\n",
       " 'endearingevania i sure wish i could go with you guys tmrw but as per usual school interferes ',\n",
       " \"widyatarina say what kal penn's leaving house noooooo awww i totally missed it tonight \",\n",
       " 'no i lost a loyal ',\n",
       " 'played another hand very bad and lost half my stack ',\n",
       " \"it's pm  early days in a looooooong night at work \",\n",
       " \"yaykimo it's sad it's the last season  i wanna see when spencer calls lauren\",\n",
       " 'so im done editing quotthe phipstapequot back  crack a brew and see what we got no trees though ',\n",
       " \"rj i don't know what half of that means \",\n",
       " 'homework homework homework ',\n",
       " 'worked his heart out today doubling my weight at each station result stiff and pulled muscles ouch ',\n",
       " 'melamachinko now i feel bad for unfollowing ',\n",
       " 'so tired god i hate the new job and only two days in ',\n",
       " 'sad about kutner being killed off my fav show house ',\n",
       " 'happy for coach stringer hof co now if i can only finish my term paper on her ',\n",
       " \"i feel like shit this is not the way i want to spend my birthday's eve \",\n",
       " 'so far i have  on all my sites put together  most of them were me checking out the updates i made',\n",
       " 'has a lot on her mind i needs to make some moneys and ideas nowhere is hiring ',\n",
       " 'emiliexclarkex miss you ',\n",
       " \"stephenkruiser i'm so sorry to hear about your dog \",\n",
       " 'too much internet how it plagues me ',\n",
       " 'i miss my ex soo much ',\n",
       " 'sodding m   httptwitpiccomyy',\n",
       " \"oh i thought the pirate bay trial verdict was today s apparently it's in  days \",\n",
       " 'featherinair call me back ',\n",
       " 'is in study hall now and i will log off immediately  httpplurkcompmzxbg',\n",
       " 'it so tired that im crying for no reason at all im about to try to get an hour and a half in for tonight half what i got last night ',\n",
       " 'i totally have like  four girl options and none of them seem viable ',\n",
       " 'so far i have  veiws on all my sites put together  most of them were me checking out the updates i made',\n",
       " \"listening to bjork's all is full of love crying \",\n",
       " 'omg the hills then i love money aww i think becky buckwild goes ',\n",
       " 'is craving for some tantan nabe  httpplurkcompmzxcs',\n",
       " \"c'mon sean man \",\n",
       " 'watching quota league of their ownquotmakes me miss mint chocolate ice cream cones and my grand ma  fuck',\n",
       " \"lost my phone some wheremaybe in the grass its just so long hope it doesn't rain \",\n",
       " \"tomatosalsa hope you aren't referring to me  say hello to your new stalker lol\",\n",
       " 'brettyboo why were u sleeping ur gonna be up all night now  how was ur bike ride',\n",
       " 'slessard but but but   i wanna listen to the masters too  ',\n",
       " \"sephystryx i've been looking about for good stuff to write but also been doing loads of uni work \",\n",
       " 'i feel unloved dropped  tweeters ',\n",
       " \"off to london for the day on thursday it's gonna be raining oh fab  won't see much on the london eye still robbie won't care bless him\",\n",
       " 'completely wiped and reloaded the  lost all bbm contacts    going to bed sad',\n",
       " \"mykele sayyyy whaaaa i wasn't invited \",\n",
       " \"didn't sleep too bad considering i have a workshop starting today beginnings of a sore throat though \",\n",
       " 'astewart oh my gosh that made me emotional haha idk why i dont want to get old ',\n",
       " \"we're going to post some stories manually due to twitterfeed problem that's why we've been so quiet lately  \",\n",
       " \"i don't like lukewarm showers \",\n",
       " 'linuxfoundation  who should i contact if i need a  for freelance work i did on linuxcom throughout  never got one ',\n",
       " \"skylineking connor it's me febi  are you really really mad at me\",\n",
       " 'need some help want to buy a macbook pro but still inlove with my old powerbook ',\n",
       " 'michaeltao man america is so  borez anyway lol i just realized you sent me msgs on here i had no idea i have no flash ',\n",
       " \"hellivina ihopness g'knight lovely ladies i'm sleepy now \",\n",
       " 'does anybody know how to get your electrolytes back in order with a vitamin work i feel sick ',\n",
       " \"sudam  yes someone hasn't been reading my posts properly  \",\n",
       " 'almost through with my italian homework  weeeeee now if i only understood what i was doing  ',\n",
       " 'who turned the lights on it will be time to get ip then ',\n",
       " 'therealnph twitter hates us both then  ',\n",
       " \"i hate the fact that i'm genuinely excited about my last tweet \",\n",
       " \"celesteclara i can't sleep either \",\n",
       " \"theblondetheory between that and the italy earthquake it's been a very sad news day \",\n",
       " 'champagnemanoir all rain today   garden really needs it so not quite so bad',\n",
       " 'yawn yawn yawn  more minutes in bed ',\n",
       " 'majesticflame ouch  sounds very sucky ',\n",
       " \"bengottlieb great idea with the itunes promo codes  they don't work in the uk itunes store though \",\n",
       " 'mattycus  cry ',\n",
       " 'rumlover an empty rum barrel is a sad rum barrel shakes head the horror the horror  ',\n",
       " 'it was a sleepless night ',\n",
       " 'billybush she admitted to being a fake  ',\n",
       " 'batmannn  i love chutney',\n",
       " 'got highly bored today scanning  pages for daddy had to do it ',\n",
       " 'misterphipps you cooked risotto without me ',\n",
       " 'keeeerrrrriiiiii  i really have nothing better to do then post on this thing at amwonderfullll says alot',\n",
       " 'yay for baseball season boo to yankees losing their first game ',\n",
       " 'lost sucks   because i have to work today',\n",
       " 'omg exams killed me  how could i not know the difference between haif a circle and a hemisphere lt gt',\n",
       " 'in bed i suddenly feel  i wish ma was here wme goodnight twitterfam',\n",
       " \"rachelcmrn i don't like goodnights \",\n",
       " \"greaaat my lappy won't turn on  wtffffff\",\n",
       " \"mrkm  you stuck in traffic then my journey was traffic free this morning if it's any help\",\n",
       " 'lookin like an allnighter i hate it when i do this to myself ',\n",
       " \"vernonhamilton you're a stranger   \",\n",
       " 'debbugging old vb code the day could have started better     ',\n",
       " 'toddlington only a quarter of a percent babe  darn',\n",
       " \"coming down with a cold or bad allergies either way i'm miserable \",\n",
       " \"can't believe cutner is dead on house sad day  in santa rosa ca httplooptusorpla\",\n",
       " 'damnit i was really digging this season of reaper  httpwwwtvcomstoryhtmlrefstoryidampreftypeamprefnamestory',\n",
       " 'gah comcast doubled our cableinternet bill wout telling us so we are quitting  can anyone suggest an affordable company in bay area',\n",
       " \"another early morn with the duchess although she hadn't managed to cross her legs this time \",\n",
       " 'alexbigman you left without saying hi ',\n",
       " \"l want but i can't sleep \",\n",
       " \"tracydowds when an xbox shows those three red lights it means it's dead and needs to be fixed for a month at microsoft hq \",\n",
       " 'a king sized bed is nice but sad and lonely with no hubby puppy or kitty   i am over this whole conferenceing thing',\n",
       " 'im boredd gah  i wish i could just sleep and get it over with but ive had toooo muchh cooooffffeeeeeeeee  bahaha',\n",
       " \"whyinthehell if i may butt in again  i'm done being nosey  sorry your conversation was just so interesting\",\n",
       " 'smokeyrobinson  you fell off my listdid i offend you  ',\n",
       " ' weeks till sisters home i missed her call again its the worst feeling in the world ',\n",
       " 'gonna try to get some sleep in this hotel room ',\n",
       " \"chimpytwit brilliant idea just bring as much as you think you'll spend amp i'll swap you bring a brolly \",\n",
       " \"simonekali get me an autograph and shout out you have to record it though my computer is dead so i can't listen \",\n",
       " 'rt kimkardashian khloe just got fired from the apprentice ',\n",
       " 'in biology class my lip hurts ',\n",
       " 'sorry for the next tweet ',\n",
       " 'grr not down to go to school today ',\n",
       " 'jennlopez i had to get an hd tivo and just got it set up tonight in order to get channels    ',\n",
       " 'mouthsex i asked everyone how they were doing yesterday and not a single tweet back ',\n",
       " 'adame ruddy money i like it still waiting here oh what a surprise by state too hmmm seriously ',\n",
       " 'kalpenn i am so sad  kutner was my favorite of the new team',\n",
       " \"marcusmims wow i didn't get an quothelloquot u suck \",\n",
       " 'bedtime school tomorrow and i still have no books  being broke suckssss',\n",
       " 'seating here helping my baby with his paperswell he is forcing me too seat with him  im sleepy',\n",
       " 'synching my contacts from my old mobile to iphone import does not work well ',\n",
       " \"i can't concentrate \",\n",
       " \"i've just spent  hour to enter all the bureaucratic nonsense for march what a waste of my time \",\n",
       " 'nw more confused then ever ',\n",
       " 'not feeling well again stupid migraine making my tummy upset  and my whole body aches shoot me now',\n",
       " 'reading buyology before bedtime great premise but only turning out to be an quotokquot book  lots of info i already knew ',\n",
       " 'home i really wana sleep but due to wasting my free line in town i have an assignment to finish ',\n",
       " 'hellobebe i also send some updates in plurk but i upload photos on twitter  you didnt see any of my updates on plurk zero ',\n",
       " 'omg quotthe readerquot is making me ',\n",
       " \"cloudpimps d'oh at least you're getting a decent exchange rate at the moment sterling is still getting flogged \",\n",
       " 'tried to download tweetdeck but it wont download ',\n",
       " \"there's an inch of snow on the ground and counting i'm worried about the poor flowers \",\n",
       " \"dweeman why aren't you a happy camper \",\n",
       " \"dkoenigs thanks man  i'm so very grateful  i feel unworthy of such attention though because i'm in this because of myself \",\n",
       " \"twolfe  i miss u too i'm totally comin back tho lastnight was sooooooo much fun\",\n",
       " \"sniffinglue ohhh i love it ps i'm sad we didn't get to hang out \",\n",
       " 'and somehow i still end up in this place ',\n",
       " 'kisluvkis oh that is very sad poor boy ',\n",
       " ...]"
      ]
     },
     "execution_count": 32,
     "metadata": {},
     "output_type": "execute_result"
    }
   ],
   "source": [
    "tweets_lower=[]\n",
    "for i in tweets_alphanum:\n",
    "    tweets_lower.append(i.lower())\n",
    "tweets_lower"
   ]
  },
  {
   "cell_type": "code",
   "execution_count": 33,
   "metadata": {},
   "outputs": [
    {
     "name": "stdout",
     "output_type": "stream",
     "text": [
      "10 tokens mas comunes: [('i', 750906), ('to', 564540), ('the', 519719), ('a', 377907), ('my', 314054), ('and', 298430), ('you', 269918), ('is', 235930), ('it', 230782), ('for', 215705)]\n",
      "Numero de tokens: 20664174\n",
      "Tamaño del vocabulario: 808732\n"
     ]
    }
   ],
   "source": [
    "import collections as co\n",
    "tokens_list = []\n",
    "c = co.Counter() \n",
    "\n",
    "for text in tweets_lower:\n",
    "    tokens = text.split()\n",
    "    c.update(tokens)\n",
    "\n",
    "print('10 tokens mas comunes:',c.most_common(10))        \n",
    "print('Numero de tokens:',sum(c.values()))\n",
    "print('Tamaño del vocabulario:',len(c))"
   ]
  },
  {
   "cell_type": "markdown",
   "metadata": {},
   "source": [
    "Los *stopwords* o palabras vacías son términos que por lo general no guardan mucha información relevante para el procesamiento de la información textual (si no se analiza a nivel contextual). Por ello, para este caso, se removerán los stopwords de los títulos. Indique la cantidad de stopwords que está removiendo"
   ]
  },
  {
   "cell_type": "code",
   "execution_count": 34,
   "metadata": {},
   "outputs": [
    {
     "name": "stdout",
     "output_type": "stream",
     "text": [
      "[nltk_data] Downloading package stopwords to /home/alulab/nltk_data...\n",
      "[nltk_data]   Package stopwords is already up-to-date!\n",
      "['i', 'me', 'my', 'myself', 'we', 'our', 'ours', 'ourselves', 'you', \"you're\", \"you've\", \"you'll\", \"you'd\", 'your', 'yours', 'yourself', 'yourselves', 'he', 'him', 'his', 'himself', 'she', \"she's\", 'her', 'hers', 'herself', 'it', \"it's\", 'its', 'itself', 'they', 'them', 'their', 'theirs', 'themselves', 'what', 'which', 'who', 'whom', 'this', 'that', \"that'll\", 'these', 'those', 'am', 'is', 'are', 'was', 'were', 'be', 'been', 'being', 'have', 'has', 'had', 'having', 'do', 'does', 'did', 'doing', 'a', 'an', 'the', 'and', 'but', 'if', 'or', 'because', 'as', 'until', 'while', 'of', 'at', 'by', 'for', 'with', 'about', 'against', 'between', 'into', 'through', 'during', 'before', 'after', 'above', 'below', 'to', 'from', 'up', 'down', 'in', 'out', 'on', 'off', 'over', 'under', 'again', 'further', 'then', 'once', 'here', 'there', 'when', 'where', 'why', 'how', 'all', 'any', 'both', 'each', 'few', 'more', 'most', 'other', 'some', 'such', 'no', 'nor', 'not', 'only', 'own', 'same', 'so', 'than', 'too', 'very', 's', 't', 'can', 'will', 'just', 'don', \"don't\", 'should', \"should've\", 'now', 'd', 'll', 'm', 'o', 're', 've', 'y', 'ain', 'aren', \"aren't\", 'couldn', \"couldn't\", 'didn', \"didn't\", 'doesn', \"doesn't\", 'hadn', \"hadn't\", 'hasn', \"hasn't\", 'haven', \"haven't\", 'isn', \"isn't\", 'ma', 'mightn', \"mightn't\", 'mustn', \"mustn't\", 'needn', \"needn't\", 'shan', \"shan't\", 'shouldn', \"shouldn't\", 'wasn', \"wasn't\", 'weren', \"weren't\", 'won', \"won't\", 'wouldn', \"wouldn't\"]\n"
     ]
    }
   ],
   "source": [
    "import nltk\n",
    "nltk.download('stopwords')\n",
    "stopwords_eng = nltk.corpus.stopwords.words('english')\n",
    "print(stopwords_eng)"
   ]
  },
  {
   "cell_type": "code",
   "execution_count": 35,
   "metadata": {},
   "outputs": [
    {
     "name": "stdout",
     "output_type": "stream",
     "text": [
      "Cantidad de stopwords removidos: 8509854\n"
     ]
    }
   ],
   "source": [
    "tweets_lower_clean=[]\n",
    "count = 0\n",
    "for tweet in tweets_lower:\n",
    "    tweet_clean = ''\n",
    "    for token in tweet.split():\n",
    "        if token not in stopwords_eng:\n",
    "            tweet_clean += token\n",
    "            tweet_clean +=' '\n",
    "        else:\n",
    "            count+=1\n",
    "    tweets_lower_clean.append(tweet_clean)\n",
    "print(\"Cantidad de stopwords removidos:\",count)"
   ]
  },
  {
   "cell_type": "markdown",
   "metadata": {},
   "source": [
    "Con los tweets con solamente carácteres alfanuméricos en minuscula limpios de stopwords, se procederá a analizar los datos."
   ]
  },
  {
   "cell_type": "code",
   "execution_count": 36,
   "metadata": {},
   "outputs": [
    {
     "name": "stdout",
     "output_type": "stream",
     "text": [
      "10 tokens mas comunes: [(\"i'm\", 128139), ('good', 89368), ('day', 84761), ('get', 81573), ('like', 77766), ('go', 72945), ('today', 64615), ('going', 64079), ('love', 63430), ('work', 62857)]\n",
      "Numero de tokens: 12154320\n",
      "Tamaño del vocabulario: 808557\n"
     ]
    }
   ],
   "source": [
    "import collections as co\n",
    "tokens_list = []\n",
    "c = co.Counter() \n",
    "\n",
    "for text in tweets_lower_clean:\n",
    "    tokens = text.split()\n",
    "    c.update(tokens)\n",
    "\n",
    "print('10 tokens mas comunes:',c.most_common(10))        \n",
    "print('Numero de tokens:',sum(c.values()))\n",
    "print('Tamaño del vocabulario:',len(c))\n",
    "## Observacion: También se puede calcular el tamaño del vocabulario con\n",
    "## len(list(set(\" \".join(tweets_lower_clean).split())))"
   ]
  },
  {
   "cell_type": "markdown",
   "metadata": {},
   "source": [
    "Definimos funciones de preprocesamiento y limpieza de datos resumiendo todo el análisis previo, como también una función de cálculo de estádisticas según el diccionario."
   ]
  },
  {
   "cell_type": "code",
   "execution_count": 37,
   "metadata": {
    "collapsed": true
   },
   "outputs": [],
   "source": [
    "def preprocesar(tweets):\n",
    "    tweets_alphanum=[]\n",
    "    for i in tweets:\n",
    "        x = re.sub(r\"[^a-zA-Z' ]\",\"\",i)\n",
    "        tweets_alphanum.append(x)\n",
    "    tweets_lower=[]\n",
    "    for tweet in tweets_alphanum:\n",
    "        tweets_lower.append(tweet.lower())\n",
    "    import nltk\n",
    "    nltk.download('stopwords')\n",
    "    stopwords_eng = nltk.corpus.stopwords.words('english')\n",
    "    tweets_lower_clean=[]\n",
    "    for tweet in tweets_lower:\n",
    "        tweet_clean = ''\n",
    "        for token in tweet.split():\n",
    "            if token not in stopwords_eng:\n",
    "                tweet_clean += token + ' '\n",
    "        tweets_lower_clean.append(tweet_clean)\n",
    "    import collections as co\n",
    "    diccionario = co.Counter() \n",
    "    for text in tweets_lower_clean:\n",
    "        tokens = text.split()\n",
    "        diccionario.update(tokens)\n",
    "    return diccionario, tweets_lower_clean"
   ]
  },
  {
   "cell_type": "code",
   "execution_count": 38,
   "metadata": {
    "collapsed": true
   },
   "outputs": [],
   "source": [
    "def estadisticas(diccionario):\n",
    "    print('10 tokens más comunes:',diccionario.most_common(10))        \n",
    "    print('Número de tokens:',sum(diccionario.values()))\n",
    "    print('Tamaño del vocabulario:',len(diccionario))"
   ]
  },
  {
   "cell_type": "code",
   "execution_count": 39,
   "metadata": {},
   "outputs": [
    {
     "name": "stdout",
     "output_type": "stream",
     "text": [
      "[nltk_data] Downloading package stopwords to /home/alulab/nltk_data...\n",
      "[nltk_data]   Package stopwords is already up-to-date!\n"
     ]
    }
   ],
   "source": [
    "counters, tweets_lower_clean = preprocesar(tweets)"
   ]
  },
  {
   "cell_type": "code",
   "execution_count": 40,
   "metadata": {},
   "outputs": [
    {
     "name": "stdout",
     "output_type": "stream",
     "text": [
      "10 tokens más comunes: [(\"i'm\", 128139), ('good', 89368), ('day', 84761), ('get', 81573), ('like', 77766), ('go', 72945), ('today', 64615), ('going', 64079), ('love', 63430), ('work', 62857)]\n",
      "Número de tokens: 12154320\n",
      "Tamaño del vocabulario: 808557\n"
     ]
    }
   ],
   "source": [
    "estadisticas(counters)"
   ]
  },
  {
   "cell_type": "markdown",
   "metadata": {},
   "source": [
    "## 3. Clasificación"
   ]
  },
  {
   "cell_type": "markdown",
   "metadata": {},
   "source": [
    "Deben mostrar un reporte de clasificación (accuracy) con diversos algoritmos de aprendizaje supervisado tradicionales (adicionales a los mostrados en clase) usando los siguientes vectores:"
   ]
  },
  {
   "cell_type": "code",
   "execution_count": 41,
   "metadata": {
    "collapsed": true
   },
   "outputs": [],
   "source": [
    "import nltk\n",
    "import re\n",
    "def clean_tokens_profesor(text):\n",
    "    # first tokenize by sentence, then by word to ensure that punctuation is caught as it's own token\n",
    "    tokens = [word.lower() for sent in nltk.sent_tokenize(text) for word in nltk.word_tokenize(sent)]\n",
    "    filtered_tokens = []\n",
    "    # filter out any tokens not containing letters (e.g., numeric tokens, raw punctuation)\n",
    "    for token in tokens:\n",
    "        if re.search('[a-zA-Z]', token):\n",
    "            filtered_tokens.append(token)\n",
    "    return filtered_tokens"
   ]
  },
  {
   "cell_type": "code",
   "execution_count": 42,
   "metadata": {
    "collapsed": true
   },
   "outputs": [],
   "source": [
    "import nltk\n",
    "import re\n",
    "def clean_tokens(text):\n",
    "    filtered_tokens = set(\" \".join(text).split())\n",
    "    return filtered_tokens"
   ]
  },
  {
   "cell_type": "markdown",
   "metadata": {},
   "source": [
    "- **1**. Bag of Words (booleano)"
   ]
  },
  {
   "cell_type": "code",
   "execution_count": 45,
   "metadata": {},
   "outputs": [
    {
     "data": {
      "text/plain": [
       "array([ \"switchfoot httptwitpiccomyzl awww that's bummer shoulda got david carr third day \",\n",
       "       \"upset can't update facebook texting might cry result school today also blah \",\n",
       "       'kenichan dived many times ball managed save rest go bounds ', ...,\n",
       "       'ready mojo makeover ask details ',\n",
       "       'happy th birthday boo alll time tupac amaru shakur ',\n",
       "       'happy charitytuesday thenspcc sparkscharity speakinguphh '], \n",
       "      dtype='<U176')"
      ]
     },
     "execution_count": 45,
     "metadata": {},
     "output_type": "execute_result"
    }
   ],
   "source": [
    "from sklearn.feature_extraction.text import CountVectorizer\n",
    "\n",
    "import numpy as np\n",
    "text = np.array(tweets_lower_clean)\n",
    "text"
   ]
  },
  {
   "cell_type": "code",
   "execution_count": 46,
   "metadata": {},
   "outputs": [
    {
     "data": {
      "text/plain": [
       "(1600000, 10000)"
      ]
     },
     "execution_count": 46,
     "metadata": {},
     "output_type": "execute_result"
    }
   ],
   "source": [
    "vectorizer = CountVectorizer(max_features = 10000)\n",
    "txd_matrix = vectorizer.fit_transform(text)\n",
    "txd_matrix.shape"
   ]
  },
  {
   "cell_type": "code",
   "execution_count": 47,
   "metadata": {},
   "outputs": [
    {
     "name": "stdout",
     "output_type": "stream",
     "text": [
      "  (0, 2146)\t1\n",
      "  (0, 8756)\t1\n",
      "  (0, 1318)\t1\n",
      "  (0, 2138)\t1\n",
      "  (0, 3595)\t1\n",
      "  (0, 7779)\t1\n",
      "  (0, 1182)\t1\n",
      "  (0, 8712)\t1\n",
      "  (0, 568)\t1\n",
      "  (1, 868)\t1\n",
      "  (1, 242)\t1\n",
      "  (1, 8882)\t1\n",
      "  (1, 7542)\t1\n",
      "  (1, 7236)\t1\n",
      "  (1, 2012)\t1\n",
      "  (1, 5504)\t1\n",
      "  (1, 8694)\t1\n",
      "  (1, 2968)\t1\n",
      "  (1, 9280)\t1\n",
      "  (1, 1266)\t1\n",
      "  (1, 9296)\t1\n",
      "  (2, 3543)\t1\n",
      "  (2, 7227)\t1\n",
      "  (2, 7510)\t1\n",
      "  (2, 5270)\t1\n",
      "  :\t:\n",
      "  (1599994, 9472)\t1\n",
      "  (1599994, 3566)\t1\n",
      "  (1599994, 9773)\t1\n",
      "  (1599994, 8832)\t1\n",
      "  (1599995, 795)\t1\n",
      "  (1599995, 2875)\t1\n",
      "  (1599995, 9737)\t1\n",
      "  (1599995, 3064)\t1\n",
      "  (1599995, 7542)\t1\n",
      "  (1599996, 4369)\t1\n",
      "  (1599996, 6082)\t1\n",
      "  (1599996, 1850)\t1\n",
      "  (1599996, 3884)\t1\n",
      "  (1599997, 5251)\t1\n",
      "  (1599997, 5613)\t1\n",
      "  (1599997, 2300)\t1\n",
      "  (1599997, 458)\t1\n",
      "  (1599997, 7032)\t1\n",
      "  (1599998, 221)\t1\n",
      "  (1599998, 8698)\t1\n",
      "  (1599998, 846)\t1\n",
      "  (1599998, 968)\t1\n",
      "  (1599998, 3814)\t1\n",
      "  (1599998, 8832)\t1\n",
      "  (1599999, 3814)\t1\n"
     ]
    }
   ],
   "source": [
    "txd_matrix = CountVectorizer(binary=True,max_features = 10000).fit_transform(text)\n",
    "print(txd_matrix)"
   ]
  },
  {
   "cell_type": "code",
   "execution_count": 48,
   "metadata": {},
   "outputs": [
    {
     "data": {
      "text/plain": [
       "(1600000, 10000)"
      ]
     },
     "execution_count": 48,
     "metadata": {},
     "output_type": "execute_result"
    }
   ],
   "source": [
    "from sklearn.feature_extraction.text import TfidfVectorizer\n",
    "tf_matrix = TfidfVectorizer(max_features = 10000, use_idf=False).fit_transform(text)\n",
    "tfidf_matrix = TfidfVectorizer().fit_transform(text)\n",
    "tf_matrix.shape"
   ]
  },
  {
   "cell_type": "markdown",
   "metadata": {},
   "source": [
    "Definimos función que nos devuelve la matriz Bag of Words (booleano)."
   ]
  },
  {
   "cell_type": "code",
   "execution_count": 49,
   "metadata": {
    "collapsed": true
   },
   "outputs": [],
   "source": [
    "def Bag_Of_Words(tweets_lower_clean, max_words_dictionary = None):\n",
    "    from sklearn.feature_extraction.text import CountVectorizer\n",
    "    import numpy as np\n",
    "    text = np.array(tweets_lower_clean)\n",
    "    txd_matrix = CountVectorizer(binary=True,max_features = max_words_dictionary).fit_transform(text)\n",
    "    return txd_matrix"
   ]
  },
  {
   "cell_type": "markdown",
   "metadata": {},
   "source": [
    "- **2** TF-IDF"
   ]
  },
  {
   "cell_type": "code",
   "execution_count": 50,
   "metadata": {},
   "outputs": [
    {
     "name": "stdout",
     "output_type": "stream",
     "text": [
      "  (0, 569)\t0.297447998948\n",
      "  (0, 8710)\t0.235296305296\n",
      "  (0, 1181)\t0.355227854861\n",
      "  (0, 7779)\t0.418023218636\n",
      "  (0, 3593)\t0.190409828461\n",
      "  (0, 2137)\t0.334006343766\n",
      "  (0, 1317)\t0.481393667494\n",
      "  (0, 8754)\t0.380197072952\n",
      "  (0, 2145)\t0.176420743146\n",
      "  (1, 9293)\t0.312089210869\n",
      "  (1, 1265)\t0.193146011584\n",
      "  (1, 9277)\t0.292964831383\n",
      "  (1, 2965)\t0.292873668745\n",
      "  (1, 8692)\t0.366465402238\n",
      "  (1, 5502)\t0.257980594255\n",
      "  (1, 2011)\t0.291913346463\n",
      "  (1, 7235)\t0.37366234893\n",
      "  (1, 7540)\t0.228525503212\n",
      "  (1, 8878)\t0.177516669887\n",
      "  (1, 243)\t0.255267514947\n",
      "  (1, 870)\t0.345117596773\n",
      "  (2, 5292)\t0.339619681078\n",
      "  (2, 8835)\t0.347237270736\n",
      "  (2, 633)\t0.443687621568\n",
      "  (2, 5270)\t0.45806327023\n",
      "  :\t:\n",
      "  (1599994, 2773)\t0.355319278557\n",
      "  (1599994, 807)\t0.292498614727\n",
      "  (1599994, 4665)\t0.332436095793\n",
      "  (1599994, 907)\t0.3785636548\n",
      "  (1599995, 7540)\t0.418949004935\n",
      "  (1599995, 3062)\t0.439367601521\n",
      "  (1599995, 9735)\t0.48779613319\n",
      "  (1599995, 2873)\t0.453231123445\n",
      "  (1599995, 796)\t0.433675366124\n",
      "  (1599996, 3883)\t0.43217538643\n",
      "  (1599996, 1851)\t0.408237121\n",
      "  (1599996, 6076)\t0.423029266854\n",
      "  (1599996, 4369)\t0.683822438786\n",
      "  (1599997, 7031)\t0.294123526002\n",
      "  (1599997, 459)\t0.361195332997\n",
      "  (1599997, 2298)\t0.44363709603\n",
      "  (1599997, 5611)\t0.539715345105\n",
      "  (1599997, 5251)\t0.543067911184\n",
      "  (1599998, 8829)\t0.268112269235\n",
      "  (1599998, 3811)\t0.314432248966\n",
      "  (1599998, 969)\t0.417752972908\n",
      "  (1599998, 847)\t0.373652979825\n",
      "  (1599998, 8696)\t0.37986394453\n",
      "  (1599998, 222)\t0.608947830144\n",
      "  (1599999, 3811)\t1.0\n"
     ]
    },
    {
     "data": {
      "text/plain": [
       "(1600000, 10000)"
      ]
     },
     "execution_count": 50,
     "metadata": {},
     "output_type": "execute_result"
    }
   ],
   "source": [
    "from sklearn.feature_extraction.text import TfidfVectorizer\n",
    "\n",
    "X_1 = TfidfVectorizer(max_features=10000).fit_transform(tweets_lower_clean)\n",
    "print(X_1)\n",
    "X_1.shape"
   ]
  },
  {
   "cell_type": "markdown",
   "metadata": {},
   "source": [
    "Definimos función que nos devuelve la matriz TF-IDF."
   ]
  },
  {
   "cell_type": "code",
   "execution_count": 51,
   "metadata": {
    "collapsed": true
   },
   "outputs": [],
   "source": [
    "def TF_IDF(tweets_lower_clean, max_words_dictionary = None):\n",
    "    from sklearn.feature_extraction.text import TfidfVectorizer\n",
    "    X_1 = TfidfVectorizer(stop_words='english',max_features=10000).fit_transform(tweets_lower_clean)\n",
    "    return (X_1)"
   ]
  },
  {
   "cell_type": "code",
   "execution_count": 52,
   "metadata": {},
   "outputs": [
    {
     "data": {
      "text/plain": [
       "(1600000,)"
      ]
     },
     "execution_count": 52,
     "metadata": {},
     "output_type": "execute_result"
    }
   ],
   "source": [
    "y = np.array(category)\n",
    "y.shape"
   ]
  },
  {
   "cell_type": "markdown",
   "metadata": {},
   "source": [
    "- **3** Word Vectors (embeddings) de spacy"
   ]
  },
  {
   "cell_type": "code",
   "execution_count": 53,
   "metadata": {},
   "outputs": [],
   "source": [
    "import spacy"
   ]
  },
  {
   "cell_type": "code",
   "execution_count": 54,
   "metadata": {},
   "outputs": [],
   "source": [
    "#Deben instalar el modelo \"en_core_web_lg\"\n",
    "#nlp = spacy.load('en_core_web_lg')"
   ]
  },
  {
   "cell_type": "code",
   "execution_count": 55,
   "metadata": {
    "collapsed": true
   },
   "outputs": [],
   "source": [
    "#doc=nlp(u'this is a sentence.')"
   ]
  },
  {
   "cell_type": "markdown",
   "metadata": {},
   "source": [
    "Definimos función que nos devuelve la matriz Word Vectors (embeddings) de spacy."
   ]
  },
  {
   "cell_type": "code",
   "execution_count": 56,
   "metadata": {
    "collapsed": true
   },
   "outputs": [],
   "source": [
    "def Word_Vectors(tweets_lower_clean, max_words_dictionary = None):\n",
    "    return 0"
   ]
  },
  {
   "cell_type": "markdown",
   "metadata": {},
   "source": [
    "## 4. Pruebas"
   ]
  },
  {
   "cell_type": "markdown",
   "metadata": {},
   "source": [
    "Primero se define una función de ayuda para ejecutar un modelo y que se imprima el resultado de clasificación (accuracy) mediante validación cruzada (k_fold=5):"
   ]
  },
  {
   "cell_type": "code",
   "execution_count": 57,
   "metadata": {
    "collapsed": true
   },
   "outputs": [],
   "source": [
    "from sklearn.model_selection import cross_val_score\n",
    "from sklearn.svm import LinearSVC\n",
    "from sklearn.linear_model import SGDClassifier\n",
    "from sklearn.linear_model import Perceptron\n",
    "from sklearn.linear_model import PassiveAggressiveClassifier\n",
    "from sklearn.naive_bayes import BernoulliNB, MultinomialNB\n",
    "from sklearn.neighbors import KNeighborsClassifier\n",
    "from sklearn.neighbors import NearestCentroid\n",
    "from sklearn.ensemble import RandomForestClassifier\n",
    "from collections import Counter"
   ]
  },
  {
   "cell_type": "code",
   "execution_count": 58,
   "metadata": {
    "collapsed": true
   },
   "outputs": [],
   "source": [
    "def run_model(clf, X, y):\n",
    "    scores = cross_val_score(clf, X, y, cv=5)\n",
    "    print(\"%s accuracy: %0.2f (+/- %0.2f)\" % \\\n",
    "          (str(clf.__class__).split('.')[-1].replace('>','').replace(\"'\",''), \n",
    "          scores.mean(), scores.std() * 2))"
   ]
  },
  {
   "cell_type": "code",
   "execution_count": 59,
   "metadata": {
    "collapsed": true
   },
   "outputs": [],
   "source": [
    "def run_models(X,y):\n",
    "    #run_model(LinearSVC(), X, y)\n",
    "    run_model(SGDClassifier(), X, y)\n",
    "    run_model(Perceptron(), X, y)\n",
    "    run_model(PassiveAggressiveClassifier(), X, y)\n",
    "    run_model(BernoulliNB(), X, y)\n",
    "    #run_model(MultinomialNB(), X, y)\n",
    "    #run_model(KNeighborsClassifier(), X, y)\n",
    "    #run_model(NearestCentroid(), X, y)\n",
    "    #run_model(RandomForestClassifier(n_estimators=100, max_depth=10), X, y)"
   ]
  },
  {
   "cell_type": "markdown",
   "metadata": {},
   "source": [
    "Ahora efectuamos la prueba."
   ]
  },
  {
   "cell_type": "markdown",
   "metadata": {},
   "source": [
    "- **1**. Bag of Words (booleano)"
   ]
  },
  {
   "cell_type": "code",
   "execution_count": 60,
   "metadata": {},
   "outputs": [
    {
     "name": "stdout",
     "output_type": "stream",
     "text": [
      "SGDClassifier accuracy: 0.76 (+/- 0.00)\n",
      "Perceptron accuracy: 0.69 (+/- 0.01)\n",
      "PassiveAggressiveClassifier accuracy: 0.69 (+/- 0.01)\n",
      "BernoulliNB accuracy: 0.76 (+/- 0.01)\n"
     ]
    }
   ],
   "source": [
    "from sklearn.feature_extraction.text import CountVectorizer\n",
    "import numpy as np\n",
    "text = np.array(tweets_lower_clean)\n",
    "txd_matrix = CountVectorizer(binary=True,max_features = 10000).fit_transform(text)\n",
    "run_models(txd_matrix,y)"
   ]
  },
  {
   "cell_type": "markdown",
   "metadata": {},
   "source": [
    "- **2** TF-IDF"
   ]
  },
  {
   "cell_type": "code",
   "execution_count": 61,
   "metadata": {},
   "outputs": [
    {
     "name": "stdout",
     "output_type": "stream",
     "text": [
      "SGDClassifier accuracy: 0.75 (+/- 0.01)\n",
      "Perceptron accuracy: 0.68 (+/- 0.01)\n",
      "PassiveAggressiveClassifier accuracy: 0.72 (+/- 0.01)\n",
      "BernoulliNB accuracy: 0.75 (+/- 0.01)\n"
     ]
    }
   ],
   "source": [
    "from sklearn.feature_extraction.text import TfidfVectorizer\n",
    "X_1 = TfidfVectorizer(stop_words='english',max_features=10000).fit_transform(tweets_lower_clean)\n",
    "run_models(X_1,y)"
   ]
  }
 ],
 "metadata": {
  "colab": {
   "default_view": {},
   "name": "LAB 9 - GRUPO 8.ipynb",
   "provenance": [],
   "version": "0.3.2",
   "views": {}
  },
  "kernelspec": {
   "display_name": "Python 3",
   "language": "python",
   "name": "python3"
  },
  "language_info": {
   "codemirror_mode": {
    "name": "ipython",
    "version": 3
   },
   "file_extension": ".py",
   "mimetype": "text/x-python",
   "name": "python",
   "nbconvert_exporter": "python",
   "pygments_lexer": "ipython3",
   "version": "3.6.1"
  }
 },
 "nbformat": 4,
 "nbformat_minor": 1
}
